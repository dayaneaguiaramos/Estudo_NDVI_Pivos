{
  "cells": [
    {
      "cell_type": "markdown",
      "metadata": {
        "id": "view-in-github",
        "colab_type": "text"
      },
      "source": [
        "<a href=\"https://colab.research.google.com/github/dayaneaguiaramos/Estudo_NDVI_Pivos/blob/main/Case_Pivos_atualizado.ipynb\" target=\"_parent\"><img src=\"https://colab.research.google.com/assets/colab-badge.svg\" alt=\"Open In Colab\"/></a>"
      ]
    },
    {
      "cell_type": "markdown",
      "metadata": {
        "id": "tP9WDtL7ntbP"
      },
      "source": [
        "Monitoramento de Indices de Vegetação com o Google Earth Engine\n",
        "\n",
        "1- Desenvolver um script em Python utilizando a API do Google Earth Engine para monitorar e analisar índices de vegetação (NDVI) em uma área agrícola específica ao longo de um período de tempo.. Utilizando imagens de satélite, você precisa criar um algoritmo que calcule o Índice de Vegetação por Diferença Normalizada (NDVI) para uma área determinada e analise as mudanças ao longo de um período de um ano."
      ]
    },
    {
      "cell_type": "code",
      "execution_count": null,
      "metadata": {
        "id": "FWSv1mHMn7bq"
      },
      "outputs": [],
      "source": [
        "# 1 Configurando o Ambiente (Instalando e importanto as Bibliotecas)\n",
        "# 2 Escolher uma área agrícola para o estudo\n",
        "# 3 Importando os dados de satelite (imagens do Sentinel-2) para um periodo de um ano\n",
        "# 4 Desenvolver, algoritmo para calcular o NDVI utilizando as bandas de infravermelho próximo (NIR) e vermelho (RED) das imagens de satélite.\n",
        "# 5 Aplicar o algoritmo às imagens importadas para gerar um série temporal de NDVI\n",
        "# 6 Analisar a série temporal de NDVI para identificar tendencias e padrões na saude das plantações ao longo do ano\n",
        "# 7 Gerar gráficos que ilustrem a variação do NDVI ao longo do tempo\n",
        "# 8 Criar visualizações interativas utilizando a biblioteca geemap para mostrar a área de estudo e a variação do NDVI\n",
        "# 9 Exportar os resultados (gráficos e dados) para arquivos que possam ser compartilhados com a equipe de tomada de decisão.\n",
        "\n"
      ]
    },
    {
      "cell_type": "markdown",
      "metadata": {
        "id": "xr-xX33C32zd"
      },
      "source": [
        " Caso de Estudo - Área agricula no municipio de Paracatu\n",
        "\n"
      ]
    },
    {
      "cell_type": "code",
      "execution_count": null,
      "metadata": {
        "colab": {
          "base_uri": "https://localhost:8080/"
        },
        "id": "b7n7lPH4pahI",
        "outputId": "18940526-2166-4041-a24c-c155cd8e8aef"
      },
      "outputs": [
        {
          "output_type": "stream",
          "name": "stdout",
          "text": [
            "Requirement already satisfied: numpy in /usr/local/lib/python3.10/dist-packages (1.25.2)\n",
            "\u001b[2K     \u001b[90m━━━━━━━━━━━━━━━━━━━━━━━━━━━━━━━━━━━━━━━━\u001b[0m \u001b[32m1.6/1.6 MB\u001b[0m \u001b[31m12.4 MB/s\u001b[0m eta \u001b[36m0:00:00\u001b[0m\n",
            "\u001b[?25h"
          ]
        }
      ],
      "source": [
        "# Instalando Bibliotecas necessarias\n",
        "!pip install matplotlib -q\n",
        "!pip install numpy\n",
        "!pip install geemap -q\n",
        "!pip install geopandas -q"
      ]
    },
    {
      "cell_type": "code",
      "execution_count": null,
      "metadata": {
        "id": "66nVV4z5p4EY"
      },
      "outputs": [],
      "source": [
        "# Importando as Bibliotecas (GEE, matplotlib, numpy, pandas)\n",
        "import matplotlib.pyplot as plt\n",
        "import pandas as pd\n",
        "import numpy as np\n",
        "import geopandas as gpd\n",
        "import geemap\n",
        "import ee\n",
        "import json"
      ]
    },
    {
      "cell_type": "code",
      "execution_count": null,
      "metadata": {
        "colab": {
          "base_uri": "https://localhost:8080/",
          "height": 17
        },
        "id": "tDe8oMvcSWT7",
        "outputId": "ade69960-da77-4d32-f06b-970dad58f9b9"
      },
      "outputs": [
        {
          "output_type": "display_data",
          "data": {
            "text/plain": [
              "<IPython.core.display.HTML object>"
            ],
            "text/html": [
              "\n",
              "            <style>\n",
              "                .geemap-dark {\n",
              "                    --jp-widgets-color: white;\n",
              "                    --jp-widgets-label-color: white;\n",
              "                    --jp-ui-font-color1: white;\n",
              "                    --jp-layout-color2: #454545;\n",
              "                    background-color: #383838;\n",
              "                }\n",
              "\n",
              "                .geemap-dark .jupyter-button {\n",
              "                    --jp-layout-color3: #383838;\n",
              "                }\n",
              "\n",
              "                .geemap-colab {\n",
              "                    background-color: var(--colab-primary-surface-color, white);\n",
              "                }\n",
              "\n",
              "                .geemap-colab .jupyter-button {\n",
              "                    --jp-layout-color3: var(--colab-primary-surface-color, white);\n",
              "                }\n",
              "            </style>\n",
              "            "
            ]
          },
          "metadata": {}
        }
      ],
      "source": [
        "# Inicializando o API do GEE\n",
        "ee.Authenticate()\n",
        "# Inicialize o API do GEE\n",
        "ee.Initialize(project=\"ee-projetomivegetacao\")\n"
      ]
    },
    {
      "cell_type": "code",
      "execution_count": null,
      "metadata": {
        "colab": {
          "base_uri": "https://localhost:8080/",
          "height": 34
        },
        "id": "C2nZZ6Dmimg_",
        "outputId": "14ab70c7-998b-4bc8-a5a8-f2e9213be983"
      },
      "outputs": [
        {
          "output_type": "display_data",
          "data": {
            "text/plain": [
              "<IPython.core.display.HTML object>"
            ],
            "text/html": [
              "\n",
              "            <style>\n",
              "                .geemap-dark {\n",
              "                    --jp-widgets-color: white;\n",
              "                    --jp-widgets-label-color: white;\n",
              "                    --jp-ui-font-color1: white;\n",
              "                    --jp-layout-color2: #454545;\n",
              "                    background-color: #383838;\n",
              "                }\n",
              "\n",
              "                .geemap-dark .jupyter-button {\n",
              "                    --jp-layout-color3: #383838;\n",
              "                }\n",
              "\n",
              "                .geemap-colab {\n",
              "                    background-color: var(--colab-primary-surface-color, white);\n",
              "                }\n",
              "\n",
              "                .geemap-colab .jupyter-button {\n",
              "                    --jp-layout-color3: var(--colab-primary-surface-color, white);\n",
              "                }\n",
              "            </style>\n",
              "            "
            ]
          },
          "metadata": {}
        },
        {
          "output_type": "stream",
          "name": "stdout",
          "text": [
            "Mounted at /content/drive\n"
          ]
        }
      ],
      "source": [
        "#  Montando um acessando para o google drive\n",
        "from google.colab import drive\n",
        "drive.mount(\"/content/drive\", force_remount=True)"
      ]
    },
    {
      "cell_type": "code",
      "execution_count": null,
      "metadata": {
        "colab": {
          "base_uri": "https://localhost:8080/",
          "height": 34
        },
        "id": "8YIvOxSoimLd",
        "outputId": "62ff6c3c-d020-4d2f-a7f7-1119344dcd9b"
      },
      "outputs": [
        {
          "output_type": "display_data",
          "data": {
            "text/plain": [
              "<IPython.core.display.HTML object>"
            ],
            "text/html": [
              "\n",
              "            <style>\n",
              "                .geemap-dark {\n",
              "                    --jp-widgets-color: white;\n",
              "                    --jp-widgets-label-color: white;\n",
              "                    --jp-ui-font-color1: white;\n",
              "                    --jp-layout-color2: #454545;\n",
              "                    background-color: #383838;\n",
              "                }\n",
              "\n",
              "                .geemap-dark .jupyter-button {\n",
              "                    --jp-layout-color3: #383838;\n",
              "                }\n",
              "\n",
              "                .geemap-colab {\n",
              "                    background-color: var(--colab-primary-surface-color, white);\n",
              "                }\n",
              "\n",
              "                .geemap-colab .jupyter-button {\n",
              "                    --jp-layout-color3: var(--colab-primary-surface-color, white);\n",
              "                }\n",
              "            </style>\n",
              "            "
            ]
          },
          "metadata": {}
        },
        {
          "output_type": "stream",
          "name": "stdout",
          "text": [
            "Drive already mounted at /content/drive; to attempt to forcibly remount, call drive.mount(\"/content/drive\", force_remount=True).\n"
          ]
        }
      ],
      "source": [
        "from google.colab import drive\n",
        "drive.mount(\"/content/drive\")"
      ]
    },
    {
      "cell_type": "code",
      "execution_count": null,
      "metadata": {
        "colab": {
          "base_uri": "https://localhost:8080/",
          "height": 89
        },
        "id": "1im6zuxY4G4U",
        "outputId": "4eb999d4-4a52-4ae7-96dc-7a67c42b4b97"
      },
      "outputs": [
        {
          "output_type": "display_data",
          "data": {
            "text/plain": [
              "<IPython.core.display.HTML object>"
            ],
            "text/html": [
              "\n",
              "            <style>\n",
              "                .geemap-dark {\n",
              "                    --jp-widgets-color: white;\n",
              "                    --jp-widgets-label-color: white;\n",
              "                    --jp-ui-font-color1: white;\n",
              "                    --jp-layout-color2: #454545;\n",
              "                    background-color: #383838;\n",
              "                }\n",
              "\n",
              "                .geemap-dark .jupyter-button {\n",
              "                    --jp-layout-color3: #383838;\n",
              "                }\n",
              "\n",
              "                .geemap-colab {\n",
              "                    background-color: var(--colab-primary-surface-color, white);\n",
              "                }\n",
              "\n",
              "                .geemap-colab .jupyter-button {\n",
              "                    --jp-layout-color3: var(--colab-primary-surface-color, white);\n",
              "                }\n",
              "            </style>\n",
              "            "
            ]
          },
          "metadata": {}
        },
        {
          "output_type": "execute_result",
          "data": {
            "text/plain": [
              "   id            Nome                                           geometry\n",
              "0   1  area_de_estudo  POLYGON ((-46.97244 -17.27223, -46.97128 -17.2..."
            ],
            "text/html": [
              "\n",
              "  <div id=\"df-1fbe23e0-61e8-484a-92bb-ef9602c121b7\" class=\"colab-df-container\">\n",
              "    <div>\n",
              "<style scoped>\n",
              "    .dataframe tbody tr th:only-of-type {\n",
              "        vertical-align: middle;\n",
              "    }\n",
              "\n",
              "    .dataframe tbody tr th {\n",
              "        vertical-align: top;\n",
              "    }\n",
              "\n",
              "    .dataframe thead th {\n",
              "        text-align: right;\n",
              "    }\n",
              "</style>\n",
              "<table border=\"1\" class=\"dataframe\">\n",
              "  <thead>\n",
              "    <tr style=\"text-align: right;\">\n",
              "      <th></th>\n",
              "      <th>id</th>\n",
              "      <th>Nome</th>\n",
              "      <th>geometry</th>\n",
              "    </tr>\n",
              "  </thead>\n",
              "  <tbody>\n",
              "    <tr>\n",
              "      <th>0</th>\n",
              "      <td>1</td>\n",
              "      <td>area_de_estudo</td>\n",
              "      <td>POLYGON ((-46.97244 -17.27223, -46.97128 -17.2...</td>\n",
              "    </tr>\n",
              "  </tbody>\n",
              "</table>\n",
              "</div>\n",
              "    <div class=\"colab-df-buttons\">\n",
              "\n",
              "  <div class=\"colab-df-container\">\n",
              "    <button class=\"colab-df-convert\" onclick=\"convertToInteractive('df-1fbe23e0-61e8-484a-92bb-ef9602c121b7')\"\n",
              "            title=\"Convert this dataframe to an interactive table.\"\n",
              "            style=\"display:none;\">\n",
              "\n",
              "  <svg xmlns=\"http://www.w3.org/2000/svg\" height=\"24px\" viewBox=\"0 -960 960 960\">\n",
              "    <path d=\"M120-120v-720h720v720H120Zm60-500h600v-160H180v160Zm220 220h160v-160H400v160Zm0 220h160v-160H400v160ZM180-400h160v-160H180v160Zm440 0h160v-160H620v160ZM180-180h160v-160H180v160Zm440 0h160v-160H620v160Z\"/>\n",
              "  </svg>\n",
              "    </button>\n",
              "\n",
              "  <style>\n",
              "    .colab-df-container {\n",
              "      display:flex;\n",
              "      gap: 12px;\n",
              "    }\n",
              "\n",
              "    .colab-df-convert {\n",
              "      background-color: #E8F0FE;\n",
              "      border: none;\n",
              "      border-radius: 50%;\n",
              "      cursor: pointer;\n",
              "      display: none;\n",
              "      fill: #1967D2;\n",
              "      height: 32px;\n",
              "      padding: 0 0 0 0;\n",
              "      width: 32px;\n",
              "    }\n",
              "\n",
              "    .colab-df-convert:hover {\n",
              "      background-color: #E2EBFA;\n",
              "      box-shadow: 0px 1px 2px rgba(60, 64, 67, 0.3), 0px 1px 3px 1px rgba(60, 64, 67, 0.15);\n",
              "      fill: #174EA6;\n",
              "    }\n",
              "\n",
              "    .colab-df-buttons div {\n",
              "      margin-bottom: 4px;\n",
              "    }\n",
              "\n",
              "    [theme=dark] .colab-df-convert {\n",
              "      background-color: #3B4455;\n",
              "      fill: #D2E3FC;\n",
              "    }\n",
              "\n",
              "    [theme=dark] .colab-df-convert:hover {\n",
              "      background-color: #434B5C;\n",
              "      box-shadow: 0px 1px 3px 1px rgba(0, 0, 0, 0.15);\n",
              "      filter: drop-shadow(0px 1px 2px rgba(0, 0, 0, 0.3));\n",
              "      fill: #FFFFFF;\n",
              "    }\n",
              "  </style>\n",
              "\n",
              "    <script>\n",
              "      const buttonEl =\n",
              "        document.querySelector('#df-1fbe23e0-61e8-484a-92bb-ef9602c121b7 button.colab-df-convert');\n",
              "      buttonEl.style.display =\n",
              "        google.colab.kernel.accessAllowed ? 'block' : 'none';\n",
              "\n",
              "      async function convertToInteractive(key) {\n",
              "        const element = document.querySelector('#df-1fbe23e0-61e8-484a-92bb-ef9602c121b7');\n",
              "        const dataTable =\n",
              "          await google.colab.kernel.invokeFunction('convertToInteractive',\n",
              "                                                    [key], {});\n",
              "        if (!dataTable) return;\n",
              "\n",
              "        const docLinkHtml = 'Like what you see? Visit the ' +\n",
              "          '<a target=\"_blank\" href=https://colab.research.google.com/notebooks/data_table.ipynb>data table notebook</a>'\n",
              "          + ' to learn more about interactive tables.';\n",
              "        element.innerHTML = '';\n",
              "        dataTable['output_type'] = 'display_data';\n",
              "        await google.colab.output.renderOutput(dataTable, element);\n",
              "        const docLink = document.createElement('div');\n",
              "        docLink.innerHTML = docLinkHtml;\n",
              "        element.appendChild(docLink);\n",
              "      }\n",
              "    </script>\n",
              "  </div>\n",
              "\n",
              "\n",
              "  <div id=\"id_75dc16b1-5053-44ef-a0ac-4c1d5b9fa384\">\n",
              "    <style>\n",
              "      .colab-df-generate {\n",
              "        background-color: #E8F0FE;\n",
              "        border: none;\n",
              "        border-radius: 50%;\n",
              "        cursor: pointer;\n",
              "        display: none;\n",
              "        fill: #1967D2;\n",
              "        height: 32px;\n",
              "        padding: 0 0 0 0;\n",
              "        width: 32px;\n",
              "      }\n",
              "\n",
              "      .colab-df-generate:hover {\n",
              "        background-color: #E2EBFA;\n",
              "        box-shadow: 0px 1px 2px rgba(60, 64, 67, 0.3), 0px 1px 3px 1px rgba(60, 64, 67, 0.15);\n",
              "        fill: #174EA6;\n",
              "      }\n",
              "\n",
              "      [theme=dark] .colab-df-generate {\n",
              "        background-color: #3B4455;\n",
              "        fill: #D2E3FC;\n",
              "      }\n",
              "\n",
              "      [theme=dark] .colab-df-generate:hover {\n",
              "        background-color: #434B5C;\n",
              "        box-shadow: 0px 1px 3px 1px rgba(0, 0, 0, 0.15);\n",
              "        filter: drop-shadow(0px 1px 2px rgba(0, 0, 0, 0.3));\n",
              "        fill: #FFFFFF;\n",
              "      }\n",
              "    </style>\n",
              "    <button class=\"colab-df-generate\" onclick=\"generateWithVariable('gdf')\"\n",
              "            title=\"Generate code using this dataframe.\"\n",
              "            style=\"display:none;\">\n",
              "\n",
              "  <svg xmlns=\"http://www.w3.org/2000/svg\" height=\"24px\"viewBox=\"0 0 24 24\"\n",
              "       width=\"24px\">\n",
              "    <path d=\"M7,19H8.4L18.45,9,17,7.55,7,17.6ZM5,21V16.75L18.45,3.32a2,2,0,0,1,2.83,0l1.4,1.43a1.91,1.91,0,0,1,.58,1.4,1.91,1.91,0,0,1-.58,1.4L9.25,21ZM18.45,9,17,7.55Zm-12,3A5.31,5.31,0,0,0,4.9,8.1,5.31,5.31,0,0,0,1,6.5,5.31,5.31,0,0,0,4.9,4.9,5.31,5.31,0,0,0,6.5,1,5.31,5.31,0,0,0,8.1,4.9,5.31,5.31,0,0,0,12,6.5,5.46,5.46,0,0,0,6.5,12Z\"/>\n",
              "  </svg>\n",
              "    </button>\n",
              "    <script>\n",
              "      (() => {\n",
              "      const buttonEl =\n",
              "        document.querySelector('#id_75dc16b1-5053-44ef-a0ac-4c1d5b9fa384 button.colab-df-generate');\n",
              "      buttonEl.style.display =\n",
              "        google.colab.kernel.accessAllowed ? 'block' : 'none';\n",
              "\n",
              "      buttonEl.onclick = () => {\n",
              "        google.colab.notebook.generateWithVariable('gdf');\n",
              "      }\n",
              "      })();\n",
              "    </script>\n",
              "  </div>\n",
              "\n",
              "    </div>\n",
              "  </div>\n"
            ],
            "application/vnd.google.colaboratory.intrinsic+json": {
              "type": "dataframe",
              "variable_name": "gdf",
              "summary": "{\n  \"name\": \"gdf\",\n  \"rows\": 1,\n  \"fields\": [\n    {\n      \"column\": \"id\",\n      \"properties\": {\n        \"dtype\": \"number\",\n        \"std\": null,\n        \"min\": 1,\n        \"max\": 1,\n        \"num_unique_values\": 1,\n        \"samples\": [\n          1\n        ],\n        \"semantic_type\": \"\",\n        \"description\": \"\"\n      }\n    },\n    {\n      \"column\": \"Nome\",\n      \"properties\": {\n        \"dtype\": \"string\",\n        \"num_unique_values\": 1,\n        \"samples\": [\n          \"area_de_estudo\"\n        ],\n        \"semantic_type\": \"\",\n        \"description\": \"\"\n      }\n    },\n    {\n      \"column\": \"geometry\",\n      \"properties\": {\n        \"dtype\": \"geometry\",\n        \"num_unique_values\": 1,\n        \"samples\": [\n          \"POLYGON ((-46.97243941554349 -17.272226821788372, -46.971283424180015 -17.273170119408007, -46.96971232682695 -17.27583440734657, -46.96935502040553 -17.275734058216628, -46.96822004706686 -17.274931263209343, -46.96691692952985 -17.274509794430184, -46.966160280637396 -17.274389374601913, -46.966013154463866 -17.274208744711927, -46.96534057767058 -17.274208744711927, -46.96445782062938 -17.274429514553418, -46.9637432077865 -17.274871053442777, -46.962986558894045 -17.27541294063349, -46.962377036175134 -17.275713988384084, -46.96193565765453 -17.276195663761786, -46.96084272036544 -17.277078732016673, -46.959812837150714 -17.27808221353158, -46.95903517023347 -17.279888466482376, -46.958867026035136 -17.280289853621525, -46.95850971961371 -17.280671170593468, -46.95842564751456 -17.280510616175192, -46.95817343121707 -17.280520650830432, -46.957753070721274 -17.281253179186447, -46.95755339948577 -17.281975670053423, -46.95711202096516 -17.283771850342365, -46.9568177686181 -17.285598116248025, -46.95685980466768 -17.287564843888163, -46.95774256170886 -17.288247173058316, -46.95870939084922 -17.288287309989567, -46.9620302387661 -17.288568268263287, -46.963921860997225 -17.28941114051156, -46.96497276223674 -17.290013189754546, -46.96665420421997 -17.290775782635478, -46.968335646203194 -17.2934247649343, -46.9692184032444 -17.293986665368703, -46.96963876374019 -17.295311138175553, -46.96997505213684 -17.295311138175553, -46.970059124236 -17.295893100485085, -46.970017088186424 -17.29637472307342, -46.969596727690615 -17.296475060953977, -46.96909229509565 -17.296153979543593, -46.968629898550255 -17.295632221056696, -46.967368817062834 -17.297077087088276, -46.96554024890607 -17.2958328975729, -46.965876537302734 -17.294909783786252, -46.965834501253156 -17.29344483283651, -46.965981627426686 -17.29258191106586, -46.965435158782135 -17.291417963663537, -46.9646364738401 -17.29061523702837, -46.96345946445183 -17.290093462838165, -46.961757004443825 -17.289451277189023, -46.96116849974968 -17.289270662071527, -46.960769157278634 -17.290449674224337, -46.95818919473562 -17.290063360435873, -46.958352084427744 -17.289165303171114, -46.95715405701474 -17.288748884069953, -46.95654453429582 -17.288628473551864, -46.95602959268846 -17.288126762212062, -46.95568279527943 -17.287755494940303, -46.955451597006736 -17.286571448369326, -46.954884110337396 -17.286671791594397, -46.95431662366804 -17.286651722953756, -46.95408542539535 -17.286410899095458, -46.954022371320974 -17.28520677507884, -46.95345488465164 -17.28476526096633, -46.95278230785834 -17.283741746906454, -46.950512361180984 -17.28141373295739, -46.94988182043728 -17.28150404439203, -46.949240770681165 -17.28180508218766, -46.94848412178873 -17.28208605035294, -46.94801121623093 -17.28196563547745, -46.947706454871486 -17.28183518594016, -46.947359657462435 -17.281875324269162, -46.94698133301621 -17.281895393430393, -46.946771152768314 -17.28244729450699, -46.9463507922725 -17.283310263784333, -46.94614061202459 -17.2835510916981, -46.94574126955359 -17.283741746906454, -46.9452578549834 -17.283731712426718, -46.94479545843801 -17.283661471053314, -46.94433306189262 -17.284002643187474, -46.94367099411173 -17.284945880503955, -46.94346081386383 -17.286270418365962, -46.943292669665496 -17.287354124074515, -46.942325840525136 -17.288437823403818, -46.940560326442764 -17.2901235652355, -46.940308110145274 -17.290765748539133, -46.939551461252826 -17.29104670302992, -46.939215172856166 -17.291849427783333, -46.93963553335198 -17.29301337245695, -46.93917313680659 -17.294498394628693, -46.937071334327555 -17.295742593167695, -46.93723947852589 -17.296465027168384, -46.93723947852589 -17.297147323342294, -46.936735045930924 -17.29790988666008, -46.93538989234434 -17.29815069547221, -46.93501156789811 -17.299394869313534, -46.934864441724585 -17.299916617129895, -46.935200730121224 -17.300578833381152, -46.93538989234435 -17.30124104724844, -46.935810252840156 -17.30234473172931, -46.935537018517884 -17.303067139803417, -46.93538989234435 -17.30411061312329, -46.935873306914516 -17.305414946447414, -46.936735045930924 -17.30651860588039, -46.938038163467915 -17.307281130346567, -46.93948840717846 -17.307682457742843, -46.94079152471546 -17.30734132951185, -46.941106795087315 -17.30734132951185, -46.94066541656671 -17.307883121112496, -46.94045523631882 -17.308384778578525, -46.94038167323204 -17.308886434675806, -46.94038167323204 -17.309337923993052, -46.94070745261629 -17.310200767159536, -46.94136952039719 -17.310893045376737, -46.94209464225246 -17.31133449679166, -46.94286180015731 -17.311374628685908, -46.94441713399179 -17.311023474314204, -46.945131746834655 -17.310270998401844, -46.945552107330464 -17.30932789090916, -46.945583634367644 -17.309167361492406, -46.94781154499541 -17.309147295305458, -46.95012352772237 -17.30928775856811, -46.95092221266438 -17.30904696433786, -46.95230940230056 -17.30796338639904, -46.95353895675075 -17.30768747432972, -46.95357048378798 -17.30868577240115, -46.9535284477384 -17.31141476057138, -46.954243060581256 -17.312337791519326, -46.95542006996951 -17.312819371043513, -46.9565550433082 -17.313060160332455, -46.95882498998556 -17.314103576939498, -46.96054846801837 -17.31462528302173, -46.961115954687706 -17.314384495783173, -46.96166242333226 -17.314866069944824, -46.96336488334028 -17.31516705315507, -46.96464698285249 -17.315407839368373, -46.9657189021168 -17.31534764284462, -46.96689591150505 -17.314966397736345, -46.96761052434793 -17.31532757733232, -46.966391478910076 -17.316210457800924, -46.965466685819315 -17.316170326962553, -46.96471003692686 -17.316531504192454, -46.964289676431044 -17.31685255002311, -46.96168344135704 -17.316370981066797, -46.95878295393598 -17.314966397736345, -46.955756358366166 -17.313842723343043, -46.95415898848211 -17.31344140939484, -46.953654555887134 -17.314605217430568, -46.953381321564834 -17.317238807544737, -46.953644046874714 -17.31979711608623, -46.954463749841544 -17.322235000490906, -46.95865684578723 -17.32158791087064, -46.959581638878014 -17.32134713275568, -46.95987589122508 -17.321668170172174, -46.96092679246459 -17.32190894786638, -46.96109493666292 -17.32251089072124, -46.96063254011753 -17.32319309023898, -46.96061152209277 -17.329011747859365, -46.96637046088531 -17.32871078733116, -46.96653860508363 -17.33246272665799, -46.96843022731476 -17.332583108468516, -46.96410051420795 -17.335231488328386, -46.9574588183742 -17.334268445527375, -46.95842564751456 -17.338240964514757, -46.94337674176468 -17.34129051670949, -46.944044064051745 -17.34465599985588, -46.942194477870196 -17.344555688285137, -46.94300367182459 -17.348568108328745, -46.94347657738238 -17.348628293961237, -46.94359217651871 -17.348738634236163, -46.943571158493924 -17.349230149199855, -46.943571158493924 -17.349480921633038, -46.943854901828615 -17.34957119962504, -46.944191190225254 -17.349490952523233, -46.944537987634284 -17.349400674491733, -46.94477969491938 -17.34919002557873, -46.94490580306813 -17.349169963764872, -46.945000384179686 -17.349400674491733, -46.94524209146477 -17.349500983412877, -46.945767542084525 -17.349490952523233, -46.94625095665471 -17.349490952523233, -46.947259821844646 -17.349942342014153, -46.9479744346875 -17.350343576184493, -46.948163596910625 -17.351085857085348, -46.94841581320811 -17.351808073456358, -46.948773119629536 -17.351868258025554, -46.94919348012535 -17.351888319544226, -46.949025335927026 -17.352209303544516, -46.949025335927026 -17.352550348429155, -46.94952976852199 -17.35311206803285, -46.94991860198063 -17.35310203734073, -46.95022336334008 -17.35299169969121, -46.95044405260038 -17.352349733867953, -46.95052812469954 -17.351737858100673, -46.95057016074913 -17.35126641144477, -46.9506016877863 -17.350714717010483, -46.950780340997035 -17.35049403877204, -46.9514844448275 -17.3502934219612, -46.951925823348105 -17.35202875011349, -46.95116917445565 -17.35287133127055, -46.95121121050523 -17.35379415380956, -46.95146342680271 -17.355158317750547, -46.95196785939768 -17.355720029364203, -46.95327097693468 -17.356161372996127, -46.954153733975886 -17.356161372996127, -46.95591924805828 -17.35507807309381, -46.958147158686046 -17.35307194526108, -46.9589038075785 -17.352510225534484, -46.96117375425587 -17.35110591868962, -46.962350763644125 -17.350865179293525, -46.96483089056938 -17.34897937642379, -46.96533532316435 -17.348016405777308, -46.966365206379095 -17.347474732566827, -46.96760526984171 -17.346511754020657, -46.96815173848628 -17.34530802372871, -46.96825682861023 -17.34418453499647, -46.96802563033753 -17.34296072694115, -46.96701676514756 -17.34161653491589, -46.96796257626314 -17.340493023578524, -46.9689294054035 -17.34061340012228, -46.9702325229405 -17.340653525619324, -46.972208217270804 -17.339891139675217, -46.97367947900613 -17.33776446740663, -46.97363744295653 -17.336360047680927, -46.9748144523448 -17.336319921245142, -46.976874218774256 -17.336520553336342, -46.97813530026168 -17.336921816860794, -46.98191854472393 -17.337684215140378, -46.98402034720296 -17.33840648427333, -46.98637436597947 -17.338847869566347, -46.98734119511984 -17.339369505362168, -46.98839209635935 -17.339570134119587, -46.98923281735096 -17.339570134119587, -46.99003150229301 -17.3402522702541, -46.98998946624341 -17.339289253797784, -46.991250547730836 -17.338847869566347, -46.992217376871196 -17.338245980267207, -46.993226242061134 -17.337202700805946, -46.993772710705684 -17.335878529872545, -46.99095629538378 -17.33499574394308, -46.987467303268566 -17.334032699905265, -46.98519735659122 -17.33254799711527, -46.983726094855896 -17.331103409902973, -46.9819605807735 -17.329979834213187, -46.981498184228116 -17.32881612357214, -46.9813300400298 -17.32777279052063, -46.98090967953399 -17.327371506999373, -46.98044728298859 -17.325706171016233, -46.979396381749076 -17.32424146544181, -46.97832446248478 -17.323940497096363, -46.976895236799045 -17.32351914058427, -46.976874218774256 -17.322616230518044, -46.97273366789054 -17.32237545375085, -46.971998037022885 -17.321312019254208, -46.97267061381617 -17.320328838488457, -46.976012479757834 -17.32081039707195, -46.97758883161711 -17.32165312155581, -46.9793543456995 -17.322776748187508, -46.98051033706298 -17.323679657464755, -46.98124596793065 -17.32468288478974, -46.98191854472393 -17.326107458176267, -46.98240195929411 -17.32666925872729, -46.9824229773189 -17.327311314395562, -46.98420950942608 -17.328896379715186, -46.9839572931286 -17.329357851857004, -46.98412543732693 -17.329919642464336, -46.985596699062256 -17.331183665046293, -46.98710999684716 -17.331986214550014, -46.98757239339253 -17.33254799711526, -46.98771951956608 -17.332869014952152, -46.98954808772284 -17.333771874608892, -46.98984234006989 -17.3339123190453, -46.99074611513589 -17.33357123951335, -46.99167090822667 -17.332748633329096, -46.991860070449775 -17.331504685268754, -46.99467648577168 -17.332427615281706, -46.995433134664125 -17.333751811109202, -47.000225244316326 -17.33226710604751, -47.00157039790291 -17.333149905098967, -47.001318181605434 -17.33387219207443, -47.00157039790291 -17.334474095716427, -47.00308369568781 -17.334353715145912, -47.005858074960145 -17.333832065094793, -47.00913688682744 -17.33202634193311, -47.009935571769475 -17.332668378869872, -47.011911266099766 -17.330702133660186, -47.015190077967056 -17.329979834213177, -47.01720780834693 -17.33150468526875, -47.01863703403268 -17.32885625164804, -47.03330761533635 -17.32500391637647, -47.036166066707835 -17.321312019254197, -47.043396267235714 -17.31585429630408, -47.046086574408875 -17.310877995877966, -47.05398935173003 -17.30253035074141, -47.050962756160224 -17.298276116603663, -47.04104224845918 -17.29129253785753, -47.03944487857511 -17.292897981718852, -47.02729646024631 -17.30240994924138, -47.008884670529945 -17.292978253544295, -47.00341998408445 -17.290529947117598, -47.002621299142426 -17.286596534180674, -46.99955266752303 -17.28675708329267, -46.99736679294484 -17.285071310634134, -46.990683061061524 -17.280013900057273, -46.990598988962354 -17.275598586804442, -46.985218374616025 -17.274715511454694, -46.983200644236156 -17.27535774849247, -46.98118291385628 -17.273752151700414, -46.97243941554349 -17.272226821788372))\"\n        ],\n        \"semantic_type\": \"\",\n        \"description\": \"\"\n      }\n    }\n  ]\n}"
            }
          },
          "metadata": {},
          "execution_count": 8
        }
      ],
      "source": [
        "# Lendo o arquivo shapefile que criei para a area de estudo\n",
        "shapefile_path=(\"/content/drive/MyDrive/Colab Notebooks/Case_NDVI/Shapefile /Pivos_Paracatu.shp\")\n",
        "gdf=gpd.read_file(shapefile_path)\n",
        "\n",
        "gdf"
      ]
    },
    {
      "cell_type": "markdown",
      "metadata": {
        "id": "4WpLqkE9mGLp"
      },
      "source": [
        "GEE não permite a utilização direta de um arquivo shp. Converte a base para json\n"
      ]
    },
    {
      "cell_type": "code",
      "execution_count": null,
      "metadata": {
        "colab": {
          "base_uri": "https://localhost:8080/",
          "height": 1000
        },
        "id": "ajCB5qJJmSY4",
        "outputId": "b6847039-699c-4412-de34-97373835e455"
      },
      "outputs": [
        {
          "output_type": "display_data",
          "data": {
            "text/plain": [
              "<IPython.core.display.HTML object>"
            ],
            "text/html": [
              "\n",
              "            <style>\n",
              "                .geemap-dark {\n",
              "                    --jp-widgets-color: white;\n",
              "                    --jp-widgets-label-color: white;\n",
              "                    --jp-ui-font-color1: white;\n",
              "                    --jp-layout-color2: #454545;\n",
              "                    background-color: #383838;\n",
              "                }\n",
              "\n",
              "                .geemap-dark .jupyter-button {\n",
              "                    --jp-layout-color3: #383838;\n",
              "                }\n",
              "\n",
              "                .geemap-colab {\n",
              "                    background-color: var(--colab-primary-surface-color, white);\n",
              "                }\n",
              "\n",
              "                .geemap-colab .jupyter-button {\n",
              "                    --jp-layout-color3: var(--colab-primary-surface-color, white);\n",
              "                }\n",
              "            </style>\n",
              "            "
            ]
          },
          "metadata": {}
        },
        {
          "output_type": "execute_result",
          "data": {
            "text/plain": [
              "[{'id': '0',\n",
              "  'type': 'Feature',\n",
              "  'properties': {'id': 1, 'Nome': 'area_de_estudo'},\n",
              "  'geometry': {'type': 'Polygon',\n",
              "   'coordinates': [[[-46.97243941554349, -17.272226821788372],\n",
              "     [-46.971283424180015, -17.273170119408007],\n",
              "     [-46.96971232682695, -17.27583440734657],\n",
              "     [-46.96935502040553, -17.275734058216628],\n",
              "     [-46.96822004706686, -17.274931263209343],\n",
              "     [-46.96691692952985, -17.274509794430184],\n",
              "     [-46.966160280637396, -17.274389374601913],\n",
              "     [-46.966013154463866, -17.274208744711927],\n",
              "     [-46.96534057767058, -17.274208744711927],\n",
              "     [-46.96445782062938, -17.274429514553418],\n",
              "     [-46.9637432077865, -17.274871053442777],\n",
              "     [-46.962986558894045, -17.27541294063349],\n",
              "     [-46.962377036175134, -17.275713988384084],\n",
              "     [-46.96193565765453, -17.276195663761786],\n",
              "     [-46.96084272036544, -17.277078732016673],\n",
              "     [-46.959812837150714, -17.27808221353158],\n",
              "     [-46.95903517023347, -17.279888466482376],\n",
              "     [-46.958867026035136, -17.280289853621525],\n",
              "     [-46.95850971961371, -17.280671170593468],\n",
              "     [-46.95842564751456, -17.280510616175192],\n",
              "     [-46.95817343121707, -17.280520650830432],\n",
              "     [-46.957753070721274, -17.281253179186447],\n",
              "     [-46.95755339948577, -17.281975670053423],\n",
              "     [-46.95711202096516, -17.283771850342365],\n",
              "     [-46.9568177686181, -17.285598116248025],\n",
              "     [-46.95685980466768, -17.287564843888163],\n",
              "     [-46.95774256170886, -17.288247173058316],\n",
              "     [-46.95870939084922, -17.288287309989567],\n",
              "     [-46.9620302387661, -17.288568268263287],\n",
              "     [-46.963921860997225, -17.28941114051156],\n",
              "     [-46.96497276223674, -17.290013189754546],\n",
              "     [-46.96665420421997, -17.290775782635478],\n",
              "     [-46.968335646203194, -17.2934247649343],\n",
              "     [-46.9692184032444, -17.293986665368703],\n",
              "     [-46.96963876374019, -17.295311138175553],\n",
              "     [-46.96997505213684, -17.295311138175553],\n",
              "     [-46.970059124236, -17.295893100485085],\n",
              "     [-46.970017088186424, -17.29637472307342],\n",
              "     [-46.969596727690615, -17.296475060953977],\n",
              "     [-46.96909229509565, -17.296153979543593],\n",
              "     [-46.968629898550255, -17.295632221056696],\n",
              "     [-46.967368817062834, -17.297077087088276],\n",
              "     [-46.96554024890607, -17.2958328975729],\n",
              "     [-46.965876537302734, -17.294909783786252],\n",
              "     [-46.965834501253156, -17.29344483283651],\n",
              "     [-46.965981627426686, -17.29258191106586],\n",
              "     [-46.965435158782135, -17.291417963663537],\n",
              "     [-46.9646364738401, -17.29061523702837],\n",
              "     [-46.96345946445183, -17.290093462838165],\n",
              "     [-46.961757004443825, -17.289451277189023],\n",
              "     [-46.96116849974968, -17.289270662071527],\n",
              "     [-46.960769157278634, -17.290449674224337],\n",
              "     [-46.95818919473562, -17.290063360435873],\n",
              "     [-46.958352084427744, -17.289165303171114],\n",
              "     [-46.95715405701474, -17.288748884069953],\n",
              "     [-46.95654453429582, -17.288628473551864],\n",
              "     [-46.95602959268846, -17.288126762212062],\n",
              "     [-46.95568279527943, -17.287755494940303],\n",
              "     [-46.955451597006736, -17.286571448369326],\n",
              "     [-46.954884110337396, -17.286671791594397],\n",
              "     [-46.95431662366804, -17.286651722953756],\n",
              "     [-46.95408542539535, -17.286410899095458],\n",
              "     [-46.954022371320974, -17.28520677507884],\n",
              "     [-46.95345488465164, -17.28476526096633],\n",
              "     [-46.95278230785834, -17.283741746906454],\n",
              "     [-46.950512361180984, -17.28141373295739],\n",
              "     [-46.94988182043728, -17.28150404439203],\n",
              "     [-46.949240770681165, -17.28180508218766],\n",
              "     [-46.94848412178873, -17.28208605035294],\n",
              "     [-46.94801121623093, -17.28196563547745],\n",
              "     [-46.947706454871486, -17.28183518594016],\n",
              "     [-46.947359657462435, -17.281875324269162],\n",
              "     [-46.94698133301621, -17.281895393430393],\n",
              "     [-46.946771152768314, -17.28244729450699],\n",
              "     [-46.9463507922725, -17.283310263784333],\n",
              "     [-46.94614061202459, -17.2835510916981],\n",
              "     [-46.94574126955359, -17.283741746906454],\n",
              "     [-46.9452578549834, -17.283731712426718],\n",
              "     [-46.94479545843801, -17.283661471053314],\n",
              "     [-46.94433306189262, -17.284002643187474],\n",
              "     [-46.94367099411173, -17.284945880503955],\n",
              "     [-46.94346081386383, -17.286270418365962],\n",
              "     [-46.943292669665496, -17.287354124074515],\n",
              "     [-46.942325840525136, -17.288437823403818],\n",
              "     [-46.940560326442764, -17.2901235652355],\n",
              "     [-46.940308110145274, -17.290765748539133],\n",
              "     [-46.939551461252826, -17.29104670302992],\n",
              "     [-46.939215172856166, -17.291849427783333],\n",
              "     [-46.93963553335198, -17.29301337245695],\n",
              "     [-46.93917313680659, -17.294498394628693],\n",
              "     [-46.937071334327555, -17.295742593167695],\n",
              "     [-46.93723947852589, -17.296465027168384],\n",
              "     [-46.93723947852589, -17.297147323342294],\n",
              "     [-46.936735045930924, -17.29790988666008],\n",
              "     [-46.93538989234434, -17.29815069547221],\n",
              "     [-46.93501156789811, -17.299394869313534],\n",
              "     [-46.934864441724585, -17.299916617129895],\n",
              "     [-46.935200730121224, -17.300578833381152],\n",
              "     [-46.93538989234435, -17.30124104724844],\n",
              "     [-46.935810252840156, -17.30234473172931],\n",
              "     [-46.935537018517884, -17.303067139803417],\n",
              "     [-46.93538989234435, -17.30411061312329],\n",
              "     [-46.935873306914516, -17.305414946447414],\n",
              "     [-46.936735045930924, -17.30651860588039],\n",
              "     [-46.938038163467915, -17.307281130346567],\n",
              "     [-46.93948840717846, -17.307682457742843],\n",
              "     [-46.94079152471546, -17.30734132951185],\n",
              "     [-46.941106795087315, -17.30734132951185],\n",
              "     [-46.94066541656671, -17.307883121112496],\n",
              "     [-46.94045523631882, -17.308384778578525],\n",
              "     [-46.94038167323204, -17.308886434675806],\n",
              "     [-46.94038167323204, -17.309337923993052],\n",
              "     [-46.94070745261629, -17.310200767159536],\n",
              "     [-46.94136952039719, -17.310893045376737],\n",
              "     [-46.94209464225246, -17.31133449679166],\n",
              "     [-46.94286180015731, -17.311374628685908],\n",
              "     [-46.94441713399179, -17.311023474314204],\n",
              "     [-46.945131746834655, -17.310270998401844],\n",
              "     [-46.945552107330464, -17.30932789090916],\n",
              "     [-46.945583634367644, -17.309167361492406],\n",
              "     [-46.94781154499541, -17.309147295305458],\n",
              "     [-46.95012352772237, -17.30928775856811],\n",
              "     [-46.95092221266438, -17.30904696433786],\n",
              "     [-46.95230940230056, -17.30796338639904],\n",
              "     [-46.95353895675075, -17.30768747432972],\n",
              "     [-46.95357048378798, -17.30868577240115],\n",
              "     [-46.9535284477384, -17.31141476057138],\n",
              "     [-46.954243060581256, -17.312337791519326],\n",
              "     [-46.95542006996951, -17.312819371043513],\n",
              "     [-46.9565550433082, -17.313060160332455],\n",
              "     [-46.95882498998556, -17.314103576939498],\n",
              "     [-46.96054846801837, -17.31462528302173],\n",
              "     [-46.961115954687706, -17.314384495783173],\n",
              "     [-46.96166242333226, -17.314866069944824],\n",
              "     [-46.96336488334028, -17.31516705315507],\n",
              "     [-46.96464698285249, -17.315407839368373],\n",
              "     [-46.9657189021168, -17.31534764284462],\n",
              "     [-46.96689591150505, -17.314966397736345],\n",
              "     [-46.96761052434793, -17.31532757733232],\n",
              "     [-46.966391478910076, -17.316210457800924],\n",
              "     [-46.965466685819315, -17.316170326962553],\n",
              "     [-46.96471003692686, -17.316531504192454],\n",
              "     [-46.964289676431044, -17.31685255002311],\n",
              "     [-46.96168344135704, -17.316370981066797],\n",
              "     [-46.95878295393598, -17.314966397736345],\n",
              "     [-46.955756358366166, -17.313842723343043],\n",
              "     [-46.95415898848211, -17.31344140939484],\n",
              "     [-46.953654555887134, -17.314605217430568],\n",
              "     [-46.953381321564834, -17.317238807544737],\n",
              "     [-46.953644046874714, -17.31979711608623],\n",
              "     [-46.954463749841544, -17.322235000490906],\n",
              "     [-46.95865684578723, -17.32158791087064],\n",
              "     [-46.959581638878014, -17.32134713275568],\n",
              "     [-46.95987589122508, -17.321668170172174],\n",
              "     [-46.96092679246459, -17.32190894786638],\n",
              "     [-46.96109493666292, -17.32251089072124],\n",
              "     [-46.96063254011753, -17.32319309023898],\n",
              "     [-46.96061152209277, -17.329011747859365],\n",
              "     [-46.96637046088531, -17.32871078733116],\n",
              "     [-46.96653860508363, -17.33246272665799],\n",
              "     [-46.96843022731476, -17.332583108468516],\n",
              "     [-46.96410051420795, -17.335231488328386],\n",
              "     [-46.9574588183742, -17.334268445527375],\n",
              "     [-46.95842564751456, -17.338240964514757],\n",
              "     [-46.94337674176468, -17.34129051670949],\n",
              "     [-46.944044064051745, -17.34465599985588],\n",
              "     [-46.942194477870196, -17.344555688285137],\n",
              "     [-46.94300367182459, -17.348568108328745],\n",
              "     [-46.94347657738238, -17.348628293961237],\n",
              "     [-46.94359217651871, -17.348738634236163],\n",
              "     [-46.943571158493924, -17.349230149199855],\n",
              "     [-46.943571158493924, -17.349480921633038],\n",
              "     [-46.943854901828615, -17.34957119962504],\n",
              "     [-46.944191190225254, -17.349490952523233],\n",
              "     [-46.944537987634284, -17.349400674491733],\n",
              "     [-46.94477969491938, -17.34919002557873],\n",
              "     [-46.94490580306813, -17.349169963764872],\n",
              "     [-46.945000384179686, -17.349400674491733],\n",
              "     [-46.94524209146477, -17.349500983412877],\n",
              "     [-46.945767542084525, -17.349490952523233],\n",
              "     [-46.94625095665471, -17.349490952523233],\n",
              "     [-46.947259821844646, -17.349942342014153],\n",
              "     [-46.9479744346875, -17.350343576184493],\n",
              "     [-46.948163596910625, -17.351085857085348],\n",
              "     [-46.94841581320811, -17.351808073456358],\n",
              "     [-46.948773119629536, -17.351868258025554],\n",
              "     [-46.94919348012535, -17.351888319544226],\n",
              "     [-46.949025335927026, -17.352209303544516],\n",
              "     [-46.949025335927026, -17.352550348429155],\n",
              "     [-46.94952976852199, -17.35311206803285],\n",
              "     [-46.94991860198063, -17.35310203734073],\n",
              "     [-46.95022336334008, -17.35299169969121],\n",
              "     [-46.95044405260038, -17.352349733867953],\n",
              "     [-46.95052812469954, -17.351737858100673],\n",
              "     [-46.95057016074913, -17.35126641144477],\n",
              "     [-46.9506016877863, -17.350714717010483],\n",
              "     [-46.950780340997035, -17.35049403877204],\n",
              "     [-46.9514844448275, -17.3502934219612],\n",
              "     [-46.951925823348105, -17.35202875011349],\n",
              "     [-46.95116917445565, -17.35287133127055],\n",
              "     [-46.95121121050523, -17.35379415380956],\n",
              "     [-46.95146342680271, -17.355158317750547],\n",
              "     [-46.95196785939768, -17.355720029364203],\n",
              "     [-46.95327097693468, -17.356161372996127],\n",
              "     [-46.954153733975886, -17.356161372996127],\n",
              "     [-46.95591924805828, -17.35507807309381],\n",
              "     [-46.958147158686046, -17.35307194526108],\n",
              "     [-46.9589038075785, -17.352510225534484],\n",
              "     [-46.96117375425587, -17.35110591868962],\n",
              "     [-46.962350763644125, -17.350865179293525],\n",
              "     [-46.96483089056938, -17.34897937642379],\n",
              "     [-46.96533532316435, -17.348016405777308],\n",
              "     [-46.966365206379095, -17.347474732566827],\n",
              "     [-46.96760526984171, -17.346511754020657],\n",
              "     [-46.96815173848628, -17.34530802372871],\n",
              "     [-46.96825682861023, -17.34418453499647],\n",
              "     [-46.96802563033753, -17.34296072694115],\n",
              "     [-46.96701676514756, -17.34161653491589],\n",
              "     [-46.96796257626314, -17.340493023578524],\n",
              "     [-46.9689294054035, -17.34061340012228],\n",
              "     [-46.9702325229405, -17.340653525619324],\n",
              "     [-46.972208217270804, -17.339891139675217],\n",
              "     [-46.97367947900613, -17.33776446740663],\n",
              "     [-46.97363744295653, -17.336360047680927],\n",
              "     [-46.9748144523448, -17.336319921245142],\n",
              "     [-46.976874218774256, -17.336520553336342],\n",
              "     [-46.97813530026168, -17.336921816860794],\n",
              "     [-46.98191854472393, -17.337684215140378],\n",
              "     [-46.98402034720296, -17.33840648427333],\n",
              "     [-46.98637436597947, -17.338847869566347],\n",
              "     [-46.98734119511984, -17.339369505362168],\n",
              "     [-46.98839209635935, -17.339570134119587],\n",
              "     [-46.98923281735096, -17.339570134119587],\n",
              "     [-46.99003150229301, -17.3402522702541],\n",
              "     [-46.98998946624341, -17.339289253797784],\n",
              "     [-46.991250547730836, -17.338847869566347],\n",
              "     [-46.992217376871196, -17.338245980267207],\n",
              "     [-46.993226242061134, -17.337202700805946],\n",
              "     [-46.993772710705684, -17.335878529872545],\n",
              "     [-46.99095629538378, -17.33499574394308],\n",
              "     [-46.987467303268566, -17.334032699905265],\n",
              "     [-46.98519735659122, -17.33254799711527],\n",
              "     [-46.983726094855896, -17.331103409902973],\n",
              "     [-46.9819605807735, -17.329979834213187],\n",
              "     [-46.981498184228116, -17.32881612357214],\n",
              "     [-46.9813300400298, -17.32777279052063],\n",
              "     [-46.98090967953399, -17.327371506999373],\n",
              "     [-46.98044728298859, -17.325706171016233],\n",
              "     [-46.979396381749076, -17.32424146544181],\n",
              "     [-46.97832446248478, -17.323940497096363],\n",
              "     [-46.976895236799045, -17.32351914058427],\n",
              "     [-46.976874218774256, -17.322616230518044],\n",
              "     [-46.97273366789054, -17.32237545375085],\n",
              "     [-46.971998037022885, -17.321312019254208],\n",
              "     [-46.97267061381617, -17.320328838488457],\n",
              "     [-46.976012479757834, -17.32081039707195],\n",
              "     [-46.97758883161711, -17.32165312155581],\n",
              "     [-46.9793543456995, -17.322776748187508],\n",
              "     [-46.98051033706298, -17.323679657464755],\n",
              "     [-46.98124596793065, -17.32468288478974],\n",
              "     [-46.98191854472393, -17.326107458176267],\n",
              "     [-46.98240195929411, -17.32666925872729],\n",
              "     [-46.9824229773189, -17.327311314395562],\n",
              "     [-46.98420950942608, -17.328896379715186],\n",
              "     [-46.9839572931286, -17.329357851857004],\n",
              "     [-46.98412543732693, -17.329919642464336],\n",
              "     [-46.985596699062256, -17.331183665046293],\n",
              "     [-46.98710999684716, -17.331986214550014],\n",
              "     [-46.98757239339253, -17.33254799711526],\n",
              "     [-46.98771951956608, -17.332869014952152],\n",
              "     [-46.98954808772284, -17.333771874608892],\n",
              "     [-46.98984234006989, -17.3339123190453],\n",
              "     [-46.99074611513589, -17.33357123951335],\n",
              "     [-46.99167090822667, -17.332748633329096],\n",
              "     [-46.991860070449775, -17.331504685268754],\n",
              "     [-46.99467648577168, -17.332427615281706],\n",
              "     [-46.995433134664125, -17.333751811109202],\n",
              "     [-47.000225244316326, -17.33226710604751],\n",
              "     [-47.00157039790291, -17.333149905098967],\n",
              "     [-47.001318181605434, -17.33387219207443],\n",
              "     [-47.00157039790291, -17.334474095716427],\n",
              "     [-47.00308369568781, -17.334353715145912],\n",
              "     [-47.005858074960145, -17.333832065094793],\n",
              "     [-47.00913688682744, -17.33202634193311],\n",
              "     [-47.009935571769475, -17.332668378869872],\n",
              "     [-47.011911266099766, -17.330702133660186],\n",
              "     [-47.015190077967056, -17.329979834213177],\n",
              "     [-47.01720780834693, -17.33150468526875],\n",
              "     [-47.01863703403268, -17.32885625164804],\n",
              "     [-47.03330761533635, -17.32500391637647],\n",
              "     [-47.036166066707835, -17.321312019254197],\n",
              "     [-47.043396267235714, -17.31585429630408],\n",
              "     [-47.046086574408875, -17.310877995877966],\n",
              "     [-47.05398935173003, -17.30253035074141],\n",
              "     [-47.050962756160224, -17.298276116603663],\n",
              "     [-47.04104224845918, -17.29129253785753],\n",
              "     [-47.03944487857511, -17.292897981718852],\n",
              "     [-47.02729646024631, -17.30240994924138],\n",
              "     [-47.008884670529945, -17.292978253544295],\n",
              "     [-47.00341998408445, -17.290529947117598],\n",
              "     [-47.002621299142426, -17.286596534180674],\n",
              "     [-46.99955266752303, -17.28675708329267],\n",
              "     [-46.99736679294484, -17.285071310634134],\n",
              "     [-46.990683061061524, -17.280013900057273],\n",
              "     [-46.990598988962354, -17.275598586804442],\n",
              "     [-46.985218374616025, -17.274715511454694],\n",
              "     [-46.983200644236156, -17.27535774849247],\n",
              "     [-46.98118291385628, -17.273752151700414],\n",
              "     [-46.97243941554349, -17.272226821788372]]]}}]"
            ]
          },
          "metadata": {},
          "execution_count": 9
        }
      ],
      "source": [
        "# Convertendo o shp para to json\n",
        "gdf = gdf.to_json ()\n",
        "# Carregando o arquivo json\n",
        "gdf=json.loads(gdf)\n",
        "# Selecionando as features\n",
        "gdf=gdf[\"features\"]\n",
        "gdf\n"
      ]
    },
    {
      "cell_type": "code",
      "execution_count": null,
      "metadata": {
        "colab": {
          "base_uri": "https://localhost:8080/",
          "height": 17
        },
        "id": "g7rhPZN_mryu",
        "outputId": "a69ef356-10d5-4623-9708-8319cef9fe71"
      },
      "outputs": [
        {
          "output_type": "display_data",
          "data": {
            "text/plain": [
              "<IPython.core.display.HTML object>"
            ],
            "text/html": [
              "\n",
              "            <style>\n",
              "                .geemap-dark {\n",
              "                    --jp-widgets-color: white;\n",
              "                    --jp-widgets-label-color: white;\n",
              "                    --jp-ui-font-color1: white;\n",
              "                    --jp-layout-color2: #454545;\n",
              "                    background-color: #383838;\n",
              "                }\n",
              "\n",
              "                .geemap-dark .jupyter-button {\n",
              "                    --jp-layout-color3: #383838;\n",
              "                }\n",
              "\n",
              "                .geemap-colab {\n",
              "                    background-color: var(--colab-primary-surface-color, white);\n",
              "                }\n",
              "\n",
              "                .geemap-colab .jupyter-button {\n",
              "                    --jp-layout-color3: var(--colab-primary-surface-color, white);\n",
              "                }\n",
              "            </style>\n",
              "            "
            ]
          },
          "metadata": {}
        }
      ],
      "source": [
        "# Defininado filtros na feature\n",
        "area_de_estudo = ee.FeatureCollection(gdf)"
      ]
    },
    {
      "cell_type": "code",
      "execution_count": null,
      "metadata": {
        "colab": {
          "base_uri": "https://localhost:8080/",
          "height": 34
        },
        "id": "kWmCpvgQnbDF",
        "outputId": "78c7e668-5604-44e5-e09c-7707a35b4331"
      },
      "outputs": [
        {
          "output_type": "display_data",
          "data": {
            "text/plain": [
              "<IPython.core.display.HTML object>"
            ],
            "text/html": [
              "\n",
              "            <style>\n",
              "                .geemap-dark {\n",
              "                    --jp-widgets-color: white;\n",
              "                    --jp-widgets-label-color: white;\n",
              "                    --jp-ui-font-color1: white;\n",
              "                    --jp-layout-color2: #454545;\n",
              "                    background-color: #383838;\n",
              "                }\n",
              "\n",
              "                .geemap-dark .jupyter-button {\n",
              "                    --jp-layout-color3: #383838;\n",
              "                }\n",
              "\n",
              "                .geemap-colab {\n",
              "                    background-color: var(--colab-primary-surface-color, white);\n",
              "                }\n",
              "\n",
              "                .geemap-colab .jupyter-button {\n",
              "                    --jp-layout-color3: var(--colab-primary-surface-color, white);\n",
              "                }\n",
              "            </style>\n",
              "            "
            ]
          },
          "metadata": {}
        },
        {
          "output_type": "stream",
          "name": "stdout",
          "text": [
            "Qtd 40\n"
          ]
        }
      ],
      "source": [
        "# Obtendo um ee.Imagem de um ee.ImageCollection\n",
        "image = ee.ImageCollection(\"COPERNICUS/S2_SR_HARMONIZED\")\\\n",
        "                                .filterBounds(area_de_estudo)\\\n",
        "                                .filterDate('2023-01-01', '2023-12-31')\\\n",
        "                                .filter(ee.Filter.lt(\"CLOUDY_PIXEL_PERCENTAGE\", 20))\\\n",
        "                                .sort(\"CLOUDY_PIXEL_PERCENTAGE\")\n",
        "\n",
        "#Print para saber a quantidade das imagens\n",
        "print(\"Qtd\", image.size().getInfo())\n"
      ]
    },
    {
      "cell_type": "code",
      "execution_count": null,
      "metadata": {
        "colab": {
          "base_uri": "https://localhost:8080/",
          "height": 17
        },
        "id": "kcj4V2Nmrec4",
        "outputId": "3ea8cd56-d178-4932-9ebd-88ac50db45f7"
      },
      "outputs": [
        {
          "output_type": "display_data",
          "data": {
            "text/plain": [
              "<IPython.core.display.HTML object>"
            ],
            "text/html": [
              "\n",
              "            <style>\n",
              "                .geemap-dark {\n",
              "                    --jp-widgets-color: white;\n",
              "                    --jp-widgets-label-color: white;\n",
              "                    --jp-ui-font-color1: white;\n",
              "                    --jp-layout-color2: #454545;\n",
              "                    background-color: #383838;\n",
              "                }\n",
              "\n",
              "                .geemap-dark .jupyter-button {\n",
              "                    --jp-layout-color3: #383838;\n",
              "                }\n",
              "\n",
              "                .geemap-colab {\n",
              "                    background-color: var(--colab-primary-surface-color, white);\n",
              "                }\n",
              "\n",
              "                .geemap-colab .jupyter-button {\n",
              "                    --jp-layout-color3: var(--colab-primary-surface-color, white);\n",
              "                }\n",
              "            </style>\n",
              "            "
            ]
          },
          "metadata": {}
        }
      ],
      "source": [
        "# Peguei uma imagem com a menor % de nuvens\n",
        "image_cloud = image.first()"
      ]
    },
    {
      "cell_type": "code",
      "execution_count": null,
      "metadata": {
        "colab": {
          "base_uri": "https://localhost:8080/",
          "height": 54
        },
        "id": "4Bi2b2Tifs1A",
        "outputId": "c890e301-36f9-43ef-bf2f-b054368d735a"
      },
      "outputs": [
        {
          "output_type": "display_data",
          "data": {
            "text/plain": [
              "<IPython.core.display.HTML object>"
            ],
            "text/html": [
              "\n",
              "            <style>\n",
              "                .geemap-dark {\n",
              "                    --jp-widgets-color: white;\n",
              "                    --jp-widgets-label-color: white;\n",
              "                    --jp-ui-font-color1: white;\n",
              "                    --jp-layout-color2: #454545;\n",
              "                    background-color: #383838;\n",
              "                }\n",
              "\n",
              "                .geemap-dark .jupyter-button {\n",
              "                    --jp-layout-color3: #383838;\n",
              "                }\n",
              "\n",
              "                .geemap-colab {\n",
              "                    background-color: var(--colab-primary-surface-color, white);\n",
              "                }\n",
              "\n",
              "                .geemap-colab .jupyter-button {\n",
              "                    --jp-layout-color3: var(--colab-primary-surface-color, white);\n",
              "                }\n",
              "            </style>\n",
              "            "
            ]
          },
          "metadata": {}
        },
        {
          "output_type": "stream",
          "name": "stdout",
          "text": [
            "['system:version', 'system:id', 'SPACECRAFT_NAME', 'SATURATED_DEFECTIVE_PIXEL_PERCENTAGE', 'BOA_ADD_OFFSET_B12', 'CLOUD_SHADOW_PERCENTAGE', 'system:footprint', 'SENSOR_QUALITY', 'GENERATION_TIME', 'CLOUDY_PIXEL_OVER_LAND_PERCENTAGE', 'CLOUD_COVERAGE_ASSESSMENT', 'THIN_CIRRUS_PERCENTAGE', 'GRANULE_MEAN_WV', 'BOA_ADD_OFFSET_B1', 'BOA_ADD_OFFSET_B2', 'DATASTRIP_ID', 'BOA_ADD_OFFSET_B5', 'BOA_ADD_OFFSET_B6', 'BOA_ADD_OFFSET_B3', 'BOA_ADD_OFFSET_B4', 'BOA_ADD_OFFSET_B9', 'BOA_ADD_OFFSET_B7', 'BOA_ADD_OFFSET_B8', 'GRANULE_ID', 'MEAN_INCIDENCE_AZIMUTH_ANGLE_B8', 'DATATAKE_TYPE', 'MEAN_INCIDENCE_AZIMUTH_ANGLE_B9', 'MEAN_INCIDENCE_AZIMUTH_ANGLE_B6', 'MEAN_INCIDENCE_AZIMUTH_ANGLE_B7', 'MEAN_INCIDENCE_AZIMUTH_ANGLE_B4', 'NOT_VEGETATED_PERCENTAGE', 'MEAN_INCIDENCE_AZIMUTH_ANGLE_B5', 'RADIOMETRIC_QUALITY', 'MEAN_INCIDENCE_AZIMUTH_ANGLE_B2', 'MEAN_INCIDENCE_AZIMUTH_ANGLE_B3', 'MEAN_INCIDENCE_AZIMUTH_ANGLE_B1', 'HIGH_PROBA_CLOUDS_PERCENTAGE', 'UNCLASSIFIED_PERCENTAGE', 'OZONE_SOURCE', 'GRANULE_MEAN_AOT', 'BOA_ADD_OFFSET_B8A', 'SNOW_ICE_PERCENTAGE', 'BOA_ADD_OFFSET_B11', 'BOA_ADD_OFFSET_B10', 'GEOMETRIC_QUALITY', 'system:asset_size', 'system:index', 'DATATAKE_IDENTIFIER', 'AOT_RETRIEVAL_ACCURACY', 'AOT_RETRIEVAL_METHOD', 'MEAN_INCIDENCE_AZIMUTH_ANGLE_B8A', 'MEAN_SOLAR_AZIMUTH_ANGLE', 'VEGETATION_PERCENTAGE', 'SOLAR_IRRADIANCE_B12', 'SOLAR_IRRADIANCE_B10', 'SOLAR_IRRADIANCE_B11', 'SOLAR_IRRADIANCE_B8A', 'FORMAT_CORRECTNESS', 'system:time_end', 'WATER_VAPOUR_RETRIEVAL_ACCURACY', 'OZONE_VALUE', 'system:time_start', 'PROCESSING_BASELINE', 'SENSING_ORBIT_NUMBER', 'NODATA_PIXEL_PERCENTAGE', 'SENSING_ORBIT_DIRECTION', 'GENERAL_QUALITY', 'REFLECTANCE_CONVERSION_CORRECTION', 'MEDIUM_PROBA_CLOUDS_PERCENTAGE', 'MEAN_INCIDENCE_ZENITH_ANGLE_B1', 'MEAN_INCIDENCE_ZENITH_ANGLE_B5', 'MEAN_INCIDENCE_ZENITH_ANGLE_B4', 'MEAN_INCIDENCE_ZENITH_ANGLE_B3', 'MEAN_INCIDENCE_ZENITH_ANGLE_B2', 'MEAN_INCIDENCE_ZENITH_ANGLE_B9', 'MEAN_INCIDENCE_ZENITH_ANGLE_B8', 'MEAN_INCIDENCE_ZENITH_ANGLE_B7', 'DARK_FEATURES_PERCENTAGE', 'MEAN_INCIDENCE_ZENITH_ANGLE_B6', 'MEAN_SOLAR_ZENITH_ANGLE', 'MEAN_INCIDENCE_ZENITH_ANGLE_B8A', 'RADIATIVE_TRANSFER_ACCURACY', 'MGRS_TILE', 'CLOUDY_PIXEL_PERCENTAGE', 'PRODUCT_ID', 'MEAN_INCIDENCE_ZENITH_ANGLE_B10', 'SOLAR_IRRADIANCE_B9', 'DEGRADED_MSI_DATA_PERCENTAGE', 'MEAN_INCIDENCE_ZENITH_ANGLE_B11', 'L2A_QUALITY', 'MEAN_INCIDENCE_ZENITH_ANGLE_B12', 'SOLAR_IRRADIANCE_B6', 'MEAN_INCIDENCE_AZIMUTH_ANGLE_B10', 'SOLAR_IRRADIANCE_B5', 'MEAN_INCIDENCE_AZIMUTH_ANGLE_B11', 'SOLAR_IRRADIANCE_B8', 'MEAN_INCIDENCE_AZIMUTH_ANGLE_B12', 'SOLAR_IRRADIANCE_B7', 'SOLAR_IRRADIANCE_B2', 'SOLAR_IRRADIANCE_B1', 'SOLAR_IRRADIANCE_B4', 'SOLAR_IRRADIANCE_B3', 'WATER_PERCENTAGE', 'system:bands', 'system:band_names']\n"
          ]
        }
      ],
      "source": [
        "# Lista de todas as propriedades de metadados.\n",
        "print(image_cloud.propertyNames().getInfo())"
      ]
    },
    {
      "cell_type": "code",
      "execution_count": null,
      "metadata": {
        "colab": {
          "base_uri": "https://localhost:8080/",
          "height": 34
        },
        "id": "vvs7O6wUfxle",
        "outputId": "91c4a63a-1a46-4d5c-d283-1fc3df73a0d5"
      },
      "outputs": [
        {
          "output_type": "display_data",
          "data": {
            "text/plain": [
              "<IPython.core.display.HTML object>"
            ],
            "text/html": [
              "\n",
              "            <style>\n",
              "                .geemap-dark {\n",
              "                    --jp-widgets-color: white;\n",
              "                    --jp-widgets-label-color: white;\n",
              "                    --jp-ui-font-color1: white;\n",
              "                    --jp-layout-color2: #454545;\n",
              "                    background-color: #383838;\n",
              "                }\n",
              "\n",
              "                .geemap-dark .jupyter-button {\n",
              "                    --jp-layout-color3: #383838;\n",
              "                }\n",
              "\n",
              "                .geemap-colab {\n",
              "                    background-color: var(--colab-primary-surface-color, white);\n",
              "                }\n",
              "\n",
              "                .geemap-colab .jupyter-button {\n",
              "                    --jp-layout-color3: var(--colab-primary-surface-color, white);\n",
              "                }\n",
              "            </style>\n",
              "            "
            ]
          },
          "metadata": {}
        },
        {
          "output_type": "stream",
          "name": "stdout",
          "text": [
            "COPERNICUS/S2_SR_HARMONIZED/20231215T132229_20231215T132231_T23KKA\n"
          ]
        }
      ],
      "source": [
        "# Conhecendo o ID da imagem\n",
        "print(image_cloud.get(\"system:id\").getInfo())"
      ]
    },
    {
      "cell_type": "code",
      "execution_count": null,
      "metadata": {
        "colab": {
          "base_uri": "https://localhost:8080/",
          "height": 34
        },
        "id": "pFGCtiwCf2iY",
        "outputId": "d1f60c84-879e-491c-83a6-99a320c6f05b"
      },
      "outputs": [
        {
          "output_type": "display_data",
          "data": {
            "text/plain": [
              "<IPython.core.display.HTML object>"
            ],
            "text/html": [
              "\n",
              "            <style>\n",
              "                .geemap-dark {\n",
              "                    --jp-widgets-color: white;\n",
              "                    --jp-widgets-label-color: white;\n",
              "                    --jp-ui-font-color1: white;\n",
              "                    --jp-layout-color2: #454545;\n",
              "                    background-color: #383838;\n",
              "                }\n",
              "\n",
              "                .geemap-dark .jupyter-button {\n",
              "                    --jp-layout-color3: #383838;\n",
              "                }\n",
              "\n",
              "                .geemap-colab {\n",
              "                    background-color: var(--colab-primary-surface-color, white);\n",
              "                }\n",
              "\n",
              "                .geemap-colab .jupyter-button {\n",
              "                    --jp-layout-color3: var(--colab-primary-surface-color, white);\n",
              "                }\n",
              "            </style>\n",
              "            "
            ]
          },
          "metadata": {}
        },
        {
          "output_type": "stream",
          "name": "stdout",
          "text": [
            "0.000557\n"
          ]
        }
      ],
      "source": [
        "# Extraindo uma propriedade especifica - Porcentagem de Nuvens\n",
        "print(image_cloud.get(\"CLOUDY_PIXEL_PERCENTAGE\").getInfo())"
      ]
    },
    {
      "cell_type": "code",
      "execution_count": null,
      "metadata": {
        "colab": {
          "base_uri": "https://localhost:8080/",
          "height": 34
        },
        "id": "XMlzSkvFgC2i",
        "outputId": "ce31e228-ee7d-4d6e-9f8f-c5eaa6e8e142"
      },
      "outputs": [
        {
          "output_type": "display_data",
          "data": {
            "text/plain": [
              "<IPython.core.display.HTML object>"
            ],
            "text/html": [
              "\n",
              "            <style>\n",
              "                .geemap-dark {\n",
              "                    --jp-widgets-color: white;\n",
              "                    --jp-widgets-label-color: white;\n",
              "                    --jp-ui-font-color1: white;\n",
              "                    --jp-layout-color2: #454545;\n",
              "                    background-color: #383838;\n",
              "                }\n",
              "\n",
              "                .geemap-dark .jupyter-button {\n",
              "                    --jp-layout-color3: #383838;\n",
              "                }\n",
              "\n",
              "                .geemap-colab {\n",
              "                    background-color: var(--colab-primary-surface-color, white);\n",
              "                }\n",
              "\n",
              "                .geemap-colab .jupyter-button {\n",
              "                    --jp-layout-color3: var(--colab-primary-surface-color, white);\n",
              "                }\n",
              "            </style>\n",
              "            "
            ]
          },
          "metadata": {}
        },
        {
          "output_type": "stream",
          "name": "stdout",
          "text": [
            "{'type': 'Projection', 'crs': 'EPSG:32723', 'transform': [10, 0, 199980, 0, -10, 8100040]}\n"
          ]
        }
      ],
      "source": [
        "# Obtendo informações projeção da banda 8\n",
        "projection = image_cloud.select(\"B8\").projection()\n",
        "print(projection.getInfo())"
      ]
    },
    {
      "cell_type": "code",
      "execution_count": null,
      "metadata": {
        "colab": {
          "base_uri": "https://localhost:8080/",
          "height": 34
        },
        "id": "sOQcKlDlgF2O",
        "outputId": "c9466f98-193d-4196-eead-54b722472196"
      },
      "outputs": [
        {
          "output_type": "display_data",
          "data": {
            "text/plain": [
              "<IPython.core.display.HTML object>"
            ],
            "text/html": [
              "\n",
              "            <style>\n",
              "                .geemap-dark {\n",
              "                    --jp-widgets-color: white;\n",
              "                    --jp-widgets-label-color: white;\n",
              "                    --jp-ui-font-color1: white;\n",
              "                    --jp-layout-color2: #454545;\n",
              "                    background-color: #383838;\n",
              "                }\n",
              "\n",
              "                .geemap-dark .jupyter-button {\n",
              "                    --jp-layout-color3: #383838;\n",
              "                }\n",
              "\n",
              "                .geemap-colab {\n",
              "                    background-color: var(--colab-primary-surface-color, white);\n",
              "                }\n",
              "\n",
              "                .geemap-colab .jupyter-button {\n",
              "                    --jp-layout-color3: var(--colab-primary-surface-color, white);\n",
              "                }\n",
              "            </style>\n",
              "            "
            ]
          },
          "metadata": {}
        },
        {
          "output_type": "stream",
          "name": "stdout",
          "text": [
            "escala 10\n"
          ]
        }
      ],
      "source": [
        "# Obtendo informações de escala (em metros) da banda 8\n",
        "print(\"escala\", projection.nominalScale().getInfo())"
      ]
    },
    {
      "cell_type": "code",
      "execution_count": null,
      "metadata": {
        "colab": {
          "base_uri": "https://localhost:8080/",
          "height": 34
        },
        "id": "GRTiCHKrgIO2",
        "outputId": "b8f60e4c-12c0-4d68-9e81-fe067fd6951a"
      },
      "outputs": [
        {
          "output_type": "display_data",
          "data": {
            "text/plain": [
              "<IPython.core.display.HTML object>"
            ],
            "text/html": [
              "\n",
              "            <style>\n",
              "                .geemap-dark {\n",
              "                    --jp-widgets-color: white;\n",
              "                    --jp-widgets-label-color: white;\n",
              "                    --jp-ui-font-color1: white;\n",
              "                    --jp-layout-color2: #454545;\n",
              "                    background-color: #383838;\n",
              "                }\n",
              "\n",
              "                .geemap-dark .jupyter-button {\n",
              "                    --jp-layout-color3: #383838;\n",
              "                }\n",
              "\n",
              "                .geemap-colab {\n",
              "                    background-color: var(--colab-primary-surface-color, white);\n",
              "                }\n",
              "\n",
              "                .geemap-colab .jupyter-button {\n",
              "                    --jp-layout-color3: var(--colab-primary-surface-color, white);\n",
              "                }\n",
              "            </style>\n",
              "            "
            ]
          },
          "metadata": {}
        },
        {
          "output_type": "stream",
          "name": "stdout",
          "text": [
            "{'type': 'Projection', 'crs': 'EPSG:32723', 'transform': [10, 0, 199980, 0, -10, 8100040]}\n"
          ]
        }
      ],
      "source": [
        "# Obtendo informações projeção da banda 4\n",
        "projection = image_cloud.select(\"B4\").projection()\n",
        "print(projection.getInfo())\n"
      ]
    },
    {
      "cell_type": "code",
      "execution_count": null,
      "metadata": {
        "colab": {
          "base_uri": "https://localhost:8080/",
          "height": 34
        },
        "id": "ZcZRXdAtnpim",
        "outputId": "24cb4d15-403e-45c8-fc93-9983ec97a6d5"
      },
      "outputs": [
        {
          "output_type": "display_data",
          "data": {
            "text/plain": [
              "<IPython.core.display.HTML object>"
            ],
            "text/html": [
              "\n",
              "            <style>\n",
              "                .geemap-dark {\n",
              "                    --jp-widgets-color: white;\n",
              "                    --jp-widgets-label-color: white;\n",
              "                    --jp-ui-font-color1: white;\n",
              "                    --jp-layout-color2: #454545;\n",
              "                    background-color: #383838;\n",
              "                }\n",
              "\n",
              "                .geemap-dark .jupyter-button {\n",
              "                    --jp-layout-color3: #383838;\n",
              "                }\n",
              "\n",
              "                .geemap-colab {\n",
              "                    background-color: var(--colab-primary-surface-color, white);\n",
              "                }\n",
              "\n",
              "                .geemap-colab .jupyter-button {\n",
              "                    --jp-layout-color3: var(--colab-primary-surface-color, white);\n",
              "                }\n",
              "            </style>\n",
              "            "
            ]
          },
          "metadata": {}
        },
        {
          "output_type": "stream",
          "name": "stdout",
          "text": [
            "escala 10\n"
          ]
        }
      ],
      "source": [
        "# Obtendo informações de escala (em metros) da banda 4\n",
        "print(\"escala\", projection.nominalScale().getInfo())"
      ]
    },
    {
      "cell_type": "code",
      "execution_count": null,
      "metadata": {
        "colab": {
          "base_uri": "https://localhost:8080/",
          "height": 621,
          "referenced_widgets": [
            "80a4bc9c9eaa4951b7822c94c5422b85",
            "2e3fd6836ff24c7b94176208a9529dc2",
            "2094a083d7734ee1afbd68862301ebb4",
            "7845d5e1137945c6a454b01970bef0fe",
            "fbf01474c92545eb8f2c9776db1c48e2",
            "676f25c110134768a2a9dff18e0f2779",
            "ebda5e13a43142019d100be447b9c07c",
            "5ddc1e12f4d8472f8b789076985f62a0",
            "da983d521a35476f97d4b58de5053c4e",
            "14c1fc77055340588a58f00c3a47b5f2",
            "04ee8d259bff4ff684a136725660bb72",
            "692bc209bc1c43399479c0eed663bc5e",
            "2f36f53ddbf04e41be4f5454f227d1dd",
            "d543410fa7104bf190b31648a5435902",
            "671e256bb88141e2bbdc8eaf80ee5609",
            "35e430460929479fa6f37a84844b4946",
            "63e2b7949f7e4b6d84935a36aaa50370",
            "d7d30481f2e74ce99fd216096abf16a0",
            "421e68985bad4051a0545ea5fdf32497",
            "921c9d9dcac141758209de96cecb2633",
            "de756086be1e40d694f24fb84292894c",
            "cb0138bb0d7b49a3b79a569e0f46164a",
            "37b6d1b58f3a4db29b4895c7b964b622",
            "1fb27afbaa80444aabd80b0c48577319",
            "6b051d0b64e344218fcac774ad4c96cf",
            "e3042e6fc97a4fda925bed887c3fc2df",
            "83e0ed35d16c4bc384988ce45717a1cf"
          ]
        },
        "collapsed": true,
        "id": "NYHMa2WVnvbf",
        "outputId": "93b01c93-1030-4598-fef5-1be84803cab2"
      },
      "outputs": [
        {
          "output_type": "display_data",
          "data": {
            "text/plain": [
              "<IPython.core.display.HTML object>"
            ],
            "text/html": [
              "\n",
              "            <style>\n",
              "                .geemap-dark {\n",
              "                    --jp-widgets-color: white;\n",
              "                    --jp-widgets-label-color: white;\n",
              "                    --jp-ui-font-color1: white;\n",
              "                    --jp-layout-color2: #454545;\n",
              "                    background-color: #383838;\n",
              "                }\n",
              "\n",
              "                .geemap-dark .jupyter-button {\n",
              "                    --jp-layout-color3: #383838;\n",
              "                }\n",
              "\n",
              "                .geemap-colab {\n",
              "                    background-color: var(--colab-primary-surface-color, white);\n",
              "                }\n",
              "\n",
              "                .geemap-colab .jupyter-button {\n",
              "                    --jp-layout-color3: var(--colab-primary-surface-color, white);\n",
              "                }\n",
              "            </style>\n",
              "            "
            ]
          },
          "metadata": {}
        },
        {
          "output_type": "display_data",
          "data": {
            "text/plain": [
              "Map(center=[-17.309378329877102, -46.9873722026027], controls=(WidgetControl(options=['position', 'transparent…"
            ],
            "application/vnd.jupyter.widget-view+json": {
              "version_major": 2,
              "version_minor": 0,
              "model_id": "80a4bc9c9eaa4951b7822c94c5422b85"
            }
          },
          "metadata": {
            "application/vnd.jupyter.widget-view+json": {
              "colab": {
                "custom_widget_manager": {
                  "url": "https://ssl.gstatic.com/colaboratory-static/widgets/colab-cdn-widget-manager/2b70e893a8ba7c0f/manager.min.js"
                }
              }
            }
          }
        }
      ],
      "source": [
        "# Mapa de localização para conhecimento da imagem\n",
        "\n",
        "map=geemap.Map()\n",
        "map.centerObject(area_de_estudo,10)\n",
        "map.add_basemap(\"HYBRID\")\n",
        "map.addLayer(image_cloud.clip(area_de_estudo),{\"bands\":[\"B4\",\"B3\",\"B2\"], \"min\":0, \"max\":2839},\"Imagem RGB\")\n",
        "limite=ee.Image().paint(area_de_estudo,0,2)\n",
        "map.addLayer(limite,{\"palette\":\"red\"},\"ROI\")\n",
        "display(map)\n"
      ]
    },
    {
      "cell_type": "code",
      "execution_count": null,
      "metadata": {
        "colab": {
          "base_uri": "https://localhost:8080/",
          "height": 621,
          "referenced_widgets": [
            "9d4958bdcb974ba5b61f180158ae9f7d",
            "e10ec0eacb304a698130f1eb2e891623",
            "74fa651f846e41d2a9edce1f77c22634",
            "9861398b324b4f5e9700cca6de4358d6",
            "dd19b3eec86744ad890cece35701351e",
            "7fba1fe7be704eecb6fdc8d2228596ec",
            "f1e47e6def174b0bb726d171e6af8f58",
            "c31370bd47204cfc80684762bbafd2a9",
            "04a2a734eb934a8c8894515d47497ad3",
            "8353f8aec726459287cad437efc87ad9",
            "38bd66be4a224a328a2ea839705f0a76",
            "8d160c88be3649848d00acf8b718f53a",
            "0555d644991a4bce977e88f9c1196f0e",
            "626a5d85921640ddba26806b0bf25161",
            "e1740b1d4bb74869812c8c8b665f6ab5",
            "2af4a6a9fbce4af4a95a9d85a1e7c078",
            "98995b62aa1640f78b91949f40c63da9",
            "b501f39b5efc46b781628d34a1d2f266",
            "388c5bf857554db4a31d529daa5d2cec",
            "27343397be5645cebeb044292accb08c",
            "76622720f7284ca4b4c22ecf02e832d5",
            "7c93725941bd4efdab578a8495d11750",
            "aa4184da17c64a7e8b42c2ce56b72d2e",
            "36fd30b927ed4b21bbc6f8f94e4eed07",
            "41cdaaae5c4f46f0803cd643e0b2153a",
            "51274a487cea470899d76decbc154393",
            "55269e859f4446c7b4cebba9914514ee",
            "35df6aabd6db43d8b153b83e517eb1f0"
          ]
        },
        "id": "CrK2KifxpkIY",
        "outputId": "cbd32a4a-990c-43fd-da02-8e96707566e2"
      },
      "outputs": [
        {
          "output_type": "display_data",
          "data": {
            "text/plain": [
              "<IPython.core.display.HTML object>"
            ],
            "text/html": [
              "\n",
              "            <style>\n",
              "                .geemap-dark {\n",
              "                    --jp-widgets-color: white;\n",
              "                    --jp-widgets-label-color: white;\n",
              "                    --jp-ui-font-color1: white;\n",
              "                    --jp-layout-color2: #454545;\n",
              "                    background-color: #383838;\n",
              "                }\n",
              "\n",
              "                .geemap-dark .jupyter-button {\n",
              "                    --jp-layout-color3: #383838;\n",
              "                }\n",
              "\n",
              "                .geemap-colab {\n",
              "                    background-color: var(--colab-primary-surface-color, white);\n",
              "                }\n",
              "\n",
              "                .geemap-colab .jupyter-button {\n",
              "                    --jp-layout-color3: var(--colab-primary-surface-color, white);\n",
              "                }\n",
              "            </style>\n",
              "            "
            ]
          },
          "metadata": {}
        },
        {
          "output_type": "display_data",
          "data": {
            "text/plain": [
              "Map(bottom=144173.0, center=[-17.309378329876807, -46.987372202603105], controls=(WidgetControl(options=['posi…"
            ],
            "application/vnd.jupyter.widget-view+json": {
              "version_major": 2,
              "version_minor": 0,
              "model_id": "9d4958bdcb974ba5b61f180158ae9f7d"
            }
          },
          "metadata": {
            "application/vnd.jupyter.widget-view+json": {
              "colab": {
                "custom_widget_manager": {
                  "url": "https://ssl.gstatic.com/colaboratory-static/widgets/colab-cdn-widget-manager/2b70e893a8ba7c0f/manager.min.js"
                }
              }
            }
          }
        }
      ],
      "source": [
        "# Calculo do NDVI da Imagem\n",
        "\n",
        "nir=\"B8\"\n",
        "red=\"B4\"\n",
        "ndvi=image_cloud.expression(\"(NIR-RED)/(NIR+RED)\",{\n",
        "    \"NIR\":image_cloud.select(nir),\n",
        "    \"RED\":image_cloud.select(red)\n",
        "})\n",
        "map.addLayer(ndvi.clip(area_de_estudo),{\"palette\":[\"red\",\"white\",\"green\"]},\"NDVI\")\n",
        "display(map)\n"
      ]
    },
    {
      "cell_type": "code",
      "execution_count": null,
      "metadata": {
        "colab": {
          "base_uri": "https://localhost:8080/",
          "height": 17
        },
        "id": "NMmNhJ294RuW",
        "outputId": "948ac45d-a72b-40fd-c54d-18e11911473b"
      },
      "outputs": [
        {
          "output_type": "display_data",
          "data": {
            "text/plain": [
              "<IPython.core.display.HTML object>"
            ],
            "text/html": [
              "\n",
              "            <style>\n",
              "                .geemap-dark {\n",
              "                    --jp-widgets-color: white;\n",
              "                    --jp-widgets-label-color: white;\n",
              "                    --jp-ui-font-color1: white;\n",
              "                    --jp-layout-color2: #454545;\n",
              "                    background-color: #383838;\n",
              "                }\n",
              "\n",
              "                .geemap-dark .jupyter-button {\n",
              "                    --jp-layout-color3: #383838;\n",
              "                }\n",
              "\n",
              "                .geemap-colab {\n",
              "                    background-color: var(--colab-primary-surface-color, white);\n",
              "                }\n",
              "\n",
              "                .geemap-colab .jupyter-button {\n",
              "                    --jp-layout-color3: var(--colab-primary-surface-color, white);\n",
              "                }\n",
              "            </style>\n",
              "            "
            ]
          },
          "metadata": {}
        }
      ],
      "source": [
        "outfp=\"base_map.html\"\n",
        "# Salvando o mapa\n",
        "map.save(outfp)\n",
        "\n"
      ]
    },
    {
      "cell_type": "code",
      "execution_count": null,
      "metadata": {
        "id": "HQ-OlcUDPkpW",
        "colab": {
          "base_uri": "https://localhost:8080/",
          "height": 17
        },
        "outputId": "11d24f23-ba24-47d7-8859-70458cd09a1b"
      },
      "outputs": [
        {
          "output_type": "display_data",
          "data": {
            "text/plain": [
              "<IPython.core.display.HTML object>"
            ],
            "text/html": [
              "\n",
              "            <style>\n",
              "                .geemap-dark {\n",
              "                    --jp-widgets-color: white;\n",
              "                    --jp-widgets-label-color: white;\n",
              "                    --jp-ui-font-color1: white;\n",
              "                    --jp-layout-color2: #454545;\n",
              "                    background-color: #383838;\n",
              "                }\n",
              "\n",
              "                .geemap-dark .jupyter-button {\n",
              "                    --jp-layout-color3: #383838;\n",
              "                }\n",
              "\n",
              "                .geemap-colab {\n",
              "                    background-color: var(--colab-primary-surface-color, white);\n",
              "                }\n",
              "\n",
              "                .geemap-colab .jupyter-button {\n",
              "                    --jp-layout-color3: var(--colab-primary-surface-color, white);\n",
              "                }\n",
              "            </style>\n",
              "            "
            ]
          },
          "metadata": {}
        }
      ],
      "source": [
        "# Instalaçao da Biblioteca Altair (visualização de dados)\n",
        "!pip install altair -q"
      ]
    },
    {
      "cell_type": "code",
      "source": [
        "# Importando as bibliotecas necessarias\n",
        "import json\n",
        "import geemap\n",
        "# Importa a Biloteca geemap (grafico) e Autair (alt)\n",
        "import geemap.colormaps as cm\n",
        "import altair as alt\n"
      ],
      "metadata": {
        "colab": {
          "base_uri": "https://localhost:8080/",
          "height": 17
        },
        "id": "GMS2rs5vdlOV",
        "outputId": "99a94ba9-e536-40af-9f09-98fec194173b"
      },
      "execution_count": null,
      "outputs": [
        {
          "output_type": "display_data",
          "data": {
            "text/plain": [
              "<IPython.core.display.HTML object>"
            ],
            "text/html": [
              "\n",
              "            <style>\n",
              "                .geemap-dark {\n",
              "                    --jp-widgets-color: white;\n",
              "                    --jp-widgets-label-color: white;\n",
              "                    --jp-ui-font-color1: white;\n",
              "                    --jp-layout-color2: #454545;\n",
              "                    background-color: #383838;\n",
              "                }\n",
              "\n",
              "                .geemap-dark .jupyter-button {\n",
              "                    --jp-layout-color3: #383838;\n",
              "                }\n",
              "\n",
              "                .geemap-colab {\n",
              "                    background-color: var(--colab-primary-surface-color, white);\n",
              "                }\n",
              "\n",
              "                .geemap-colab .jupyter-button {\n",
              "                    --jp-layout-color3: var(--colab-primary-surface-color, white);\n",
              "                }\n",
              "            </style>\n",
              "            "
            ]
          },
          "metadata": {}
        }
      ]
    },
    {
      "cell_type": "code",
      "execution_count": null,
      "metadata": {
        "colab": {
          "base_uri": "https://localhost:8080/",
          "height": 729
        },
        "id": "JEVQ1gSr5SuM",
        "outputId": "b75a0073-99d7-4cfd-91ee-0f31d5d0b4ba"
      },
      "outputs": [
        {
          "output_type": "display_data",
          "data": {
            "text/plain": [
              "<IPython.core.display.HTML object>"
            ],
            "text/html": [
              "\n",
              "            <style>\n",
              "                .geemap-dark {\n",
              "                    --jp-widgets-color: white;\n",
              "                    --jp-widgets-label-color: white;\n",
              "                    --jp-ui-font-color1: white;\n",
              "                    --jp-layout-color2: #454545;\n",
              "                    background-color: #383838;\n",
              "                }\n",
              "\n",
              "                .geemap-dark .jupyter-button {\n",
              "                    --jp-layout-color3: #383838;\n",
              "                }\n",
              "\n",
              "                .geemap-colab {\n",
              "                    background-color: var(--colab-primary-surface-color, white);\n",
              "                }\n",
              "\n",
              "                .geemap-colab .jupyter-button {\n",
              "                    --jp-layout-color3: var(--colab-primary-surface-color, white);\n",
              "                }\n",
              "            </style>\n",
              "            "
            ]
          },
          "metadata": {}
        },
        {
          "output_type": "stream",
          "name": "stdout",
          "text": [
            "         date      ndvi\n",
            "32 2023-02-03  0.655276\n",
            "39 2023-02-08  0.605952\n",
            "1  2023-03-25  0.468597\n",
            "19 2023-03-30  0.463988\n",
            "34 2023-04-24  0.470197\n",
            "30 2023-04-29  0.542115\n",
            "6  2023-05-04  0.547932\n",
            "3  2023-05-14  0.554669\n",
            "2  2023-05-19  0.554218\n",
            "21 2023-05-24  0.526428\n",
            "27 2023-05-29  0.513575\n",
            "8  2023-06-03  0.515507\n",
            "22 2023-06-08  0.494138\n",
            "24 2023-06-13  0.465741\n",
            "9  2023-06-18  0.475534\n",
            "18 2023-06-23  0.454175\n",
            "5  2023-06-28  0.440349\n",
            "13 2023-07-03  0.421819\n",
            "25 2023-07-08  0.400424\n",
            "14 2023-07-13  0.376906\n",
            "16 2023-07-23  0.359754\n",
            "36 2023-07-28  0.336440\n",
            "11 2023-08-02  0.329552\n",
            "4  2023-08-07  0.316593\n",
            "29 2023-08-12  0.294365\n",
            "28 2023-08-17  0.258606\n",
            "7  2023-08-22  0.287490\n",
            "10 2023-09-01  0.254936\n",
            "12 2023-09-11  0.290550\n",
            "23 2023-09-16  0.277579\n",
            "20 2023-09-21  0.270428\n",
            "31 2023-09-26  0.254381\n",
            "38 2023-10-16  0.267375\n",
            "35 2023-10-21  0.279191\n",
            "26 2023-11-05  0.335765\n",
            "17 2023-11-10  0.331424\n",
            "33 2023-11-15  0.316136\n",
            "15 2023-12-10  0.431109\n",
            "0  2023-12-15  0.465360\n",
            "37 2023-12-25  0.432418\n"
          ]
        }
      ],
      "source": [
        "# Criando uma lista para armazenar os valores do NDVI ao longo do tempo.\n",
        "ndvi_values=[]\n",
        "\n",
        "# Iterar sobre todas as imagens da coleção\n",
        "image_list=image.toList(image.size())\n",
        "\n",
        "# Para obter o NDVI\n",
        "for i in range(image_list.length().getInfo()):\n",
        "\n",
        "  # Obter a imagem pelo indice da imagem\n",
        "  img=ee.Image(image_list.get(i))\n",
        "\n",
        "  #Calculo do NDVI\n",
        "  ndvi_img=img.normalizedDifference([\"B8\",\"B4\"])\n",
        "\n",
        "  # Obter as datas da imagem\n",
        "  date=ee.Date(img.get(\"system:time_start\")).format(\"YYYY-MM-dd\").getInfo()\n",
        "\n",
        "  # Reduzir a região para obter a media (NDVI) para a area de estudo\n",
        "  ndvi_value=ndvi_img.reduceRegion(\n",
        "      reducer=ee.Reducer.mean(),\n",
        "      geometry=area_de_estudo,\n",
        "      scale=10).get(\"nd\")\n",
        "  # Adiciona a data e o valor medio do NDVI para a lista\n",
        "  ndvi_values.append({\"date\":date,\"ndvi\":ndvi_value.getInfo()})\n",
        "\n",
        "# Converte a lista em Dataframe Panda(pd)\n",
        "df=pd.DataFrame(ndvi_values)\n",
        "\n",
        "# Converte coluna de Datetime\n",
        "df[\"date\"]=pd.to_datetime(df[\"date\"])\n",
        "\n",
        "# Ordenar o Dataframe pelo coluna date\n",
        "df=df.sort_values(by=\"date\")\n",
        "\n",
        "# Exibe o Dataframe com os valores do NDVI ao longo do tempo\n",
        "print(df)\n"
      ]
    },
    {
      "cell_type": "code",
      "source": [
        "# Iterar sobre todas as imagens da coleção\n",
        "image_list=image.toList(image.size())\n",
        "\n",
        "# Para obter o NDVI a Media Min\n",
        "for i in range(image_list.length().getInfo()):\n",
        "\n",
        "  # Obter a imagem pelo indice da imagem\n",
        "  img=ee.Image(image_list.get(i))\n",
        "\n",
        "  #Calculo do NDVI\n",
        "  ndvi_img=img.normalizedDifference([\"B8\",\"B4\"])\n",
        "\n",
        "  # Obter as datas da imagem\n",
        "  date=ee.Date(img.get(\"system:time_start\")).format(\"YYYY-MM-dd\").getInfo()\n",
        "\n",
        "  # Reduzir a região para obter a media (NDVI) para a area de estudo\n",
        "  ndvi_value=ndvi_img.reduceRegion(\n",
        "      reducer=ee.Reducer.mean(),\n",
        "      geometry=area_de_estudo,\n",
        "      scale=10).get(\"nd\")\n",
        "  # Adiciona a data e o valor medio do NDVI para a lista\n",
        "  ndvi_values.append({\"date\":date,\"ndvi\":ndvi_value.getInfo()})\n",
        "\n",
        "# Converte a lista em Dataframe Panda(pd)\n",
        "df_min=pd.DataFrame(ndvi_values)\n",
        "\n",
        "# Converte coluna de Datetime\n",
        "df_min[\"date\"]=pd.to_datetime(df[\"date\"])\n",
        "\n",
        "# Ordenar o Dataframe pelo coluna date\n",
        "df_min=df_min.sort_values(by=\"date\")\n",
        "\n",
        "# Exibe o Dataframe com os valores do NDVI ao longo do tempo\n",
        "print(df_min)"
      ],
      "metadata": {
        "colab": {
          "base_uri": "https://localhost:8080/",
          "height": 260
        },
        "id": "U4oZl7mggbjq",
        "outputId": "3ee1ec4e-4e3e-4080-d3ea-adcba15e34bb"
      },
      "execution_count": null,
      "outputs": [
        {
          "output_type": "display_data",
          "data": {
            "text/plain": [
              "<IPython.core.display.HTML object>"
            ],
            "text/html": [
              "\n",
              "            <style>\n",
              "                .geemap-dark {\n",
              "                    --jp-widgets-color: white;\n",
              "                    --jp-widgets-label-color: white;\n",
              "                    --jp-ui-font-color1: white;\n",
              "                    --jp-layout-color2: #454545;\n",
              "                    background-color: #383838;\n",
              "                }\n",
              "\n",
              "                .geemap-dark .jupyter-button {\n",
              "                    --jp-layout-color3: #383838;\n",
              "                }\n",
              "\n",
              "                .geemap-colab {\n",
              "                    background-color: var(--colab-primary-surface-color, white);\n",
              "                }\n",
              "\n",
              "                .geemap-colab .jupyter-button {\n",
              "                    --jp-layout-color3: var(--colab-primary-surface-color, white);\n",
              "                }\n",
              "            </style>\n",
              "            "
            ]
          },
          "metadata": {}
        },
        {
          "output_type": "stream",
          "name": "stdout",
          "text": [
            "         date      ndvi\n",
            "32 2023-02-03  0.655276\n",
            "39 2023-02-08  0.605952\n",
            "1  2023-03-25  0.468597\n",
            "19 2023-03-30  0.463988\n",
            "34 2023-04-24  0.470197\n",
            "..        ...       ...\n",
            "75        NaT  0.279191\n",
            "76        NaT  0.336440\n",
            "77        NaT  0.432418\n",
            "78        NaT  0.267375\n",
            "79        NaT  0.605952\n",
            "\n",
            "[80 rows x 2 columns]\n"
          ]
        }
      ]
    },
    {
      "cell_type": "code",
      "source": [
        "# Iterar sobre todas as imagens da coleção\n",
        "image_list=image.toList(image.size())\n",
        "\n",
        "# Para obter o NDVI a Media Min\n",
        "for i in range(image_list.length().getInfo()):\n",
        "\n",
        "  # Obter a imagem pelo indice da imagem\n",
        "  img=ee.Image(image_list.get(i))\n",
        "\n",
        "  #Calculo do NDVI\n",
        "  ndvi_img=img.normalizedDifference([\"B8\",\"B4\"])\n",
        "\n",
        "  # Obter as datas da imagem\n",
        "  date=ee.Date(img.get(\"system:time_start\")).format(\"YYYY-MM-dd\").getInfo()\n",
        "\n",
        "  # Reduzir a região para obter a media (NDVI) para a area de estudo\n",
        "  ndvi_value=ndvi_img.reduceRegion(\n",
        "      reducer=ee.Reducer.mean(),\n",
        "      geometry=area_de_estudo,\n",
        "      scale=10).get(\"nd\")\n",
        "  # Adiciona a data e o valor medio do NDVI para a lista\n",
        "  ndvi_values.append({\"date\":date,\"ndvi\":ndvi_value.getInfo()})\n",
        "\n",
        "# Converte a lista em Dataframe Panda(pd)\n",
        "df_max=pd.DataFrame(ndvi_values)\n",
        "\n",
        "# Converte coluna de Datetime\n",
        "df_max[\"date\"]=pd.to_datetime(df[\"date\"])\n",
        "\n",
        "# Ordenar o Dataframe pelo coluna date\n",
        "df_max=df_max.sort_values(by=\"date\")\n",
        "\n",
        "# Exibe o Dataframe com os valores do NDVI ao longo do tempo\n",
        "print(df_max)"
      ],
      "metadata": {
        "colab": {
          "base_uri": "https://localhost:8080/",
          "height": 260
        },
        "id": "-NT5UHAXg7_r",
        "outputId": "d4ea7b2a-83d6-427b-d9e1-b12840ce732f"
      },
      "execution_count": null,
      "outputs": [
        {
          "output_type": "display_data",
          "data": {
            "text/plain": [
              "<IPython.core.display.HTML object>"
            ],
            "text/html": [
              "\n",
              "            <style>\n",
              "                .geemap-dark {\n",
              "                    --jp-widgets-color: white;\n",
              "                    --jp-widgets-label-color: white;\n",
              "                    --jp-ui-font-color1: white;\n",
              "                    --jp-layout-color2: #454545;\n",
              "                    background-color: #383838;\n",
              "                }\n",
              "\n",
              "                .geemap-dark .jupyter-button {\n",
              "                    --jp-layout-color3: #383838;\n",
              "                }\n",
              "\n",
              "                .geemap-colab {\n",
              "                    background-color: var(--colab-primary-surface-color, white);\n",
              "                }\n",
              "\n",
              "                .geemap-colab .jupyter-button {\n",
              "                    --jp-layout-color3: var(--colab-primary-surface-color, white);\n",
              "                }\n",
              "            </style>\n",
              "            "
            ]
          },
          "metadata": {}
        },
        {
          "output_type": "stream",
          "name": "stdout",
          "text": [
            "          date      ndvi\n",
            "32  2023-02-03  0.655276\n",
            "39  2023-02-08  0.605952\n",
            "1   2023-03-25  0.468597\n",
            "19  2023-03-30  0.463988\n",
            "34  2023-04-24  0.470197\n",
            "..         ...       ...\n",
            "115        NaT  0.279191\n",
            "116        NaT  0.336440\n",
            "117        NaT  0.432418\n",
            "118        NaT  0.267375\n",
            "119        NaT  0.605952\n",
            "\n",
            "[120 rows x 2 columns]\n"
          ]
        }
      ]
    },
    {
      "cell_type": "code",
      "execution_count": null,
      "metadata": {
        "colab": {
          "base_uri": "https://localhost:8080/",
          "height": 260
        },
        "id": "FvTyV2gxE4Za",
        "outputId": "e97e2880-c0fd-4f90-c226-1c999e4d66cf"
      },
      "outputs": [
        {
          "output_type": "display_data",
          "data": {
            "text/plain": [
              "<IPython.core.display.HTML object>"
            ],
            "text/html": [
              "\n",
              "            <style>\n",
              "                .geemap-dark {\n",
              "                    --jp-widgets-color: white;\n",
              "                    --jp-widgets-label-color: white;\n",
              "                    --jp-ui-font-color1: white;\n",
              "                    --jp-layout-color2: #454545;\n",
              "                    background-color: #383838;\n",
              "                }\n",
              "\n",
              "                .geemap-dark .jupyter-button {\n",
              "                    --jp-layout-color3: #383838;\n",
              "                }\n",
              "\n",
              "                .geemap-colab {\n",
              "                    background-color: var(--colab-primary-surface-color, white);\n",
              "                }\n",
              "\n",
              "                .geemap-colab .jupyter-button {\n",
              "                    --jp-layout-color3: var(--colab-primary-surface-color, white);\n",
              "                }\n",
              "            </style>\n",
              "            "
            ]
          },
          "metadata": {}
        },
        {
          "output_type": "stream",
          "name": "stdout",
          "text": [
            "          date      NDVI         type\n",
            "32  2023-02-03  0.655276   NDVI Medio\n",
            "39  2023-02-08  0.605952   NDVI Medio\n",
            "1   2023-03-25  0.468597   NDVI Medio\n",
            "19  2023-03-30  0.463988   NDVI Medio\n",
            "34  2023-04-24  0.470197   NDVI Medio\n",
            "..         ...       ...          ...\n",
            "115        NaT  0.279191  NDVI Maximo\n",
            "116        NaT  0.336440  NDVI Maximo\n",
            "117        NaT  0.432418  NDVI Maximo\n",
            "118        NaT  0.267375  NDVI Maximo\n",
            "119        NaT  0.605952  NDVI Maximo\n",
            "\n",
            "[240 rows x 3 columns]\n"
          ]
        }
      ],
      "source": [
        "# Combinar os Dataframe (medio,minimo e maximo)\n",
        "df[\"type\"]=\"NDVI Medio\"\n",
        "df_min[\"type\"]=\"NDVI Minimo\"\n",
        "df_max[\"type\"]=\"NDVI Maximo\"\n",
        "\n",
        "# Renomear a coluna de NDVI\n",
        "df=df.rename(columns={\"ndvi\":\"NDVI\"})\n",
        "df_min=df_min.rename(columns={\"ndvi\":\"NDVI\"})\n",
        "df_max=df_max.rename(columns={\"ndvi\":\"NDVI\"})\n",
        "# Combina os Dataframe\n",
        "df_combined=pd.concat([df,df_min,df_max])\n",
        "\n",
        "print(df_combined)\n"
      ]
    },
    {
      "cell_type": "code",
      "execution_count": null,
      "metadata": {
        "id": "qRuRRDsLIUoY",
        "colab": {
          "base_uri": "https://localhost:8080/",
          "height": 385
        },
        "outputId": "dac89273-d0c0-49fb-8024-8ef6d36e2d47"
      },
      "outputs": [
        {
          "output_type": "display_data",
          "data": {
            "text/plain": [
              "<IPython.core.display.HTML object>"
            ],
            "text/html": [
              "\n",
              "            <style>\n",
              "                .geemap-dark {\n",
              "                    --jp-widgets-color: white;\n",
              "                    --jp-widgets-label-color: white;\n",
              "                    --jp-ui-font-color1: white;\n",
              "                    --jp-layout-color2: #454545;\n",
              "                    background-color: #383838;\n",
              "                }\n",
              "\n",
              "                .geemap-dark .jupyter-button {\n",
              "                    --jp-layout-color3: #383838;\n",
              "                }\n",
              "\n",
              "                .geemap-colab {\n",
              "                    background-color: var(--colab-primary-surface-color, white);\n",
              "                }\n",
              "\n",
              "                .geemap-colab .jupyter-button {\n",
              "                    --jp-layout-color3: var(--colab-primary-surface-color, white);\n",
              "                }\n",
              "            </style>\n",
              "            "
            ]
          },
          "metadata": {}
        },
        {
          "output_type": "display_data",
          "data": {
            "text/html": [
              "\n",
              "<div id=\"altair-viz-4425f334751749829091687f76351299\"></div>\n",
              "<script type=\"text/javascript\">\n",
              "  var VEGA_DEBUG = (typeof VEGA_DEBUG == \"undefined\") ? {} : VEGA_DEBUG;\n",
              "  (function(spec, embedOpt){\n",
              "    let outputDiv = document.currentScript.previousElementSibling;\n",
              "    if (outputDiv.id !== \"altair-viz-4425f334751749829091687f76351299\") {\n",
              "      outputDiv = document.getElementById(\"altair-viz-4425f334751749829091687f76351299\");\n",
              "    }\n",
              "    const paths = {\n",
              "      \"vega\": \"https://cdn.jsdelivr.net/npm//vega@5?noext\",\n",
              "      \"vega-lib\": \"https://cdn.jsdelivr.net/npm//vega-lib?noext\",\n",
              "      \"vega-lite\": \"https://cdn.jsdelivr.net/npm//vega-lite@4.17.0?noext\",\n",
              "      \"vega-embed\": \"https://cdn.jsdelivr.net/npm//vega-embed@6?noext\",\n",
              "    };\n",
              "\n",
              "    function maybeLoadScript(lib, version) {\n",
              "      var key = `${lib.replace(\"-\", \"\")}_version`;\n",
              "      return (VEGA_DEBUG[key] == version) ?\n",
              "        Promise.resolve(paths[lib]) :\n",
              "        new Promise(function(resolve, reject) {\n",
              "          var s = document.createElement('script');\n",
              "          document.getElementsByTagName(\"head\")[0].appendChild(s);\n",
              "          s.async = true;\n",
              "          s.onload = () => {\n",
              "            VEGA_DEBUG[key] = version;\n",
              "            return resolve(paths[lib]);\n",
              "          };\n",
              "          s.onerror = () => reject(`Error loading script: ${paths[lib]}`);\n",
              "          s.src = paths[lib];\n",
              "        });\n",
              "    }\n",
              "\n",
              "    function showError(err) {\n",
              "      outputDiv.innerHTML = `<div class=\"error\" style=\"color:red;\">${err}</div>`;\n",
              "      throw err;\n",
              "    }\n",
              "\n",
              "    function displayChart(vegaEmbed) {\n",
              "      vegaEmbed(outputDiv, spec, embedOpt)\n",
              "        .catch(err => showError(`Javascript Error: ${err.message}<br>This usually means there's a typo in your chart specification. See the javascript console for the full traceback.`));\n",
              "    }\n",
              "\n",
              "    if(typeof define === \"function\" && define.amd) {\n",
              "      requirejs.config({paths});\n",
              "      require([\"vega-embed\"], displayChart, err => showError(`Error loading script: ${err.message}`));\n",
              "    } else {\n",
              "      maybeLoadScript(\"vega\", \"5\")\n",
              "        .then(() => maybeLoadScript(\"vega-lite\", \"4.17.0\"))\n",
              "        .then(() => maybeLoadScript(\"vega-embed\", \"6\"))\n",
              "        .catch(showError)\n",
              "        .then(() => displayChart(vegaEmbed));\n",
              "    }\n",
              "  })({\"config\": {\"view\": {\"continuousWidth\": 400, \"continuousHeight\": 300}}, \"layer\": [{\"data\": {\"name\": \"data-ddb5f1d3ddc7b0db35d7743e294c4807\"}, \"mark\": {\"type\": \"bar\", \"color\": \"red\", \"size\": 6}, \"encoding\": {\"color\": {\"field\": \"type\", \"legend\": {\"title\": \"Tipo de NDVI\"}, \"type\": \"nominal\"}, \"tooltip\": [{\"field\": \"date\", \"title\": \"DATA\", \"type\": \"temporal\"}, {\"field\": \"NDVI\", \"title\": \"NDVI\", \"type\": \"quantitative\"}], \"x\": {\"field\": \"date\", \"title\": \"data\", \"type\": \"temporal\"}, \"y\": {\"field\": \"NDVI\", \"title\": \"NDVI\", \"type\": \"quantitative\"}}}, {\"data\": {\"name\": \"data-f778f27ca594894a37d69b076ef28011\"}, \"mark\": {\"type\": \"bar\", \"color\": \"blue\", \"size\": 6}, \"encoding\": {\"color\": {\"field\": \"type\", \"legend\": {\"title\": \"Tipo de NDVI\"}, \"type\": \"nominal\"}, \"tooltip\": [{\"field\": \"date\", \"title\": \"DATA\", \"type\": \"temporal\"}, {\"field\": \"NDVI\", \"title\": \"NDVI\", \"type\": \"quantitative\"}], \"x\": {\"field\": \"date\", \"title\": \"data\", \"type\": \"temporal\"}, \"y\": {\"field\": \"NDVI\", \"title\": \"NDVI\", \"type\": \"quantitative\"}}}, {\"data\": {\"name\": \"data-39214f3792e50b49a026e9164aced781\"}, \"mark\": {\"type\": \"line\", \"color\": \"orange\", \"size\": 2}, \"encoding\": {\"color\": {\"field\": \"type\", \"legend\": {\"title\": \"Tipo de NDVI\"}, \"type\": \"nominal\"}, \"tooltip\": [{\"field\": \"date\", \"title\": \"DATA\", \"type\": \"temporal\"}, {\"field\": \"NDVI\", \"title\": \"NDVI\", \"type\": \"quantitative\"}], \"x\": {\"field\": \"date\", \"title\": \"data\", \"type\": \"temporal\"}, \"y\": {\"field\": \"NDVI\", \"title\": \"NDVI\", \"type\": \"quantitative\"}}}], \"height\": 300, \"title\": \"Serie Historica do NDVI para o ano de 2023\", \"width\": 1000, \"$schema\": \"https://vega.github.io/schema/vega-lite/v4.17.0.json\", \"datasets\": {\"data-ddb5f1d3ddc7b0db35d7743e294c4807\": [{\"date\": \"2023-02-03T00:00:00\", \"NDVI\": 0.6552761941996427, \"type\": \"NDVI Minimo\"}, {\"date\": \"2023-02-08T00:00:00\", \"NDVI\": 0.605951548354435, \"type\": \"NDVI Minimo\"}, {\"date\": \"2023-03-25T00:00:00\", \"NDVI\": 0.46859653132633194, \"type\": \"NDVI Minimo\"}, {\"date\": \"2023-03-30T00:00:00\", \"NDVI\": 0.4639881897862017, \"type\": \"NDVI Minimo\"}, {\"date\": \"2023-04-24T00:00:00\", \"NDVI\": 0.470196933306713, \"type\": \"NDVI Minimo\"}, {\"date\": \"2023-04-29T00:00:00\", \"NDVI\": 0.5421151392226372, \"type\": \"NDVI Minimo\"}, {\"date\": \"2023-05-04T00:00:00\", \"NDVI\": 0.547931662308338, \"type\": \"NDVI Minimo\"}, {\"date\": \"2023-05-14T00:00:00\", \"NDVI\": 0.5546687758964715, \"type\": \"NDVI Minimo\"}, {\"date\": \"2023-05-19T00:00:00\", \"NDVI\": 0.5542182193660911, \"type\": \"NDVI Minimo\"}, {\"date\": \"2023-05-24T00:00:00\", \"NDVI\": 0.526427741648831, \"type\": \"NDVI Minimo\"}, {\"date\": \"2023-05-29T00:00:00\", \"NDVI\": 0.5135749904818834, \"type\": \"NDVI Minimo\"}, {\"date\": \"2023-06-03T00:00:00\", \"NDVI\": 0.5155065091186771, \"type\": \"NDVI Minimo\"}, {\"date\": \"2023-06-08T00:00:00\", \"NDVI\": 0.4941378378338659, \"type\": \"NDVI Minimo\"}, {\"date\": \"2023-06-13T00:00:00\", \"NDVI\": 0.46574093322731125, \"type\": \"NDVI Minimo\"}, {\"date\": \"2023-06-18T00:00:00\", \"NDVI\": 0.47553426199660564, \"type\": \"NDVI Minimo\"}, {\"date\": \"2023-06-23T00:00:00\", \"NDVI\": 0.4541753531727756, \"type\": \"NDVI Minimo\"}, {\"date\": \"2023-06-28T00:00:00\", \"NDVI\": 0.4403487588515352, \"type\": \"NDVI Minimo\"}, {\"date\": \"2023-07-03T00:00:00\", \"NDVI\": 0.4218192424276919, \"type\": \"NDVI Minimo\"}, {\"date\": \"2023-07-08T00:00:00\", \"NDVI\": 0.4004242458950687, \"type\": \"NDVI Minimo\"}, {\"date\": \"2023-07-13T00:00:00\", \"NDVI\": 0.3769064267232231, \"type\": \"NDVI Minimo\"}, {\"date\": \"2023-07-23T00:00:00\", \"NDVI\": 0.35975403437225123, \"type\": \"NDVI Minimo\"}, {\"date\": \"2023-07-28T00:00:00\", \"NDVI\": 0.3364399550785352, \"type\": \"NDVI Minimo\"}, {\"date\": \"2023-08-02T00:00:00\", \"NDVI\": 0.32955216703552215, \"type\": \"NDVI Minimo\"}, {\"date\": \"2023-08-07T00:00:00\", \"NDVI\": 0.3165925793114749, \"type\": \"NDVI Minimo\"}, {\"date\": \"2023-08-12T00:00:00\", \"NDVI\": 0.2943646480914915, \"type\": \"NDVI Minimo\"}, {\"date\": \"2023-08-17T00:00:00\", \"NDVI\": 0.2586059597132538, \"type\": \"NDVI Minimo\"}, {\"date\": \"2023-08-22T00:00:00\", \"NDVI\": 0.2874896396961463, \"type\": \"NDVI Minimo\"}, {\"date\": \"2023-09-01T00:00:00\", \"NDVI\": 0.254935913958491, \"type\": \"NDVI Minimo\"}, {\"date\": \"2023-09-11T00:00:00\", \"NDVI\": 0.29055017627254676, \"type\": \"NDVI Minimo\"}, {\"date\": \"2023-09-16T00:00:00\", \"NDVI\": 0.2775787897323415, \"type\": \"NDVI Minimo\"}, {\"date\": \"2023-09-21T00:00:00\", \"NDVI\": 0.27042816545160564, \"type\": \"NDVI Minimo\"}, {\"date\": \"2023-09-26T00:00:00\", \"NDVI\": 0.2543810827529497, \"type\": \"NDVI Minimo\"}, {\"date\": \"2023-10-16T00:00:00\", \"NDVI\": 0.2673752890413075, \"type\": \"NDVI Minimo\"}, {\"date\": \"2023-10-21T00:00:00\", \"NDVI\": 0.27919084762925833, \"type\": \"NDVI Minimo\"}, {\"date\": \"2023-11-05T00:00:00\", \"NDVI\": 0.33576456907542523, \"type\": \"NDVI Minimo\"}, {\"date\": \"2023-11-10T00:00:00\", \"NDVI\": 0.3314240650461556, \"type\": \"NDVI Minimo\"}, {\"date\": \"2023-11-15T00:00:00\", \"NDVI\": 0.3161361633888393, \"type\": \"NDVI Minimo\"}, {\"date\": \"2023-12-10T00:00:00\", \"NDVI\": 0.43110945081978663, \"type\": \"NDVI Minimo\"}, {\"date\": \"2023-12-15T00:00:00\", \"NDVI\": 0.465359936635407, \"type\": \"NDVI Minimo\"}, {\"date\": \"2023-12-25T00:00:00\", \"NDVI\": 0.4324181972836987, \"type\": \"NDVI Minimo\"}, {\"date\": \"\", \"NDVI\": 0.465359936635407, \"type\": \"NDVI Minimo\"}, {\"date\": \"\", \"NDVI\": 0.46859653132633194, \"type\": \"NDVI Minimo\"}, {\"date\": \"\", \"NDVI\": 0.5542182193660911, \"type\": \"NDVI Minimo\"}, {\"date\": \"\", \"NDVI\": 0.5546687758964715, \"type\": \"NDVI Minimo\"}, {\"date\": \"\", \"NDVI\": 0.3165925793114749, \"type\": \"NDVI Minimo\"}, {\"date\": \"\", \"NDVI\": 0.4403487588515352, \"type\": \"NDVI Minimo\"}, {\"date\": \"\", \"NDVI\": 0.547931662308338, \"type\": \"NDVI Minimo\"}, {\"date\": \"\", \"NDVI\": 0.2874896396961463, \"type\": \"NDVI Minimo\"}, {\"date\": \"\", \"NDVI\": 0.5155065091186771, \"type\": \"NDVI Minimo\"}, {\"date\": \"\", \"NDVI\": 0.47553426199660564, \"type\": \"NDVI Minimo\"}, {\"date\": \"\", \"NDVI\": 0.254935913958491, \"type\": \"NDVI Minimo\"}, {\"date\": \"\", \"NDVI\": 0.32955216703552215, \"type\": \"NDVI Minimo\"}, {\"date\": \"\", \"NDVI\": 0.29055017627254676, \"type\": \"NDVI Minimo\"}, {\"date\": \"\", \"NDVI\": 0.4218192424276919, \"type\": \"NDVI Minimo\"}, {\"date\": \"\", \"NDVI\": 0.3769064267232231, \"type\": \"NDVI Minimo\"}, {\"date\": \"\", \"NDVI\": 0.43110945081978663, \"type\": \"NDVI Minimo\"}, {\"date\": \"\", \"NDVI\": 0.35975403437225123, \"type\": \"NDVI Minimo\"}, {\"date\": \"\", \"NDVI\": 0.3314240650461556, \"type\": \"NDVI Minimo\"}, {\"date\": \"\", \"NDVI\": 0.4541753531727756, \"type\": \"NDVI Minimo\"}, {\"date\": \"\", \"NDVI\": 0.4639881897862017, \"type\": \"NDVI Minimo\"}, {\"date\": \"\", \"NDVI\": 0.27042816545160564, \"type\": \"NDVI Minimo\"}, {\"date\": \"\", \"NDVI\": 0.526427741648831, \"type\": \"NDVI Minimo\"}, {\"date\": \"\", \"NDVI\": 0.4941378378338659, \"type\": \"NDVI Minimo\"}, {\"date\": \"\", \"NDVI\": 0.2775787897323415, \"type\": \"NDVI Minimo\"}, {\"date\": \"\", \"NDVI\": 0.46574093322731125, \"type\": \"NDVI Minimo\"}, {\"date\": \"\", \"NDVI\": 0.4004242458950687, \"type\": \"NDVI Minimo\"}, {\"date\": \"\", \"NDVI\": 0.33576456907542523, \"type\": \"NDVI Minimo\"}, {\"date\": \"\", \"NDVI\": 0.5135749904818834, \"type\": \"NDVI Minimo\"}, {\"date\": \"\", \"NDVI\": 0.2586059597132538, \"type\": \"NDVI Minimo\"}, {\"date\": \"\", \"NDVI\": 0.2943646480914915, \"type\": \"NDVI Minimo\"}, {\"date\": \"\", \"NDVI\": 0.5421151392226372, \"type\": \"NDVI Minimo\"}, {\"date\": \"\", \"NDVI\": 0.2543810827529497, \"type\": \"NDVI Minimo\"}, {\"date\": \"\", \"NDVI\": 0.6552761941996427, \"type\": \"NDVI Minimo\"}, {\"date\": \"\", \"NDVI\": 0.3161361633888393, \"type\": \"NDVI Minimo\"}, {\"date\": \"\", \"NDVI\": 0.470196933306713, \"type\": \"NDVI Minimo\"}, {\"date\": \"\", \"NDVI\": 0.27919084762925833, \"type\": \"NDVI Minimo\"}, {\"date\": \"\", \"NDVI\": 0.3364399550785352, \"type\": \"NDVI Minimo\"}, {\"date\": \"\", \"NDVI\": 0.4324181972836987, \"type\": \"NDVI Minimo\"}, {\"date\": \"\", \"NDVI\": 0.2673752890413075, \"type\": \"NDVI Minimo\"}, {\"date\": \"\", \"NDVI\": 0.605951548354435, \"type\": \"NDVI Minimo\"}], \"data-f778f27ca594894a37d69b076ef28011\": [{\"date\": \"2023-02-03T00:00:00\", \"NDVI\": 0.6552761941996427, \"type\": \"NDVI Maximo\"}, {\"date\": \"2023-02-08T00:00:00\", \"NDVI\": 0.605951548354435, \"type\": \"NDVI Maximo\"}, {\"date\": \"2023-03-25T00:00:00\", \"NDVI\": 0.46859653132633194, \"type\": \"NDVI Maximo\"}, {\"date\": \"2023-03-30T00:00:00\", \"NDVI\": 0.4639881897862017, \"type\": \"NDVI Maximo\"}, {\"date\": \"2023-04-24T00:00:00\", \"NDVI\": 0.470196933306713, \"type\": \"NDVI Maximo\"}, {\"date\": \"2023-04-29T00:00:00\", \"NDVI\": 0.5421151392226372, \"type\": \"NDVI Maximo\"}, {\"date\": \"2023-05-04T00:00:00\", \"NDVI\": 0.547931662308338, \"type\": \"NDVI Maximo\"}, {\"date\": \"2023-05-14T00:00:00\", \"NDVI\": 0.5546687758964715, \"type\": \"NDVI Maximo\"}, {\"date\": \"2023-05-19T00:00:00\", \"NDVI\": 0.5542182193660911, \"type\": \"NDVI Maximo\"}, {\"date\": \"2023-05-24T00:00:00\", \"NDVI\": 0.526427741648831, \"type\": \"NDVI Maximo\"}, {\"date\": \"2023-05-29T00:00:00\", \"NDVI\": 0.5135749904818834, \"type\": \"NDVI Maximo\"}, {\"date\": \"2023-06-03T00:00:00\", \"NDVI\": 0.5155065091186771, \"type\": \"NDVI Maximo\"}, {\"date\": \"2023-06-08T00:00:00\", \"NDVI\": 0.4941378378338659, \"type\": \"NDVI Maximo\"}, {\"date\": \"2023-06-13T00:00:00\", \"NDVI\": 0.46574093322731125, \"type\": \"NDVI Maximo\"}, {\"date\": \"2023-06-18T00:00:00\", \"NDVI\": 0.47553426199660564, \"type\": \"NDVI Maximo\"}, {\"date\": \"2023-06-23T00:00:00\", \"NDVI\": 0.4541753531727756, \"type\": \"NDVI Maximo\"}, {\"date\": \"2023-06-28T00:00:00\", \"NDVI\": 0.4403487588515352, \"type\": \"NDVI Maximo\"}, {\"date\": \"2023-07-03T00:00:00\", \"NDVI\": 0.4218192424276919, \"type\": \"NDVI Maximo\"}, {\"date\": \"2023-07-08T00:00:00\", \"NDVI\": 0.4004242458950687, \"type\": \"NDVI Maximo\"}, {\"date\": \"2023-07-13T00:00:00\", \"NDVI\": 0.3769064267232231, \"type\": \"NDVI Maximo\"}, {\"date\": \"2023-07-23T00:00:00\", \"NDVI\": 0.35975403437225123, \"type\": \"NDVI Maximo\"}, {\"date\": \"2023-07-28T00:00:00\", \"NDVI\": 0.3364399550785352, \"type\": \"NDVI Maximo\"}, {\"date\": \"2023-08-02T00:00:00\", \"NDVI\": 0.32955216703552215, \"type\": \"NDVI Maximo\"}, {\"date\": \"2023-08-07T00:00:00\", \"NDVI\": 0.3165925793114749, \"type\": \"NDVI Maximo\"}, {\"date\": \"2023-08-12T00:00:00\", \"NDVI\": 0.2943646480914915, \"type\": \"NDVI Maximo\"}, {\"date\": \"2023-08-17T00:00:00\", \"NDVI\": 0.2586059597132538, \"type\": \"NDVI Maximo\"}, {\"date\": \"2023-08-22T00:00:00\", \"NDVI\": 0.2874896396961463, \"type\": \"NDVI Maximo\"}, {\"date\": \"2023-09-01T00:00:00\", \"NDVI\": 0.254935913958491, \"type\": \"NDVI Maximo\"}, {\"date\": \"2023-09-11T00:00:00\", \"NDVI\": 0.29055017627254676, \"type\": \"NDVI Maximo\"}, {\"date\": \"2023-09-16T00:00:00\", \"NDVI\": 0.2775787897323415, \"type\": \"NDVI Maximo\"}, {\"date\": \"2023-09-21T00:00:00\", \"NDVI\": 0.27042816545160564, \"type\": \"NDVI Maximo\"}, {\"date\": \"2023-09-26T00:00:00\", \"NDVI\": 0.2543810827529497, \"type\": \"NDVI Maximo\"}, {\"date\": \"2023-10-16T00:00:00\", \"NDVI\": 0.2673752890413075, \"type\": \"NDVI Maximo\"}, {\"date\": \"2023-10-21T00:00:00\", \"NDVI\": 0.27919084762925833, \"type\": \"NDVI Maximo\"}, {\"date\": \"2023-11-05T00:00:00\", \"NDVI\": 0.33576456907542523, \"type\": \"NDVI Maximo\"}, {\"date\": \"2023-11-10T00:00:00\", \"NDVI\": 0.3314240650461556, \"type\": \"NDVI Maximo\"}, {\"date\": \"2023-11-15T00:00:00\", \"NDVI\": 0.3161361633888393, \"type\": \"NDVI Maximo\"}, {\"date\": \"2023-12-10T00:00:00\", \"NDVI\": 0.43110945081978663, \"type\": \"NDVI Maximo\"}, {\"date\": \"2023-12-15T00:00:00\", \"NDVI\": 0.465359936635407, \"type\": \"NDVI Maximo\"}, {\"date\": \"2023-12-25T00:00:00\", \"NDVI\": 0.4324181972836987, \"type\": \"NDVI Maximo\"}, {\"date\": \"\", \"NDVI\": 0.465359936635407, \"type\": \"NDVI Maximo\"}, {\"date\": \"\", \"NDVI\": 0.46859653132633194, \"type\": \"NDVI Maximo\"}, {\"date\": \"\", \"NDVI\": 0.5542182193660911, \"type\": \"NDVI Maximo\"}, {\"date\": \"\", \"NDVI\": 0.5546687758964715, \"type\": \"NDVI Maximo\"}, {\"date\": \"\", \"NDVI\": 0.3165925793114749, \"type\": \"NDVI Maximo\"}, {\"date\": \"\", \"NDVI\": 0.4403487588515352, \"type\": \"NDVI Maximo\"}, {\"date\": \"\", \"NDVI\": 0.547931662308338, \"type\": \"NDVI Maximo\"}, {\"date\": \"\", \"NDVI\": 0.2874896396961463, \"type\": \"NDVI Maximo\"}, {\"date\": \"\", \"NDVI\": 0.5155065091186771, \"type\": \"NDVI Maximo\"}, {\"date\": \"\", \"NDVI\": 0.47553426199660564, \"type\": \"NDVI Maximo\"}, {\"date\": \"\", \"NDVI\": 0.254935913958491, \"type\": \"NDVI Maximo\"}, {\"date\": \"\", \"NDVI\": 0.32955216703552215, \"type\": \"NDVI Maximo\"}, {\"date\": \"\", \"NDVI\": 0.29055017627254676, \"type\": \"NDVI Maximo\"}, {\"date\": \"\", \"NDVI\": 0.4218192424276919, \"type\": \"NDVI Maximo\"}, {\"date\": \"\", \"NDVI\": 0.3769064267232231, \"type\": \"NDVI Maximo\"}, {\"date\": \"\", \"NDVI\": 0.43110945081978663, \"type\": \"NDVI Maximo\"}, {\"date\": \"\", \"NDVI\": 0.35975403437225123, \"type\": \"NDVI Maximo\"}, {\"date\": \"\", \"NDVI\": 0.3314240650461556, \"type\": \"NDVI Maximo\"}, {\"date\": \"\", \"NDVI\": 0.4541753531727756, \"type\": \"NDVI Maximo\"}, {\"date\": \"\", \"NDVI\": 0.4639881897862017, \"type\": \"NDVI Maximo\"}, {\"date\": \"\", \"NDVI\": 0.27042816545160564, \"type\": \"NDVI Maximo\"}, {\"date\": \"\", \"NDVI\": 0.526427741648831, \"type\": \"NDVI Maximo\"}, {\"date\": \"\", \"NDVI\": 0.4941378378338659, \"type\": \"NDVI Maximo\"}, {\"date\": \"\", \"NDVI\": 0.2775787897323415, \"type\": \"NDVI Maximo\"}, {\"date\": \"\", \"NDVI\": 0.46574093322731125, \"type\": \"NDVI Maximo\"}, {\"date\": \"\", \"NDVI\": 0.4004242458950687, \"type\": \"NDVI Maximo\"}, {\"date\": \"\", \"NDVI\": 0.33576456907542523, \"type\": \"NDVI Maximo\"}, {\"date\": \"\", \"NDVI\": 0.5135749904818834, \"type\": \"NDVI Maximo\"}, {\"date\": \"\", \"NDVI\": 0.2586059597132538, \"type\": \"NDVI Maximo\"}, {\"date\": \"\", \"NDVI\": 0.2943646480914915, \"type\": \"NDVI Maximo\"}, {\"date\": \"\", \"NDVI\": 0.5421151392226372, \"type\": \"NDVI Maximo\"}, {\"date\": \"\", \"NDVI\": 0.2543810827529497, \"type\": \"NDVI Maximo\"}, {\"date\": \"\", \"NDVI\": 0.6552761941996427, \"type\": \"NDVI Maximo\"}, {\"date\": \"\", \"NDVI\": 0.3161361633888393, \"type\": \"NDVI Maximo\"}, {\"date\": \"\", \"NDVI\": 0.470196933306713, \"type\": \"NDVI Maximo\"}, {\"date\": \"\", \"NDVI\": 0.27919084762925833, \"type\": \"NDVI Maximo\"}, {\"date\": \"\", \"NDVI\": 0.3364399550785352, \"type\": \"NDVI Maximo\"}, {\"date\": \"\", \"NDVI\": 0.4324181972836987, \"type\": \"NDVI Maximo\"}, {\"date\": \"\", \"NDVI\": 0.2673752890413075, \"type\": \"NDVI Maximo\"}, {\"date\": \"\", \"NDVI\": 0.605951548354435, \"type\": \"NDVI Maximo\"}, {\"date\": \"\", \"NDVI\": 0.465359936635407, \"type\": \"NDVI Maximo\"}, {\"date\": \"\", \"NDVI\": 0.46859653132633194, \"type\": \"NDVI Maximo\"}, {\"date\": \"\", \"NDVI\": 0.5542182193660911, \"type\": \"NDVI Maximo\"}, {\"date\": \"\", \"NDVI\": 0.5546687758964715, \"type\": \"NDVI Maximo\"}, {\"date\": \"\", \"NDVI\": 0.3165925793114749, \"type\": \"NDVI Maximo\"}, {\"date\": \"\", \"NDVI\": 0.4403487588515352, \"type\": \"NDVI Maximo\"}, {\"date\": \"\", \"NDVI\": 0.547931662308338, \"type\": \"NDVI Maximo\"}, {\"date\": \"\", \"NDVI\": 0.2874896396961463, \"type\": \"NDVI Maximo\"}, {\"date\": \"\", \"NDVI\": 0.5155065091186771, \"type\": \"NDVI Maximo\"}, {\"date\": \"\", \"NDVI\": 0.47553426199660564, \"type\": \"NDVI Maximo\"}, {\"date\": \"\", \"NDVI\": 0.254935913958491, \"type\": \"NDVI Maximo\"}, {\"date\": \"\", \"NDVI\": 0.32955216703552215, \"type\": \"NDVI Maximo\"}, {\"date\": \"\", \"NDVI\": 0.29055017627254676, \"type\": \"NDVI Maximo\"}, {\"date\": \"\", \"NDVI\": 0.4218192424276919, \"type\": \"NDVI Maximo\"}, {\"date\": \"\", \"NDVI\": 0.3769064267232231, \"type\": \"NDVI Maximo\"}, {\"date\": \"\", \"NDVI\": 0.43110945081978663, \"type\": \"NDVI Maximo\"}, {\"date\": \"\", \"NDVI\": 0.35975403437225123, \"type\": \"NDVI Maximo\"}, {\"date\": \"\", \"NDVI\": 0.3314240650461556, \"type\": \"NDVI Maximo\"}, {\"date\": \"\", \"NDVI\": 0.4541753531727756, \"type\": \"NDVI Maximo\"}, {\"date\": \"\", \"NDVI\": 0.4639881897862017, \"type\": \"NDVI Maximo\"}, {\"date\": \"\", \"NDVI\": 0.27042816545160564, \"type\": \"NDVI Maximo\"}, {\"date\": \"\", \"NDVI\": 0.526427741648831, \"type\": \"NDVI Maximo\"}, {\"date\": \"\", \"NDVI\": 0.4941378378338659, \"type\": \"NDVI Maximo\"}, {\"date\": \"\", \"NDVI\": 0.2775787897323415, \"type\": \"NDVI Maximo\"}, {\"date\": \"\", \"NDVI\": 0.46574093322731125, \"type\": \"NDVI Maximo\"}, {\"date\": \"\", \"NDVI\": 0.4004242458950687, \"type\": \"NDVI Maximo\"}, {\"date\": \"\", \"NDVI\": 0.33576456907542523, \"type\": \"NDVI Maximo\"}, {\"date\": \"\", \"NDVI\": 0.5135749904818834, \"type\": \"NDVI Maximo\"}, {\"date\": \"\", \"NDVI\": 0.2586059597132538, \"type\": \"NDVI Maximo\"}, {\"date\": \"\", \"NDVI\": 0.2943646480914915, \"type\": \"NDVI Maximo\"}, {\"date\": \"\", \"NDVI\": 0.5421151392226372, \"type\": \"NDVI Maximo\"}, {\"date\": \"\", \"NDVI\": 0.2543810827529497, \"type\": \"NDVI Maximo\"}, {\"date\": \"\", \"NDVI\": 0.6552761941996427, \"type\": \"NDVI Maximo\"}, {\"date\": \"\", \"NDVI\": 0.3161361633888393, \"type\": \"NDVI Maximo\"}, {\"date\": \"\", \"NDVI\": 0.470196933306713, \"type\": \"NDVI Maximo\"}, {\"date\": \"\", \"NDVI\": 0.27919084762925833, \"type\": \"NDVI Maximo\"}, {\"date\": \"\", \"NDVI\": 0.3364399550785352, \"type\": \"NDVI Maximo\"}, {\"date\": \"\", \"NDVI\": 0.4324181972836987, \"type\": \"NDVI Maximo\"}, {\"date\": \"\", \"NDVI\": 0.2673752890413075, \"type\": \"NDVI Maximo\"}, {\"date\": \"\", \"NDVI\": 0.605951548354435, \"type\": \"NDVI Maximo\"}], \"data-39214f3792e50b49a026e9164aced781\": [{\"date\": \"2023-02-03T00:00:00\", \"NDVI\": 0.6552761941996427, \"type\": \"NDVI Medio\"}, {\"date\": \"2023-02-08T00:00:00\", \"NDVI\": 0.605951548354435, \"type\": \"NDVI Medio\"}, {\"date\": \"2023-03-25T00:00:00\", \"NDVI\": 0.46859653132633194, \"type\": \"NDVI Medio\"}, {\"date\": \"2023-03-30T00:00:00\", \"NDVI\": 0.4639881897862017, \"type\": \"NDVI Medio\"}, {\"date\": \"2023-04-24T00:00:00\", \"NDVI\": 0.470196933306713, \"type\": \"NDVI Medio\"}, {\"date\": \"2023-04-29T00:00:00\", \"NDVI\": 0.5421151392226372, \"type\": \"NDVI Medio\"}, {\"date\": \"2023-05-04T00:00:00\", \"NDVI\": 0.547931662308338, \"type\": \"NDVI Medio\"}, {\"date\": \"2023-05-14T00:00:00\", \"NDVI\": 0.5546687758964715, \"type\": \"NDVI Medio\"}, {\"date\": \"2023-05-19T00:00:00\", \"NDVI\": 0.5542182193660911, \"type\": \"NDVI Medio\"}, {\"date\": \"2023-05-24T00:00:00\", \"NDVI\": 0.526427741648831, \"type\": \"NDVI Medio\"}, {\"date\": \"2023-05-29T00:00:00\", \"NDVI\": 0.5135749904818834, \"type\": \"NDVI Medio\"}, {\"date\": \"2023-06-03T00:00:00\", \"NDVI\": 0.5155065091186771, \"type\": \"NDVI Medio\"}, {\"date\": \"2023-06-08T00:00:00\", \"NDVI\": 0.4941378378338659, \"type\": \"NDVI Medio\"}, {\"date\": \"2023-06-13T00:00:00\", \"NDVI\": 0.46574093322731125, \"type\": \"NDVI Medio\"}, {\"date\": \"2023-06-18T00:00:00\", \"NDVI\": 0.47553426199660564, \"type\": \"NDVI Medio\"}, {\"date\": \"2023-06-23T00:00:00\", \"NDVI\": 0.4541753531727756, \"type\": \"NDVI Medio\"}, {\"date\": \"2023-06-28T00:00:00\", \"NDVI\": 0.4403487588515352, \"type\": \"NDVI Medio\"}, {\"date\": \"2023-07-03T00:00:00\", \"NDVI\": 0.4218192424276919, \"type\": \"NDVI Medio\"}, {\"date\": \"2023-07-08T00:00:00\", \"NDVI\": 0.4004242458950687, \"type\": \"NDVI Medio\"}, {\"date\": \"2023-07-13T00:00:00\", \"NDVI\": 0.3769064267232231, \"type\": \"NDVI Medio\"}, {\"date\": \"2023-07-23T00:00:00\", \"NDVI\": 0.35975403437225123, \"type\": \"NDVI Medio\"}, {\"date\": \"2023-07-28T00:00:00\", \"NDVI\": 0.3364399550785352, \"type\": \"NDVI Medio\"}, {\"date\": \"2023-08-02T00:00:00\", \"NDVI\": 0.32955216703552215, \"type\": \"NDVI Medio\"}, {\"date\": \"2023-08-07T00:00:00\", \"NDVI\": 0.3165925793114749, \"type\": \"NDVI Medio\"}, {\"date\": \"2023-08-12T00:00:00\", \"NDVI\": 0.2943646480914915, \"type\": \"NDVI Medio\"}, {\"date\": \"2023-08-17T00:00:00\", \"NDVI\": 0.2586059597132538, \"type\": \"NDVI Medio\"}, {\"date\": \"2023-08-22T00:00:00\", \"NDVI\": 0.2874896396961463, \"type\": \"NDVI Medio\"}, {\"date\": \"2023-09-01T00:00:00\", \"NDVI\": 0.254935913958491, \"type\": \"NDVI Medio\"}, {\"date\": \"2023-09-11T00:00:00\", \"NDVI\": 0.29055017627254676, \"type\": \"NDVI Medio\"}, {\"date\": \"2023-09-16T00:00:00\", \"NDVI\": 0.2775787897323415, \"type\": \"NDVI Medio\"}, {\"date\": \"2023-09-21T00:00:00\", \"NDVI\": 0.27042816545160564, \"type\": \"NDVI Medio\"}, {\"date\": \"2023-09-26T00:00:00\", \"NDVI\": 0.2543810827529497, \"type\": \"NDVI Medio\"}, {\"date\": \"2023-10-16T00:00:00\", \"NDVI\": 0.2673752890413075, \"type\": \"NDVI Medio\"}, {\"date\": \"2023-10-21T00:00:00\", \"NDVI\": 0.27919084762925833, \"type\": \"NDVI Medio\"}, {\"date\": \"2023-11-05T00:00:00\", \"NDVI\": 0.33576456907542523, \"type\": \"NDVI Medio\"}, {\"date\": \"2023-11-10T00:00:00\", \"NDVI\": 0.3314240650461556, \"type\": \"NDVI Medio\"}, {\"date\": \"2023-11-15T00:00:00\", \"NDVI\": 0.3161361633888393, \"type\": \"NDVI Medio\"}, {\"date\": \"2023-12-10T00:00:00\", \"NDVI\": 0.43110945081978663, \"type\": \"NDVI Medio\"}, {\"date\": \"2023-12-15T00:00:00\", \"NDVI\": 0.465359936635407, \"type\": \"NDVI Medio\"}, {\"date\": \"2023-12-25T00:00:00\", \"NDVI\": 0.4324181972836987, \"type\": \"NDVI Medio\"}]}}, {\"mode\": \"vega-lite\"});\n",
              "</script>"
            ],
            "text/plain": [
              "alt.LayerChart(...)"
            ]
          },
          "metadata": {}
        }
      ],
      "source": [
        "# Criando o  Graficos (barras) para o NDVI minimo\n",
        "barras_min=alt.Chart(df_combined[df_combined[\"type\"]==\"NDVI Minimo\"]).mark_bar(size=6,color=\"red\").encode(\n",
        "\n",
        "\n",
        "    x=alt.X(\"date:T\",title=\"data\"),\n",
        "    y=alt.Y(\"NDVI:Q\",title=\"NDVI\"),\n",
        "    color=alt.Color(\"type:N\",legend=alt.Legend(title=\"Tipo de NDVI\")),\n",
        "    tooltip=[\n",
        "        alt.Tooltip(\"date:T\",title=\"DATA\"),\n",
        "        alt.Tooltip(\"NDVI:Q\",title=\"NDVI\")\n",
        "    ]\n",
        ")\n",
        "\n",
        "\n",
        "# Criando o  Graficos (barras) para o NDVI maximo\n",
        "barras_max=alt.Chart(df_combined[df_combined[\"type\"]==\"NDVI Maximo\"]).mark_bar(size=6,color=\"blue\").encode(\n",
        "\n",
        "\n",
        "    x=alt.X(\"date:T\",title=\"data\"),\n",
        "    y=alt.Y(\"NDVI:Q\",title=\"NDVI\"),\n",
        "    color=alt.Color(\"type:N\",legend=alt.Legend(title=\"Tipo de NDVI\")),\n",
        "    tooltip=[\n",
        "        alt.Tooltip(\"date:T\",title=\"DATA\"),\n",
        "        alt.Tooltip(\"NDVI:Q\",title=\"NDVI\")\n",
        "    ]\n",
        ")\n",
        "\n",
        "# Criando o  Graficos (linha) para o NDVI media\n",
        "linha_men=alt.Chart(df_combined[df_combined[\"type\"]==\"NDVI Medio\"]).mark_line(size=2,color=\"orange\").encode(\n",
        "\n",
        "    x=alt.X(\"date:T\",title=\"data\"),\n",
        "    y=alt.Y(\"NDVI:Q\",title=\"NDVI\"),\n",
        "    color=alt.Color(\"type:N\",legend=alt.Legend(title=\"Tipo de NDVI\")),\n",
        "    tooltip=[\n",
        "        alt.Tooltip(\"date:T\",title=\"DATA\"),\n",
        "        alt.Tooltip(\"NDVI:Q\",title=\"NDVI\")\n",
        "    ]\n",
        ")\n",
        "\n",
        "# Combinar os graficos\n",
        "comb_grafico=alt.layer(barras_min,barras_max,linha_men).properties(\n",
        "    title=\"Serie Historica do NDVI para o ano de 2023\",width=1000,height=300\n",
        ")\n",
        "\n",
        "# Exibindo o grafico\n",
        "comb_grafico.display()"
      ]
    },
    {
      "cell_type": "code",
      "execution_count": null,
      "metadata": {
        "id": "aNTKrygXgVQt"
      },
      "outputs": [],
      "source": []
    }
  ],
  "metadata": {
    "colab": {
      "provenance": [],
      "mount_file_id": "1JUIPCs4acPXjBuC1T3P11WxJ23Z9rk0A",
      "authorship_tag": "ABX9TyNO2fxxQHWieYloEaTZjpOI",
      "include_colab_link": true
    },
    "kernelspec": {
      "display_name": "Python 3",
      "name": "python3"
    },
    "language_info": {
      "name": "python"
    },
    "widgets": {
      "application/vnd.jupyter.widget-state+json": {
        "80a4bc9c9eaa4951b7822c94c5422b85": {
          "model_module": "jupyter-leaflet",
          "model_name": "LeafletMapModel",
          "model_module_version": "^0.18",
          "state": {
            "_dom_classes": [],
            "_model_module": "jupyter-leaflet",
            "_model_module_version": "^0.18",
            "_model_name": "LeafletMapModel",
            "_view_count": null,
            "_view_module": "jupyter-leaflet",
            "_view_module_version": "^0.18",
            "_view_name": "LeafletMapView",
            "bottom": 144173,
            "bounce_at_zoom_limits": true,
            "box_zoom": true,
            "center": [
              -17.309378329877102,
              -46.9873722026027
            ],
            "close_popup_on_click": true,
            "controls": [
              "IPY_MODEL_2e3fd6836ff24c7b94176208a9529dc2",
              "IPY_MODEL_2094a083d7734ee1afbd68862301ebb4",
              "IPY_MODEL_7845d5e1137945c6a454b01970bef0fe",
              "IPY_MODEL_fbf01474c92545eb8f2c9776db1c48e2",
              "IPY_MODEL_676f25c110134768a2a9dff18e0f2779",
              "IPY_MODEL_ebda5e13a43142019d100be447b9c07c",
              "IPY_MODEL_5ddc1e12f4d8472f8b789076985f62a0",
              "IPY_MODEL_da983d521a35476f97d4b58de5053c4e"
            ],
            "crs": {
              "name": "EPSG3857",
              "custom": false
            },
            "default_style": "IPY_MODEL_14c1fc77055340588a58f00c3a47b5f2",
            "double_click_zoom": true,
            "dragging": true,
            "dragging_style": "IPY_MODEL_04ee8d259bff4ff684a136725660bb72",
            "east": -46.06292724609376,
            "fullscreen": false,
            "inertia": true,
            "inertia_deceleration": 3000,
            "inertia_max_speed": 1500,
            "interpolation": "bilinear",
            "keyboard": true,
            "keyboard_pan_offset": 80,
            "keyboard_zoom_offset": 1,
            "layers": [
              "IPY_MODEL_692bc209bc1c43399479c0eed663bc5e",
              "IPY_MODEL_2f36f53ddbf04e41be4f5454f227d1dd",
              "IPY_MODEL_d543410fa7104bf190b31648a5435902",
              "IPY_MODEL_671e256bb88141e2bbdc8eaf80ee5609"
            ],
            "layout": "IPY_MODEL_35e430460929479fa6f37a84844b4946",
            "left": 96184,
            "max_zoom": 24,
            "min_zoom": null,
            "modisdate": "2024-06-18",
            "north": -16.91625308108259,
            "options": [
              "bounce_at_zoom_limits",
              "box_zoom",
              "center",
              "close_popup_on_click",
              "double_click_zoom",
              "dragging",
              "fullscreen",
              "inertia",
              "inertia_deceleration",
              "inertia_max_speed",
              "interpolation",
              "keyboard",
              "keyboard_pan_offset",
              "keyboard_zoom_offset",
              "max_zoom",
              "min_zoom",
              "prefer_canvas",
              "scroll_wheel_zoom",
              "tap",
              "tap_tolerance",
              "touch_zoom",
              "world_copy_jump",
              "zoom",
              "zoom_animation_threshold",
              "zoom_delta",
              "zoom_snap"
            ],
            "panes": {},
            "prefer_canvas": false,
            "right": 97530,
            "scroll_wheel_zoom": true,
            "south": -17.702903386048423,
            "style": "IPY_MODEL_63e2b7949f7e4b6d84935a36aaa50370",
            "tap": true,
            "tap_tolerance": 15,
            "top": 143573,
            "touch_zoom": true,
            "west": -47.91137695312501,
            "window_url": "https://th7gveq3b9-496ff2e9c6d22116-0-colab.googleusercontent.com/outputframe.html?vrz=colab_20240614-060104_RC00_643308762",
            "world_copy_jump": false,
            "zoom": 10,
            "zoom_animation_threshold": 4,
            "zoom_delta": 1,
            "zoom_snap": 1
          }
        },
        "2e3fd6836ff24c7b94176208a9529dc2": {
          "model_module": "jupyter-leaflet",
          "model_name": "LeafletWidgetControlModel",
          "model_module_version": "^0.18",
          "state": {
            "_model_module": "jupyter-leaflet",
            "_model_module_version": "^0.18",
            "_model_name": "LeafletWidgetControlModel",
            "_view_count": null,
            "_view_module": "jupyter-leaflet",
            "_view_module_version": "^0.18",
            "_view_name": "LeafletWidgetControlView",
            "max_height": null,
            "max_width": null,
            "min_height": null,
            "min_width": null,
            "options": [
              "position",
              "transparent_bg"
            ],
            "position": "topleft",
            "transparent_bg": false,
            "widget": "IPY_MODEL_d7d30481f2e74ce99fd216096abf16a0"
          }
        },
        "2094a083d7734ee1afbd68862301ebb4": {
          "model_module": "jupyter-leaflet",
          "model_name": "LeafletZoomControlModel",
          "model_module_version": "^0.18",
          "state": {
            "_model_module": "jupyter-leaflet",
            "_model_module_version": "^0.18",
            "_model_name": "LeafletZoomControlModel",
            "_view_count": null,
            "_view_module": "jupyter-leaflet",
            "_view_module_version": "^0.18",
            "_view_name": "LeafletZoomControlView",
            "options": [
              "position",
              "zoom_in_text",
              "zoom_in_title",
              "zoom_out_text",
              "zoom_out_title"
            ],
            "position": "topleft",
            "zoom_in_text": "+",
            "zoom_in_title": "Zoom in",
            "zoom_out_text": "-",
            "zoom_out_title": "Zoom out"
          }
        },
        "7845d5e1137945c6a454b01970bef0fe": {
          "model_module": "jupyter-leaflet",
          "model_name": "LeafletFullScreenControlModel",
          "model_module_version": "^0.18",
          "state": {
            "_model_module": "jupyter-leaflet",
            "_model_module_version": "^0.18",
            "_model_name": "LeafletFullScreenControlModel",
            "_view_count": null,
            "_view_module": "jupyter-leaflet",
            "_view_module_version": "^0.18",
            "_view_name": "LeafletFullScreenControlView",
            "options": [
              "position"
            ],
            "position": "topleft"
          }
        },
        "fbf01474c92545eb8f2c9776db1c48e2": {
          "model_module": "jupyter-leaflet",
          "model_name": "LeafletDrawControlModel",
          "model_module_version": "^0.18",
          "state": {
            "_model_module": "jupyter-leaflet",
            "_model_module_version": "^0.18",
            "_model_name": "LeafletDrawControlModel",
            "_view_count": null,
            "_view_module": "jupyter-leaflet",
            "_view_module_version": "^0.18",
            "_view_name": "LeafletDrawControlView",
            "circle": {},
            "circlemarker": {},
            "data": [],
            "edit": true,
            "marker": {
              "shapeOptions": {
                "color": "#3388ff"
              }
            },
            "options": [
              "position"
            ],
            "polygon": {
              "shapeOptions": {}
            },
            "polyline": {
              "shapeOptions": {}
            },
            "position": "topleft",
            "rectangle": {
              "shapeOptions": {
                "color": "#3388ff"
              }
            },
            "remove": true
          }
        },
        "676f25c110134768a2a9dff18e0f2779": {
          "model_module": "jupyter-leaflet",
          "model_name": "LeafletScaleControlModel",
          "model_module_version": "^0.18",
          "state": {
            "_model_module": "jupyter-leaflet",
            "_model_module_version": "^0.18",
            "_model_name": "LeafletScaleControlModel",
            "_view_count": null,
            "_view_module": "jupyter-leaflet",
            "_view_module_version": "^0.18",
            "_view_name": "LeafletScaleControlView",
            "imperial": true,
            "max_width": 100,
            "metric": true,
            "options": [
              "imperial",
              "max_width",
              "metric",
              "position",
              "update_when_idle"
            ],
            "position": "bottomleft",
            "update_when_idle": false
          }
        },
        "ebda5e13a43142019d100be447b9c07c": {
          "model_module": "jupyter-leaflet",
          "model_name": "LeafletMeasureControlModel",
          "model_module_version": "^0.18",
          "state": {
            "_custom_units": {},
            "_model_module": "jupyter-leaflet",
            "_model_module_version": "^0.18",
            "_model_name": "LeafletMeasureControlModel",
            "_view_count": null,
            "_view_module": "jupyter-leaflet",
            "_view_module_version": "^0.18",
            "_view_name": "LeafletMeasureControlView",
            "active_color": "orange",
            "capture_z_index": 10000,
            "completed_color": "#C8F2BE",
            "options": [
              "active_color",
              "capture_z_index",
              "completed_color",
              "popup_options",
              "position",
              "primary_area_unit",
              "primary_length_unit",
              "secondary_area_unit",
              "secondary_length_unit"
            ],
            "popup_options": {
              "className": "leaflet-measure-resultpopup",
              "autoPanPadding": [
                10,
                10
              ]
            },
            "position": "bottomleft",
            "primary_area_unit": "acres",
            "primary_length_unit": "kilometers",
            "secondary_area_unit": null,
            "secondary_length_unit": null
          }
        },
        "5ddc1e12f4d8472f8b789076985f62a0": {
          "model_module": "jupyter-leaflet",
          "model_name": "LeafletWidgetControlModel",
          "model_module_version": "^0.18",
          "state": {
            "_model_module": "jupyter-leaflet",
            "_model_module_version": "^0.18",
            "_model_name": "LeafletWidgetControlModel",
            "_view_count": null,
            "_view_module": "jupyter-leaflet",
            "_view_module_version": "^0.18",
            "_view_name": "LeafletWidgetControlView",
            "max_height": null,
            "max_width": null,
            "min_height": null,
            "min_width": null,
            "options": [
              "position",
              "transparent_bg"
            ],
            "position": "topright",
            "transparent_bg": false,
            "widget": "IPY_MODEL_421e68985bad4051a0545ea5fdf32497"
          }
        },
        "da983d521a35476f97d4b58de5053c4e": {
          "model_module": "jupyter-leaflet",
          "model_name": "LeafletAttributionControlModel",
          "model_module_version": "^0.18",
          "state": {
            "_model_module": "jupyter-leaflet",
            "_model_module_version": "^0.18",
            "_model_name": "LeafletAttributionControlModel",
            "_view_count": null,
            "_view_module": "jupyter-leaflet",
            "_view_module_version": "^0.18",
            "_view_name": "LeafletAttributionControlView",
            "options": [
              "position",
              "prefix"
            ],
            "position": "bottomright",
            "prefix": "ipyleaflet"
          }
        },
        "14c1fc77055340588a58f00c3a47b5f2": {
          "model_module": "jupyter-leaflet",
          "model_name": "LeafletMapStyleModel",
          "model_module_version": "^0.18",
          "state": {
            "_model_module": "jupyter-leaflet",
            "_model_module_version": "^0.18",
            "_model_name": "LeafletMapStyleModel",
            "_view_count": null,
            "_view_module": "@jupyter-widgets/base",
            "_view_module_version": "1.2.0",
            "_view_name": "StyleView",
            "cursor": "grab"
          }
        },
        "04ee8d259bff4ff684a136725660bb72": {
          "model_module": "jupyter-leaflet",
          "model_name": "LeafletMapStyleModel",
          "model_module_version": "^0.18",
          "state": {
            "_model_module": "jupyter-leaflet",
            "_model_module_version": "^0.18",
            "_model_name": "LeafletMapStyleModel",
            "_view_count": null,
            "_view_module": "@jupyter-widgets/base",
            "_view_module_version": "1.2.0",
            "_view_name": "StyleView",
            "cursor": "move"
          }
        },
        "692bc209bc1c43399479c0eed663bc5e": {
          "model_module": "jupyter-leaflet",
          "model_name": "LeafletTileLayerModel",
          "model_module_version": "^0.18",
          "state": {
            "_model_module": "jupyter-leaflet",
            "_model_module_version": "^0.18",
            "_model_name": "LeafletTileLayerModel",
            "_view_count": null,
            "_view_module": "jupyter-leaflet",
            "_view_module_version": "^0.18",
            "_view_name": "LeafletTileLayerView",
            "attribution": "&copy; <a href=\"https://www.openstreetmap.org/copyright\">OpenStreetMap</a> contributors",
            "base": true,
            "bottom": true,
            "bounds": null,
            "detect_retina": false,
            "loading": false,
            "max_native_zoom": null,
            "max_zoom": 19,
            "min_native_zoom": null,
            "min_zoom": 1,
            "name": "OpenStreetMap.Mapnik",
            "no_wrap": false,
            "opacity": 1,
            "options": [
              "attribution",
              "bounds",
              "detect_retina",
              "max_native_zoom",
              "max_zoom",
              "min_native_zoom",
              "min_zoom",
              "no_wrap",
              "tile_size",
              "tms",
              "zoom_offset"
            ],
            "pane": "",
            "popup": null,
            "popup_max_height": null,
            "popup_max_width": 300,
            "popup_min_width": 50,
            "show_loading": false,
            "subitems": [],
            "tile_size": 256,
            "tms": false,
            "url": "https://tile.openstreetmap.org/{z}/{x}/{y}.png",
            "visible": true,
            "zoom_offset": 0
          }
        },
        "2f36f53ddbf04e41be4f5454f227d1dd": {
          "model_module": "jupyter-leaflet",
          "model_name": "LeafletTileLayerModel",
          "model_module_version": "^0.18",
          "state": {
            "_model_module": "jupyter-leaflet",
            "_model_module_version": "^0.18",
            "_model_name": "LeafletTileLayerModel",
            "_view_count": null,
            "_view_module": "jupyter-leaflet",
            "_view_module_version": "^0.18",
            "_view_name": "LeafletTileLayerView",
            "attribution": "Esri",
            "base": false,
            "bottom": true,
            "bounds": null,
            "detect_retina": false,
            "loading": false,
            "max_native_zoom": null,
            "max_zoom": 24,
            "min_native_zoom": null,
            "min_zoom": 0,
            "name": "Esri.WorldImagery",
            "no_wrap": false,
            "opacity": 1,
            "options": [
              "attribution",
              "bounds",
              "detect_retina",
              "max_native_zoom",
              "max_zoom",
              "min_native_zoom",
              "min_zoom",
              "no_wrap",
              "tile_size",
              "tms",
              "zoom_offset"
            ],
            "pane": "",
            "popup": null,
            "popup_max_height": null,
            "popup_max_width": 300,
            "popup_min_width": 50,
            "show_loading": false,
            "subitems": [],
            "tile_size": 256,
            "tms": false,
            "url": "https://server.arcgisonline.com/ArcGIS/rest/services/World_Imagery/MapServer/tile/{z}/{y}/{x}",
            "visible": true,
            "zoom_offset": 0
          }
        },
        "d543410fa7104bf190b31648a5435902": {
          "model_module": "jupyter-leaflet",
          "model_name": "LeafletTileLayerModel",
          "model_module_version": "^0.18",
          "state": {
            "_model_module": "jupyter-leaflet",
            "_model_module_version": "^0.18",
            "_model_name": "LeafletTileLayerModel",
            "_view_count": null,
            "_view_module": "jupyter-leaflet",
            "_view_module_version": "^0.18",
            "_view_name": "LeafletTileLayerView",
            "attribution": "Google Earth Engine",
            "base": false,
            "bottom": true,
            "bounds": null,
            "detect_retina": false,
            "loading": false,
            "max_native_zoom": null,
            "max_zoom": 24,
            "min_native_zoom": null,
            "min_zoom": 0,
            "name": "Imagem RGB",
            "no_wrap": false,
            "opacity": 1,
            "options": [
              "attribution",
              "bounds",
              "detect_retina",
              "max_native_zoom",
              "max_zoom",
              "min_native_zoom",
              "min_zoom",
              "no_wrap",
              "tile_size",
              "tms",
              "zoom_offset"
            ],
            "pane": "",
            "popup": null,
            "popup_max_height": null,
            "popup_max_width": 300,
            "popup_min_width": 50,
            "show_loading": false,
            "subitems": [],
            "tile_size": 256,
            "tms": false,
            "url": "https://earthengine.googleapis.com/v1/projects/ee-projetomivegetacao/maps/185003c13f7264b06577cbcbff891585-cd402e04ea8ef2c66d622808731f4465/tiles/{z}/{x}/{y}",
            "visible": true,
            "zoom_offset": 0
          }
        },
        "671e256bb88141e2bbdc8eaf80ee5609": {
          "model_module": "jupyter-leaflet",
          "model_name": "LeafletTileLayerModel",
          "model_module_version": "^0.18",
          "state": {
            "_model_module": "jupyter-leaflet",
            "_model_module_version": "^0.18",
            "_model_name": "LeafletTileLayerModel",
            "_view_count": null,
            "_view_module": "jupyter-leaflet",
            "_view_module_version": "^0.18",
            "_view_name": "LeafletTileLayerView",
            "attribution": "Google Earth Engine",
            "base": false,
            "bottom": true,
            "bounds": null,
            "detect_retina": false,
            "loading": false,
            "max_native_zoom": null,
            "max_zoom": 24,
            "min_native_zoom": null,
            "min_zoom": 0,
            "name": "ROI",
            "no_wrap": false,
            "opacity": 1,
            "options": [
              "attribution",
              "bounds",
              "detect_retina",
              "max_native_zoom",
              "max_zoom",
              "min_native_zoom",
              "min_zoom",
              "no_wrap",
              "tile_size",
              "tms",
              "zoom_offset"
            ],
            "pane": "",
            "popup": null,
            "popup_max_height": null,
            "popup_max_width": 300,
            "popup_min_width": 50,
            "show_loading": false,
            "subitems": [],
            "tile_size": 256,
            "tms": false,
            "url": "https://earthengine.googleapis.com/v1/projects/ee-projetomivegetacao/maps/04511bc55b6bda18d58a10dde450c2b1-2e2bd4927425da085733402a7422d262/tiles/{z}/{x}/{y}",
            "visible": true,
            "zoom_offset": 0
          }
        },
        "35e430460929479fa6f37a84844b4946": {
          "model_module": "@jupyter-widgets/base",
          "model_name": "LayoutModel",
          "model_module_version": "1.2.0",
          "state": {
            "_model_module": "@jupyter-widgets/base",
            "_model_module_version": "1.2.0",
            "_model_name": "LayoutModel",
            "_view_count": null,
            "_view_module": "@jupyter-widgets/base",
            "_view_module_version": "1.2.0",
            "_view_name": "LayoutView",
            "align_content": null,
            "align_items": null,
            "align_self": null,
            "border": null,
            "bottom": null,
            "display": null,
            "flex": null,
            "flex_flow": null,
            "grid_area": null,
            "grid_auto_columns": null,
            "grid_auto_flow": null,
            "grid_auto_rows": null,
            "grid_column": null,
            "grid_gap": null,
            "grid_row": null,
            "grid_template_areas": null,
            "grid_template_columns": null,
            "grid_template_rows": null,
            "height": "600px",
            "justify_content": null,
            "justify_items": null,
            "left": null,
            "margin": null,
            "max_height": null,
            "max_width": null,
            "min_height": null,
            "min_width": null,
            "object_fit": null,
            "object_position": null,
            "order": null,
            "overflow": null,
            "overflow_x": null,
            "overflow_y": null,
            "padding": null,
            "right": null,
            "top": null,
            "visibility": null,
            "width": null
          }
        },
        "63e2b7949f7e4b6d84935a36aaa50370": {
          "model_module": "jupyter-leaflet",
          "model_name": "LeafletMapStyleModel",
          "model_module_version": "^0.18",
          "state": {
            "_model_module": "jupyter-leaflet",
            "_model_module_version": "^0.18",
            "_model_name": "LeafletMapStyleModel",
            "_view_count": null,
            "_view_module": "@jupyter-widgets/base",
            "_view_module_version": "1.2.0",
            "_view_name": "StyleView",
            "cursor": "grab"
          }
        },
        "d7d30481f2e74ce99fd216096abf16a0": {
          "model_module": "@jupyter-widgets/controls",
          "model_name": "HBoxModel",
          "model_module_version": "1.5.0",
          "state": {
            "_dom_classes": [
              "geemap-colab"
            ],
            "_model_module": "@jupyter-widgets/controls",
            "_model_module_version": "1.5.0",
            "_model_name": "HBoxModel",
            "_view_count": null,
            "_view_module": "@jupyter-widgets/controls",
            "_view_module_version": "1.5.0",
            "_view_name": "HBoxView",
            "box_style": "",
            "children": [
              "IPY_MODEL_921c9d9dcac141758209de96cecb2633"
            ],
            "layout": "IPY_MODEL_de756086be1e40d694f24fb84292894c"
          }
        },
        "421e68985bad4051a0545ea5fdf32497": {
          "model_module": "@jupyter-widgets/controls",
          "model_name": "VBoxModel",
          "model_module_version": "1.5.0",
          "state": {
            "_dom_classes": [
              "geemap-colab"
            ],
            "_model_module": "@jupyter-widgets/controls",
            "_model_module_version": "1.5.0",
            "_model_name": "VBoxModel",
            "_view_count": null,
            "_view_module": "@jupyter-widgets/controls",
            "_view_module_version": "1.5.0",
            "_view_name": "VBoxView",
            "box_style": "",
            "children": [
              "IPY_MODEL_cb0138bb0d7b49a3b79a569e0f46164a"
            ],
            "layout": "IPY_MODEL_37b6d1b58f3a4db29b4895c7b964b622"
          }
        },
        "921c9d9dcac141758209de96cecb2633": {
          "model_module": "@jupyter-widgets/controls",
          "model_name": "ToggleButtonModel",
          "model_module_version": "1.5.0",
          "state": {
            "_dom_classes": [],
            "_model_module": "@jupyter-widgets/controls",
            "_model_module_version": "1.5.0",
            "_model_name": "ToggleButtonModel",
            "_view_count": null,
            "_view_module": "@jupyter-widgets/controls",
            "_view_module_version": "1.5.0",
            "_view_name": "ToggleButtonView",
            "button_style": "",
            "description": "",
            "description_tooltip": null,
            "disabled": false,
            "icon": "globe",
            "layout": "IPY_MODEL_1fb27afbaa80444aabd80b0c48577319",
            "style": "IPY_MODEL_6b051d0b64e344218fcac774ad4c96cf",
            "tooltip": "Search location/data",
            "value": false
          }
        },
        "de756086be1e40d694f24fb84292894c": {
          "model_module": "@jupyter-widgets/base",
          "model_name": "LayoutModel",
          "model_module_version": "1.2.0",
          "state": {
            "_model_module": "@jupyter-widgets/base",
            "_model_module_version": "1.2.0",
            "_model_name": "LayoutModel",
            "_view_count": null,
            "_view_module": "@jupyter-widgets/base",
            "_view_module_version": "1.2.0",
            "_view_name": "LayoutView",
            "align_content": null,
            "align_items": null,
            "align_self": null,
            "border": null,
            "bottom": null,
            "display": null,
            "flex": null,
            "flex_flow": null,
            "grid_area": null,
            "grid_auto_columns": null,
            "grid_auto_flow": null,
            "grid_auto_rows": null,
            "grid_column": null,
            "grid_gap": null,
            "grid_row": null,
            "grid_template_areas": null,
            "grid_template_columns": null,
            "grid_template_rows": null,
            "height": null,
            "justify_content": null,
            "justify_items": null,
            "left": null,
            "margin": null,
            "max_height": null,
            "max_width": null,
            "min_height": null,
            "min_width": null,
            "object_fit": null,
            "object_position": null,
            "order": null,
            "overflow": null,
            "overflow_x": null,
            "overflow_y": null,
            "padding": null,
            "right": null,
            "top": null,
            "visibility": null,
            "width": null
          }
        },
        "cb0138bb0d7b49a3b79a569e0f46164a": {
          "model_module": "@jupyter-widgets/controls",
          "model_name": "ToggleButtonModel",
          "model_module_version": "1.5.0",
          "state": {
            "_dom_classes": [],
            "_model_module": "@jupyter-widgets/controls",
            "_model_module_version": "1.5.0",
            "_model_name": "ToggleButtonModel",
            "_view_count": null,
            "_view_module": "@jupyter-widgets/controls",
            "_view_module_version": "1.5.0",
            "_view_name": "ToggleButtonView",
            "button_style": "",
            "description": "",
            "description_tooltip": null,
            "disabled": false,
            "icon": "wrench",
            "layout": "IPY_MODEL_e3042e6fc97a4fda925bed887c3fc2df",
            "style": "IPY_MODEL_83e0ed35d16c4bc384988ce45717a1cf",
            "tooltip": "Toolbar",
            "value": false
          }
        },
        "37b6d1b58f3a4db29b4895c7b964b622": {
          "model_module": "@jupyter-widgets/base",
          "model_name": "LayoutModel",
          "model_module_version": "1.2.0",
          "state": {
            "_model_module": "@jupyter-widgets/base",
            "_model_module_version": "1.2.0",
            "_model_name": "LayoutModel",
            "_view_count": null,
            "_view_module": "@jupyter-widgets/base",
            "_view_module_version": "1.2.0",
            "_view_name": "LayoutView",
            "align_content": null,
            "align_items": null,
            "align_self": null,
            "border": null,
            "bottom": null,
            "display": null,
            "flex": null,
            "flex_flow": null,
            "grid_area": null,
            "grid_auto_columns": null,
            "grid_auto_flow": null,
            "grid_auto_rows": null,
            "grid_column": null,
            "grid_gap": null,
            "grid_row": null,
            "grid_template_areas": null,
            "grid_template_columns": null,
            "grid_template_rows": null,
            "height": null,
            "justify_content": null,
            "justify_items": null,
            "left": null,
            "margin": null,
            "max_height": null,
            "max_width": null,
            "min_height": null,
            "min_width": null,
            "object_fit": null,
            "object_position": null,
            "order": null,
            "overflow": null,
            "overflow_x": null,
            "overflow_y": null,
            "padding": null,
            "right": null,
            "top": null,
            "visibility": null,
            "width": null
          }
        },
        "1fb27afbaa80444aabd80b0c48577319": {
          "model_module": "@jupyter-widgets/base",
          "model_name": "LayoutModel",
          "model_module_version": "1.2.0",
          "state": {
            "_model_module": "@jupyter-widgets/base",
            "_model_module_version": "1.2.0",
            "_model_name": "LayoutModel",
            "_view_count": null,
            "_view_module": "@jupyter-widgets/base",
            "_view_module_version": "1.2.0",
            "_view_name": "LayoutView",
            "align_content": null,
            "align_items": null,
            "align_self": null,
            "border": null,
            "bottom": null,
            "display": null,
            "flex": null,
            "flex_flow": null,
            "grid_area": null,
            "grid_auto_columns": null,
            "grid_auto_flow": null,
            "grid_auto_rows": null,
            "grid_column": null,
            "grid_gap": null,
            "grid_row": null,
            "grid_template_areas": null,
            "grid_template_columns": null,
            "grid_template_rows": null,
            "height": "28px",
            "justify_content": null,
            "justify_items": null,
            "left": null,
            "margin": null,
            "max_height": null,
            "max_width": null,
            "min_height": null,
            "min_width": null,
            "object_fit": null,
            "object_position": null,
            "order": null,
            "overflow": null,
            "overflow_x": null,
            "overflow_y": null,
            "padding": "0px 0px 0px 4px",
            "right": null,
            "top": null,
            "visibility": null,
            "width": "28px"
          }
        },
        "6b051d0b64e344218fcac774ad4c96cf": {
          "model_module": "@jupyter-widgets/controls",
          "model_name": "DescriptionStyleModel",
          "model_module_version": "1.5.0",
          "state": {
            "_model_module": "@jupyter-widgets/controls",
            "_model_module_version": "1.5.0",
            "_model_name": "DescriptionStyleModel",
            "_view_count": null,
            "_view_module": "@jupyter-widgets/base",
            "_view_module_version": "1.2.0",
            "_view_name": "StyleView",
            "description_width": ""
          }
        },
        "e3042e6fc97a4fda925bed887c3fc2df": {
          "model_module": "@jupyter-widgets/base",
          "model_name": "LayoutModel",
          "model_module_version": "1.2.0",
          "state": {
            "_model_module": "@jupyter-widgets/base",
            "_model_module_version": "1.2.0",
            "_model_name": "LayoutModel",
            "_view_count": null,
            "_view_module": "@jupyter-widgets/base",
            "_view_module_version": "1.2.0",
            "_view_name": "LayoutView",
            "align_content": null,
            "align_items": null,
            "align_self": null,
            "border": null,
            "bottom": null,
            "display": null,
            "flex": null,
            "flex_flow": null,
            "grid_area": null,
            "grid_auto_columns": null,
            "grid_auto_flow": null,
            "grid_auto_rows": null,
            "grid_column": null,
            "grid_gap": null,
            "grid_row": null,
            "grid_template_areas": null,
            "grid_template_columns": null,
            "grid_template_rows": null,
            "height": "28px",
            "justify_content": null,
            "justify_items": null,
            "left": null,
            "margin": null,
            "max_height": null,
            "max_width": null,
            "min_height": null,
            "min_width": null,
            "object_fit": null,
            "object_position": null,
            "order": null,
            "overflow": null,
            "overflow_x": null,
            "overflow_y": null,
            "padding": "0px 0px 0px 4px",
            "right": null,
            "top": null,
            "visibility": null,
            "width": "28px"
          }
        },
        "83e0ed35d16c4bc384988ce45717a1cf": {
          "model_module": "@jupyter-widgets/controls",
          "model_name": "DescriptionStyleModel",
          "model_module_version": "1.5.0",
          "state": {
            "_model_module": "@jupyter-widgets/controls",
            "_model_module_version": "1.5.0",
            "_model_name": "DescriptionStyleModel",
            "_view_count": null,
            "_view_module": "@jupyter-widgets/base",
            "_view_module_version": "1.2.0",
            "_view_name": "StyleView",
            "description_width": ""
          }
        },
        "9d4958bdcb974ba5b61f180158ae9f7d": {
          "model_module": "jupyter-leaflet",
          "model_name": "LeafletMapModel",
          "model_module_version": "^0.18",
          "state": {
            "_dom_classes": [],
            "_model_module": "jupyter-leaflet",
            "_model_module_version": "^0.18",
            "_model_name": "LeafletMapModel",
            "_view_count": null,
            "_view_module": "jupyter-leaflet",
            "_view_module_version": "^0.18",
            "_view_name": "LeafletMapView",
            "bottom": 144173,
            "bounce_at_zoom_limits": true,
            "box_zoom": true,
            "center": [
              -17.309378329876807,
              -46.987372202603105
            ],
            "close_popup_on_click": true,
            "controls": [
              "IPY_MODEL_e10ec0eacb304a698130f1eb2e891623",
              "IPY_MODEL_74fa651f846e41d2a9edce1f77c22634",
              "IPY_MODEL_9861398b324b4f5e9700cca6de4358d6",
              "IPY_MODEL_dd19b3eec86744ad890cece35701351e",
              "IPY_MODEL_7fba1fe7be704eecb6fdc8d2228596ec",
              "IPY_MODEL_f1e47e6def174b0bb726d171e6af8f58",
              "IPY_MODEL_c31370bd47204cfc80684762bbafd2a9",
              "IPY_MODEL_04a2a734eb934a8c8894515d47497ad3"
            ],
            "crs": {
              "name": "EPSG3857",
              "custom": false
            },
            "default_style": "IPY_MODEL_8353f8aec726459287cad437efc87ad9",
            "double_click_zoom": true,
            "dragging": true,
            "dragging_style": "IPY_MODEL_38bd66be4a224a328a2ea839705f0a76",
            "east": -46.06292724609376,
            "fullscreen": false,
            "inertia": true,
            "inertia_deceleration": 3000,
            "inertia_max_speed": 1500,
            "interpolation": "bilinear",
            "keyboard": true,
            "keyboard_pan_offset": 80,
            "keyboard_zoom_offset": 1,
            "layers": [
              "IPY_MODEL_8d160c88be3649848d00acf8b718f53a",
              "IPY_MODEL_0555d644991a4bce977e88f9c1196f0e",
              "IPY_MODEL_626a5d85921640ddba26806b0bf25161",
              "IPY_MODEL_e1740b1d4bb74869812c8c8b665f6ab5",
              "IPY_MODEL_2af4a6a9fbce4af4a95a9d85a1e7c078"
            ],
            "layout": "IPY_MODEL_98995b62aa1640f78b91949f40c63da9",
            "left": 96184,
            "max_zoom": 24,
            "min_zoom": null,
            "modisdate": "2024-06-18",
            "north": -16.91625308108259,
            "options": [
              "bounce_at_zoom_limits",
              "box_zoom",
              "center",
              "close_popup_on_click",
              "double_click_zoom",
              "dragging",
              "fullscreen",
              "inertia",
              "inertia_deceleration",
              "inertia_max_speed",
              "interpolation",
              "keyboard",
              "keyboard_pan_offset",
              "keyboard_zoom_offset",
              "max_zoom",
              "min_zoom",
              "prefer_canvas",
              "scroll_wheel_zoom",
              "tap",
              "tap_tolerance",
              "touch_zoom",
              "world_copy_jump",
              "zoom",
              "zoom_animation_threshold",
              "zoom_delta",
              "zoom_snap"
            ],
            "panes": {},
            "prefer_canvas": false,
            "right": 97530,
            "scroll_wheel_zoom": true,
            "south": -17.702903386048423,
            "style": "IPY_MODEL_b501f39b5efc46b781628d34a1d2f266",
            "tap": true,
            "tap_tolerance": 15,
            "top": 143573,
            "touch_zoom": true,
            "west": -47.91137695312501,
            "window_url": "https://th7gveq3b9-496ff2e9c6d22116-0-colab.googleusercontent.com/outputframe.html?vrz=colab_20240614-060104_RC00_643308762",
            "world_copy_jump": false,
            "zoom": 10,
            "zoom_animation_threshold": 4,
            "zoom_delta": 1,
            "zoom_snap": 1
          }
        },
        "e10ec0eacb304a698130f1eb2e891623": {
          "model_module": "jupyter-leaflet",
          "model_name": "LeafletWidgetControlModel",
          "model_module_version": "^0.18",
          "state": {
            "_model_module": "jupyter-leaflet",
            "_model_module_version": "^0.18",
            "_model_name": "LeafletWidgetControlModel",
            "_view_count": null,
            "_view_module": "jupyter-leaflet",
            "_view_module_version": "^0.18",
            "_view_name": "LeafletWidgetControlView",
            "max_height": null,
            "max_width": null,
            "min_height": null,
            "min_width": null,
            "options": [
              "position",
              "transparent_bg"
            ],
            "position": "topleft",
            "transparent_bg": false,
            "widget": "IPY_MODEL_388c5bf857554db4a31d529daa5d2cec"
          }
        },
        "74fa651f846e41d2a9edce1f77c22634": {
          "model_module": "jupyter-leaflet",
          "model_name": "LeafletZoomControlModel",
          "model_module_version": "^0.18",
          "state": {
            "_model_module": "jupyter-leaflet",
            "_model_module_version": "^0.18",
            "_model_name": "LeafletZoomControlModel",
            "_view_count": null,
            "_view_module": "jupyter-leaflet",
            "_view_module_version": "^0.18",
            "_view_name": "LeafletZoomControlView",
            "options": [
              "position",
              "zoom_in_text",
              "zoom_in_title",
              "zoom_out_text",
              "zoom_out_title"
            ],
            "position": "topleft",
            "zoom_in_text": "+",
            "zoom_in_title": "Zoom in",
            "zoom_out_text": "-",
            "zoom_out_title": "Zoom out"
          }
        },
        "9861398b324b4f5e9700cca6de4358d6": {
          "model_module": "jupyter-leaflet",
          "model_name": "LeafletFullScreenControlModel",
          "model_module_version": "^0.18",
          "state": {
            "_model_module": "jupyter-leaflet",
            "_model_module_version": "^0.18",
            "_model_name": "LeafletFullScreenControlModel",
            "_view_count": null,
            "_view_module": "jupyter-leaflet",
            "_view_module_version": "^0.18",
            "_view_name": "LeafletFullScreenControlView",
            "options": [
              "position"
            ],
            "position": "topleft"
          }
        },
        "dd19b3eec86744ad890cece35701351e": {
          "model_module": "jupyter-leaflet",
          "model_name": "LeafletDrawControlModel",
          "model_module_version": "^0.18",
          "state": {
            "_model_module": "jupyter-leaflet",
            "_model_module_version": "^0.18",
            "_model_name": "LeafletDrawControlModel",
            "_view_count": null,
            "_view_module": "jupyter-leaflet",
            "_view_module_version": "^0.18",
            "_view_name": "LeafletDrawControlView",
            "circle": {},
            "circlemarker": {},
            "data": [],
            "edit": true,
            "marker": {
              "shapeOptions": {
                "color": "#3388ff"
              }
            },
            "options": [
              "position"
            ],
            "polygon": {
              "shapeOptions": {}
            },
            "polyline": {
              "shapeOptions": {}
            },
            "position": "topleft",
            "rectangle": {
              "shapeOptions": {
                "color": "#3388ff"
              }
            },
            "remove": true
          }
        },
        "7fba1fe7be704eecb6fdc8d2228596ec": {
          "model_module": "jupyter-leaflet",
          "model_name": "LeafletScaleControlModel",
          "model_module_version": "^0.18",
          "state": {
            "_model_module": "jupyter-leaflet",
            "_model_module_version": "^0.18",
            "_model_name": "LeafletScaleControlModel",
            "_view_count": null,
            "_view_module": "jupyter-leaflet",
            "_view_module_version": "^0.18",
            "_view_name": "LeafletScaleControlView",
            "imperial": true,
            "max_width": 100,
            "metric": true,
            "options": [
              "imperial",
              "max_width",
              "metric",
              "position",
              "update_when_idle"
            ],
            "position": "bottomleft",
            "update_when_idle": false
          }
        },
        "f1e47e6def174b0bb726d171e6af8f58": {
          "model_module": "jupyter-leaflet",
          "model_name": "LeafletMeasureControlModel",
          "model_module_version": "^0.18",
          "state": {
            "_custom_units": {},
            "_model_module": "jupyter-leaflet",
            "_model_module_version": "^0.18",
            "_model_name": "LeafletMeasureControlModel",
            "_view_count": null,
            "_view_module": "jupyter-leaflet",
            "_view_module_version": "^0.18",
            "_view_name": "LeafletMeasureControlView",
            "active_color": "orange",
            "capture_z_index": 10000,
            "completed_color": "#C8F2BE",
            "options": [
              "active_color",
              "capture_z_index",
              "completed_color",
              "popup_options",
              "position",
              "primary_area_unit",
              "primary_length_unit",
              "secondary_area_unit",
              "secondary_length_unit"
            ],
            "popup_options": {
              "className": "leaflet-measure-resultpopup",
              "autoPanPadding": [
                10,
                10
              ]
            },
            "position": "bottomleft",
            "primary_area_unit": "acres",
            "primary_length_unit": "kilometers",
            "secondary_area_unit": null,
            "secondary_length_unit": null
          }
        },
        "c31370bd47204cfc80684762bbafd2a9": {
          "model_module": "jupyter-leaflet",
          "model_name": "LeafletWidgetControlModel",
          "model_module_version": "^0.18",
          "state": {
            "_model_module": "jupyter-leaflet",
            "_model_module_version": "^0.18",
            "_model_name": "LeafletWidgetControlModel",
            "_view_count": null,
            "_view_module": "jupyter-leaflet",
            "_view_module_version": "^0.18",
            "_view_name": "LeafletWidgetControlView",
            "max_height": null,
            "max_width": null,
            "min_height": null,
            "min_width": null,
            "options": [
              "position",
              "transparent_bg"
            ],
            "position": "topright",
            "transparent_bg": false,
            "widget": "IPY_MODEL_27343397be5645cebeb044292accb08c"
          }
        },
        "04a2a734eb934a8c8894515d47497ad3": {
          "model_module": "jupyter-leaflet",
          "model_name": "LeafletAttributionControlModel",
          "model_module_version": "^0.18",
          "state": {
            "_model_module": "jupyter-leaflet",
            "_model_module_version": "^0.18",
            "_model_name": "LeafletAttributionControlModel",
            "_view_count": null,
            "_view_module": "jupyter-leaflet",
            "_view_module_version": "^0.18",
            "_view_name": "LeafletAttributionControlView",
            "options": [
              "position",
              "prefix"
            ],
            "position": "bottomright",
            "prefix": "ipyleaflet"
          }
        },
        "8353f8aec726459287cad437efc87ad9": {
          "model_module": "jupyter-leaflet",
          "model_name": "LeafletMapStyleModel",
          "model_module_version": "^0.18",
          "state": {
            "_model_module": "jupyter-leaflet",
            "_model_module_version": "^0.18",
            "_model_name": "LeafletMapStyleModel",
            "_view_count": null,
            "_view_module": "@jupyter-widgets/base",
            "_view_module_version": "1.2.0",
            "_view_name": "StyleView",
            "cursor": "grab"
          }
        },
        "38bd66be4a224a328a2ea839705f0a76": {
          "model_module": "jupyter-leaflet",
          "model_name": "LeafletMapStyleModel",
          "model_module_version": "^0.18",
          "state": {
            "_model_module": "jupyter-leaflet",
            "_model_module_version": "^0.18",
            "_model_name": "LeafletMapStyleModel",
            "_view_count": null,
            "_view_module": "@jupyter-widgets/base",
            "_view_module_version": "1.2.0",
            "_view_name": "StyleView",
            "cursor": "move"
          }
        },
        "8d160c88be3649848d00acf8b718f53a": {
          "model_module": "jupyter-leaflet",
          "model_name": "LeafletTileLayerModel",
          "model_module_version": "^0.18",
          "state": {
            "_model_module": "jupyter-leaflet",
            "_model_module_version": "^0.18",
            "_model_name": "LeafletTileLayerModel",
            "_view_count": null,
            "_view_module": "jupyter-leaflet",
            "_view_module_version": "^0.18",
            "_view_name": "LeafletTileLayerView",
            "attribution": "&copy; <a href=\"https://www.openstreetmap.org/copyright\">OpenStreetMap</a> contributors",
            "base": true,
            "bottom": true,
            "bounds": null,
            "detect_retina": false,
            "loading": false,
            "max_native_zoom": null,
            "max_zoom": 19,
            "min_native_zoom": null,
            "min_zoom": 1,
            "name": "OpenStreetMap.Mapnik",
            "no_wrap": false,
            "opacity": 1,
            "options": [
              "attribution",
              "bounds",
              "detect_retina",
              "max_native_zoom",
              "max_zoom",
              "min_native_zoom",
              "min_zoom",
              "no_wrap",
              "tile_size",
              "tms",
              "zoom_offset"
            ],
            "pane": "",
            "popup": null,
            "popup_max_height": null,
            "popup_max_width": 300,
            "popup_min_width": 50,
            "show_loading": false,
            "subitems": [],
            "tile_size": 256,
            "tms": false,
            "url": "https://tile.openstreetmap.org/{z}/{x}/{y}.png",
            "visible": true,
            "zoom_offset": 0
          }
        },
        "0555d644991a4bce977e88f9c1196f0e": {
          "model_module": "jupyter-leaflet",
          "model_name": "LeafletTileLayerModel",
          "model_module_version": "^0.18",
          "state": {
            "_model_module": "jupyter-leaflet",
            "_model_module_version": "^0.18",
            "_model_name": "LeafletTileLayerModel",
            "_view_count": null,
            "_view_module": "jupyter-leaflet",
            "_view_module_version": "^0.18",
            "_view_name": "LeafletTileLayerView",
            "attribution": "Esri",
            "base": false,
            "bottom": true,
            "bounds": null,
            "detect_retina": false,
            "loading": false,
            "max_native_zoom": null,
            "max_zoom": 24,
            "min_native_zoom": null,
            "min_zoom": 0,
            "name": "Esri.WorldImagery",
            "no_wrap": false,
            "opacity": 1,
            "options": [
              "attribution",
              "bounds",
              "detect_retina",
              "max_native_zoom",
              "max_zoom",
              "min_native_zoom",
              "min_zoom",
              "no_wrap",
              "tile_size",
              "tms",
              "zoom_offset"
            ],
            "pane": "",
            "popup": null,
            "popup_max_height": null,
            "popup_max_width": 300,
            "popup_min_width": 50,
            "show_loading": false,
            "subitems": [],
            "tile_size": 256,
            "tms": false,
            "url": "https://server.arcgisonline.com/ArcGIS/rest/services/World_Imagery/MapServer/tile/{z}/{y}/{x}",
            "visible": true,
            "zoom_offset": 0
          }
        },
        "626a5d85921640ddba26806b0bf25161": {
          "model_module": "jupyter-leaflet",
          "model_name": "LeafletTileLayerModel",
          "model_module_version": "^0.18",
          "state": {
            "_model_module": "jupyter-leaflet",
            "_model_module_version": "^0.18",
            "_model_name": "LeafletTileLayerModel",
            "_view_count": null,
            "_view_module": "jupyter-leaflet",
            "_view_module_version": "^0.18",
            "_view_name": "LeafletTileLayerView",
            "attribution": "Google Earth Engine",
            "base": false,
            "bottom": true,
            "bounds": null,
            "detect_retina": false,
            "loading": false,
            "max_native_zoom": null,
            "max_zoom": 24,
            "min_native_zoom": null,
            "min_zoom": 0,
            "name": "Imagem RGB",
            "no_wrap": false,
            "opacity": 1,
            "options": [
              "attribution",
              "bounds",
              "detect_retina",
              "max_native_zoom",
              "max_zoom",
              "min_native_zoom",
              "min_zoom",
              "no_wrap",
              "tile_size",
              "tms",
              "zoom_offset"
            ],
            "pane": "",
            "popup": null,
            "popup_max_height": null,
            "popup_max_width": 300,
            "popup_min_width": 50,
            "show_loading": false,
            "subitems": [],
            "tile_size": 256,
            "tms": false,
            "url": "https://earthengine.googleapis.com/v1/projects/ee-projetomivegetacao/maps/185003c13f7264b06577cbcbff891585-9fcfcaf58764989ba4cd925e2b894ee2/tiles/{z}/{x}/{y}",
            "visible": true,
            "zoom_offset": 0
          }
        },
        "e1740b1d4bb74869812c8c8b665f6ab5": {
          "model_module": "jupyter-leaflet",
          "model_name": "LeafletTileLayerModel",
          "model_module_version": "^0.18",
          "state": {
            "_model_module": "jupyter-leaflet",
            "_model_module_version": "^0.18",
            "_model_name": "LeafletTileLayerModel",
            "_view_count": null,
            "_view_module": "jupyter-leaflet",
            "_view_module_version": "^0.18",
            "_view_name": "LeafletTileLayerView",
            "attribution": "Google Earth Engine",
            "base": false,
            "bottom": true,
            "bounds": null,
            "detect_retina": false,
            "loading": false,
            "max_native_zoom": null,
            "max_zoom": 24,
            "min_native_zoom": null,
            "min_zoom": 0,
            "name": "ROI",
            "no_wrap": false,
            "opacity": 1,
            "options": [
              "attribution",
              "bounds",
              "detect_retina",
              "max_native_zoom",
              "max_zoom",
              "min_native_zoom",
              "min_zoom",
              "no_wrap",
              "tile_size",
              "tms",
              "zoom_offset"
            ],
            "pane": "",
            "popup": null,
            "popup_max_height": null,
            "popup_max_width": 300,
            "popup_min_width": 50,
            "show_loading": false,
            "subitems": [],
            "tile_size": 256,
            "tms": false,
            "url": "https://earthengine.googleapis.com/v1/projects/ee-projetomivegetacao/maps/04511bc55b6bda18d58a10dde450c2b1-0e8be69d4ee0927887e1edab7c768340/tiles/{z}/{x}/{y}",
            "visible": true,
            "zoom_offset": 0
          }
        },
        "2af4a6a9fbce4af4a95a9d85a1e7c078": {
          "model_module": "jupyter-leaflet",
          "model_name": "LeafletTileLayerModel",
          "model_module_version": "^0.18",
          "state": {
            "_model_module": "jupyter-leaflet",
            "_model_module_version": "^0.18",
            "_model_name": "LeafletTileLayerModel",
            "_view_count": null,
            "_view_module": "jupyter-leaflet",
            "_view_module_version": "^0.18",
            "_view_name": "LeafletTileLayerView",
            "attribution": "Google Earth Engine",
            "base": false,
            "bottom": true,
            "bounds": null,
            "detect_retina": false,
            "loading": false,
            "max_native_zoom": null,
            "max_zoom": 24,
            "min_native_zoom": null,
            "min_zoom": 0,
            "name": "NDVI",
            "no_wrap": false,
            "opacity": 1,
            "options": [
              "attribution",
              "bounds",
              "detect_retina",
              "max_native_zoom",
              "max_zoom",
              "min_native_zoom",
              "min_zoom",
              "no_wrap",
              "tile_size",
              "tms",
              "zoom_offset"
            ],
            "pane": "",
            "popup": null,
            "popup_max_height": null,
            "popup_max_width": 300,
            "popup_min_width": 50,
            "show_loading": false,
            "subitems": [],
            "tile_size": 256,
            "tms": false,
            "url": "https://earthengine.googleapis.com/v1/projects/ee-projetomivegetacao/maps/452c4142407d6b6826f6232f3dc352ff-fd745786d10dfc7f32085cadf92b38d0/tiles/{z}/{x}/{y}",
            "visible": true,
            "zoom_offset": 0
          }
        },
        "98995b62aa1640f78b91949f40c63da9": {
          "model_module": "@jupyter-widgets/base",
          "model_name": "LayoutModel",
          "model_module_version": "1.2.0",
          "state": {
            "_model_module": "@jupyter-widgets/base",
            "_model_module_version": "1.2.0",
            "_model_name": "LayoutModel",
            "_view_count": null,
            "_view_module": "@jupyter-widgets/base",
            "_view_module_version": "1.2.0",
            "_view_name": "LayoutView",
            "align_content": null,
            "align_items": null,
            "align_self": null,
            "border": null,
            "bottom": null,
            "display": null,
            "flex": null,
            "flex_flow": null,
            "grid_area": null,
            "grid_auto_columns": null,
            "grid_auto_flow": null,
            "grid_auto_rows": null,
            "grid_column": null,
            "grid_gap": null,
            "grid_row": null,
            "grid_template_areas": null,
            "grid_template_columns": null,
            "grid_template_rows": null,
            "height": "600px",
            "justify_content": null,
            "justify_items": null,
            "left": null,
            "margin": null,
            "max_height": null,
            "max_width": null,
            "min_height": null,
            "min_width": null,
            "object_fit": null,
            "object_position": null,
            "order": null,
            "overflow": null,
            "overflow_x": null,
            "overflow_y": null,
            "padding": null,
            "right": null,
            "top": null,
            "visibility": null,
            "width": null
          }
        },
        "b501f39b5efc46b781628d34a1d2f266": {
          "model_module": "jupyter-leaflet",
          "model_name": "LeafletMapStyleModel",
          "model_module_version": "^0.18",
          "state": {
            "_model_module": "jupyter-leaflet",
            "_model_module_version": "^0.18",
            "_model_name": "LeafletMapStyleModel",
            "_view_count": null,
            "_view_module": "@jupyter-widgets/base",
            "_view_module_version": "1.2.0",
            "_view_name": "StyleView",
            "cursor": "grab"
          }
        },
        "388c5bf857554db4a31d529daa5d2cec": {
          "model_module": "@jupyter-widgets/controls",
          "model_name": "HBoxModel",
          "model_module_version": "1.5.0",
          "state": {
            "_dom_classes": [
              "geemap-colab"
            ],
            "_model_module": "@jupyter-widgets/controls",
            "_model_module_version": "1.5.0",
            "_model_name": "HBoxModel",
            "_view_count": null,
            "_view_module": "@jupyter-widgets/controls",
            "_view_module_version": "1.5.0",
            "_view_name": "HBoxView",
            "box_style": "",
            "children": [
              "IPY_MODEL_76622720f7284ca4b4c22ecf02e832d5"
            ],
            "layout": "IPY_MODEL_7c93725941bd4efdab578a8495d11750"
          }
        },
        "27343397be5645cebeb044292accb08c": {
          "model_module": "@jupyter-widgets/controls",
          "model_name": "VBoxModel",
          "model_module_version": "1.5.0",
          "state": {
            "_dom_classes": [
              "geemap-colab"
            ],
            "_model_module": "@jupyter-widgets/controls",
            "_model_module_version": "1.5.0",
            "_model_name": "VBoxModel",
            "_view_count": null,
            "_view_module": "@jupyter-widgets/controls",
            "_view_module_version": "1.5.0",
            "_view_name": "VBoxView",
            "box_style": "",
            "children": [
              "IPY_MODEL_aa4184da17c64a7e8b42c2ce56b72d2e"
            ],
            "layout": "IPY_MODEL_36fd30b927ed4b21bbc6f8f94e4eed07"
          }
        },
        "76622720f7284ca4b4c22ecf02e832d5": {
          "model_module": "@jupyter-widgets/controls",
          "model_name": "ToggleButtonModel",
          "model_module_version": "1.5.0",
          "state": {
            "_dom_classes": [],
            "_model_module": "@jupyter-widgets/controls",
            "_model_module_version": "1.5.0",
            "_model_name": "ToggleButtonModel",
            "_view_count": null,
            "_view_module": "@jupyter-widgets/controls",
            "_view_module_version": "1.5.0",
            "_view_name": "ToggleButtonView",
            "button_style": "",
            "description": "",
            "description_tooltip": null,
            "disabled": false,
            "icon": "globe",
            "layout": "IPY_MODEL_41cdaaae5c4f46f0803cd643e0b2153a",
            "style": "IPY_MODEL_51274a487cea470899d76decbc154393",
            "tooltip": "Search location/data",
            "value": false
          }
        },
        "7c93725941bd4efdab578a8495d11750": {
          "model_module": "@jupyter-widgets/base",
          "model_name": "LayoutModel",
          "model_module_version": "1.2.0",
          "state": {
            "_model_module": "@jupyter-widgets/base",
            "_model_module_version": "1.2.0",
            "_model_name": "LayoutModel",
            "_view_count": null,
            "_view_module": "@jupyter-widgets/base",
            "_view_module_version": "1.2.0",
            "_view_name": "LayoutView",
            "align_content": null,
            "align_items": null,
            "align_self": null,
            "border": null,
            "bottom": null,
            "display": null,
            "flex": null,
            "flex_flow": null,
            "grid_area": null,
            "grid_auto_columns": null,
            "grid_auto_flow": null,
            "grid_auto_rows": null,
            "grid_column": null,
            "grid_gap": null,
            "grid_row": null,
            "grid_template_areas": null,
            "grid_template_columns": null,
            "grid_template_rows": null,
            "height": null,
            "justify_content": null,
            "justify_items": null,
            "left": null,
            "margin": null,
            "max_height": null,
            "max_width": null,
            "min_height": null,
            "min_width": null,
            "object_fit": null,
            "object_position": null,
            "order": null,
            "overflow": null,
            "overflow_x": null,
            "overflow_y": null,
            "padding": null,
            "right": null,
            "top": null,
            "visibility": null,
            "width": null
          }
        },
        "aa4184da17c64a7e8b42c2ce56b72d2e": {
          "model_module": "@jupyter-widgets/controls",
          "model_name": "ToggleButtonModel",
          "model_module_version": "1.5.0",
          "state": {
            "_dom_classes": [],
            "_model_module": "@jupyter-widgets/controls",
            "_model_module_version": "1.5.0",
            "_model_name": "ToggleButtonModel",
            "_view_count": null,
            "_view_module": "@jupyter-widgets/controls",
            "_view_module_version": "1.5.0",
            "_view_name": "ToggleButtonView",
            "button_style": "",
            "description": "",
            "description_tooltip": null,
            "disabled": false,
            "icon": "wrench",
            "layout": "IPY_MODEL_55269e859f4446c7b4cebba9914514ee",
            "style": "IPY_MODEL_35df6aabd6db43d8b153b83e517eb1f0",
            "tooltip": "Toolbar",
            "value": false
          }
        },
        "36fd30b927ed4b21bbc6f8f94e4eed07": {
          "model_module": "@jupyter-widgets/base",
          "model_name": "LayoutModel",
          "model_module_version": "1.2.0",
          "state": {
            "_model_module": "@jupyter-widgets/base",
            "_model_module_version": "1.2.0",
            "_model_name": "LayoutModel",
            "_view_count": null,
            "_view_module": "@jupyter-widgets/base",
            "_view_module_version": "1.2.0",
            "_view_name": "LayoutView",
            "align_content": null,
            "align_items": null,
            "align_self": null,
            "border": null,
            "bottom": null,
            "display": null,
            "flex": null,
            "flex_flow": null,
            "grid_area": null,
            "grid_auto_columns": null,
            "grid_auto_flow": null,
            "grid_auto_rows": null,
            "grid_column": null,
            "grid_gap": null,
            "grid_row": null,
            "grid_template_areas": null,
            "grid_template_columns": null,
            "grid_template_rows": null,
            "height": null,
            "justify_content": null,
            "justify_items": null,
            "left": null,
            "margin": null,
            "max_height": null,
            "max_width": null,
            "min_height": null,
            "min_width": null,
            "object_fit": null,
            "object_position": null,
            "order": null,
            "overflow": null,
            "overflow_x": null,
            "overflow_y": null,
            "padding": null,
            "right": null,
            "top": null,
            "visibility": null,
            "width": null
          }
        },
        "41cdaaae5c4f46f0803cd643e0b2153a": {
          "model_module": "@jupyter-widgets/base",
          "model_name": "LayoutModel",
          "model_module_version": "1.2.0",
          "state": {
            "_model_module": "@jupyter-widgets/base",
            "_model_module_version": "1.2.0",
            "_model_name": "LayoutModel",
            "_view_count": null,
            "_view_module": "@jupyter-widgets/base",
            "_view_module_version": "1.2.0",
            "_view_name": "LayoutView",
            "align_content": null,
            "align_items": null,
            "align_self": null,
            "border": null,
            "bottom": null,
            "display": null,
            "flex": null,
            "flex_flow": null,
            "grid_area": null,
            "grid_auto_columns": null,
            "grid_auto_flow": null,
            "grid_auto_rows": null,
            "grid_column": null,
            "grid_gap": null,
            "grid_row": null,
            "grid_template_areas": null,
            "grid_template_columns": null,
            "grid_template_rows": null,
            "height": "28px",
            "justify_content": null,
            "justify_items": null,
            "left": null,
            "margin": null,
            "max_height": null,
            "max_width": null,
            "min_height": null,
            "min_width": null,
            "object_fit": null,
            "object_position": null,
            "order": null,
            "overflow": null,
            "overflow_x": null,
            "overflow_y": null,
            "padding": "0px 0px 0px 4px",
            "right": null,
            "top": null,
            "visibility": null,
            "width": "28px"
          }
        },
        "51274a487cea470899d76decbc154393": {
          "model_module": "@jupyter-widgets/controls",
          "model_name": "DescriptionStyleModel",
          "model_module_version": "1.5.0",
          "state": {
            "_model_module": "@jupyter-widgets/controls",
            "_model_module_version": "1.5.0",
            "_model_name": "DescriptionStyleModel",
            "_view_count": null,
            "_view_module": "@jupyter-widgets/base",
            "_view_module_version": "1.2.0",
            "_view_name": "StyleView",
            "description_width": ""
          }
        },
        "55269e859f4446c7b4cebba9914514ee": {
          "model_module": "@jupyter-widgets/base",
          "model_name": "LayoutModel",
          "model_module_version": "1.2.0",
          "state": {
            "_model_module": "@jupyter-widgets/base",
            "_model_module_version": "1.2.0",
            "_model_name": "LayoutModel",
            "_view_count": null,
            "_view_module": "@jupyter-widgets/base",
            "_view_module_version": "1.2.0",
            "_view_name": "LayoutView",
            "align_content": null,
            "align_items": null,
            "align_self": null,
            "border": null,
            "bottom": null,
            "display": null,
            "flex": null,
            "flex_flow": null,
            "grid_area": null,
            "grid_auto_columns": null,
            "grid_auto_flow": null,
            "grid_auto_rows": null,
            "grid_column": null,
            "grid_gap": null,
            "grid_row": null,
            "grid_template_areas": null,
            "grid_template_columns": null,
            "grid_template_rows": null,
            "height": "28px",
            "justify_content": null,
            "justify_items": null,
            "left": null,
            "margin": null,
            "max_height": null,
            "max_width": null,
            "min_height": null,
            "min_width": null,
            "object_fit": null,
            "object_position": null,
            "order": null,
            "overflow": null,
            "overflow_x": null,
            "overflow_y": null,
            "padding": "0px 0px 0px 4px",
            "right": null,
            "top": null,
            "visibility": null,
            "width": "28px"
          }
        },
        "35df6aabd6db43d8b153b83e517eb1f0": {
          "model_module": "@jupyter-widgets/controls",
          "model_name": "DescriptionStyleModel",
          "model_module_version": "1.5.0",
          "state": {
            "_model_module": "@jupyter-widgets/controls",
            "_model_module_version": "1.5.0",
            "_model_name": "DescriptionStyleModel",
            "_view_count": null,
            "_view_module": "@jupyter-widgets/base",
            "_view_module_version": "1.2.0",
            "_view_name": "StyleView",
            "description_width": ""
          }
        }
      }
    }
  },
  "nbformat": 4,
  "nbformat_minor": 0
}